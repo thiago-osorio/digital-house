{
 "cells": [
  {
   "cell_type": "markdown",
   "metadata": {},
   "source": [
    "# Importando Bibliotecas"
   ]
  },
  {
   "cell_type": "code",
   "execution_count": 1,
   "metadata": {},
   "outputs": [
    {
     "name": "stderr",
     "output_type": "stream",
     "text": [
      "/Users/thiagoosorio/opt/anaconda3/lib/python3.9/site-packages/xgboost/compat.py:36: FutureWarning: pandas.Int64Index is deprecated and will be removed from pandas in a future version. Use pandas.Index with the appropriate dtype instead.\n",
      "  from pandas import MultiIndex, Int64Index\n"
     ]
    }
   ],
   "source": [
    "import pandas as pd\n",
    "pd.set_option('display.float_format', lambda x: '%.5f' % x)\n",
    "\n",
    "import numpy as np\n",
    "import scipy\n",
    "\n",
    "import plotly.graph_objects as go\n",
    "\n",
    "from sklearn import metrics\n",
    "from sklearn.model_selection import train_test_split, cross_val_score, GridSearchCV, RepeatedKFold\n",
    "from sklearn.preprocessing import StandardScaler\n",
    "from sklearn.pipeline import Pipeline\n",
    "from sklearn.ensemble import AdaBoostRegressor, ExtraTreesRegressor, GradientBoostingRegressor, RandomForestRegressor, HistGradientBoostingRegressor\n",
    "from sklearn.linear_model import LinearRegression, Ridge, Lasso\n",
    "from sklearn.tree import DecisionTreeRegressor\n",
    "from sklearn.svm import SVR\n",
    "\n",
    "from mlxtend.feature_selection import SequentialFeatureSelector\n",
    "\n",
    "from lightgbm import LGBMRegressor\n",
    "\n",
    "from catboost import CatBoostRegressor\n",
    "\n",
    "from prophet import Prophet\n",
    "from prophet.diagnostics import cross_validation, performance_metrics\n",
    "\n",
    "import itertools\n",
    "\n",
    "import warnings\n",
    "warnings.filterwarnings('ignore')"
   ]
  },
  {
   "cell_type": "markdown",
   "metadata": {},
   "source": [
    "# Funções"
   ]
  },
  {
   "cell_type": "code",
   "execution_count": 2,
   "metadata": {},
   "outputs": [],
   "source": [
    "def shapiro_test(data, alpha=0.05):\n",
    "    stat, p = scipy.stats.shapiro(data)\n",
    "    print('p-valor: p=%.3f' % (p))\n",
    "    alpha = alpha\n",
    "    if p > alpha:\n",
    "        print('A amostra parece ser normalmente distribuída Gaussian. Não rejeitamos H0')\n",
    "    else:\n",
    "        print('A amostra NÃO parece ser normalmente distribuiída Gaussian. Rejeitamos H0')\n",
    "    return stat, p"
   ]
  },
  {
   "cell_type": "markdown",
   "metadata": {},
   "source": [
    "# Lendo os Dados"
   ]
  },
  {
   "cell_type": "code",
   "execution_count": 3,
   "metadata": {},
   "outputs": [
    {
     "data": {
      "text/html": [
       "<div>\n",
       "<style scoped>\n",
       "    .dataframe tbody tr th:only-of-type {\n",
       "        vertical-align: middle;\n",
       "    }\n",
       "\n",
       "    .dataframe tbody tr th {\n",
       "        vertical-align: top;\n",
       "    }\n",
       "\n",
       "    .dataframe thead th {\n",
       "        text-align: right;\n",
       "    }\n",
       "</style>\n",
       "<table border=\"1\" class=\"dataframe\">\n",
       "  <thead>\n",
       "    <tr style=\"text-align: right;\">\n",
       "      <th></th>\n",
       "      <th>data</th>\n",
       "      <th>vendas</th>\n",
       "      <th>vendas_Outra_Faculdade</th>\n",
       "      <th>vendas_PUCRIO</th>\n",
       "      <th>vendas_UFABC</th>\n",
       "      <th>vendas_UFF</th>\n",
       "      <th>vendas_UFMG</th>\n",
       "      <th>vendas_UFPE</th>\n",
       "      <th>vendas_UFRJ</th>\n",
       "      <th>vendas_UFSC</th>\n",
       "      <th>...</th>\n",
       "      <th>vendas_Outra_Cidade</th>\n",
       "      <th>vendas_Porto_Alegre</th>\n",
       "      <th>vendas_Recife</th>\n",
       "      <th>vendas_Rio_de_Janeiro</th>\n",
       "      <th>vendas_Salvador</th>\n",
       "      <th>vendas_Santo_Andre</th>\n",
       "      <th>vendas_Sao_Carlos</th>\n",
       "      <th>vendas_Sao_Paulo</th>\n",
       "      <th>trend</th>\n",
       "      <th>seasonal</th>\n",
       "    </tr>\n",
       "  </thead>\n",
       "  <tbody>\n",
       "    <tr>\n",
       "      <th>0</th>\n",
       "      <td>2018-01-01</td>\n",
       "      <td>1819.00000</td>\n",
       "      <td>618.00000</td>\n",
       "      <td>100.00000</td>\n",
       "      <td>17.00000</td>\n",
       "      <td>194.00000</td>\n",
       "      <td>34.00000</td>\n",
       "      <td>71.00000</td>\n",
       "      <td>407.00000</td>\n",
       "      <td>23.00000</td>\n",
       "      <td>...</td>\n",
       "      <td>587.00000</td>\n",
       "      <td>11.00000</td>\n",
       "      <td>51.00000</td>\n",
       "      <td>521.00000</td>\n",
       "      <td>25.00000</td>\n",
       "      <td>9.00000</td>\n",
       "      <td>14.00000</td>\n",
       "      <td>187.00000</td>\n",
       "      <td>NaN</td>\n",
       "      <td>-2401.78443</td>\n",
       "    </tr>\n",
       "    <tr>\n",
       "      <th>1</th>\n",
       "      <td>2018-02-01</td>\n",
       "      <td>2012.00000</td>\n",
       "      <td>652.00000</td>\n",
       "      <td>98.00000</td>\n",
       "      <td>22.00000</td>\n",
       "      <td>199.00000</td>\n",
       "      <td>34.00000</td>\n",
       "      <td>85.00000</td>\n",
       "      <td>492.00000</td>\n",
       "      <td>28.00000</td>\n",
       "      <td>...</td>\n",
       "      <td>654.00000</td>\n",
       "      <td>11.00000</td>\n",
       "      <td>62.00000</td>\n",
       "      <td>592.00000</td>\n",
       "      <td>23.00000</td>\n",
       "      <td>13.00000</td>\n",
       "      <td>14.00000</td>\n",
       "      <td>205.00000</td>\n",
       "      <td>NaN</td>\n",
       "      <td>-1835.22888</td>\n",
       "    </tr>\n",
       "    <tr>\n",
       "      <th>2</th>\n",
       "      <td>2018-03-01</td>\n",
       "      <td>4035.00000</td>\n",
       "      <td>926.00000</td>\n",
       "      <td>229.00000</td>\n",
       "      <td>16.00000</td>\n",
       "      <td>357.00000</td>\n",
       "      <td>46.00000</td>\n",
       "      <td>163.00000</td>\n",
       "      <td>1473.00000</td>\n",
       "      <td>30.00000</td>\n",
       "      <td>...</td>\n",
       "      <td>1103.00000</td>\n",
       "      <td>14.00000</td>\n",
       "      <td>123.00000</td>\n",
       "      <td>1544.00000</td>\n",
       "      <td>22.00000</td>\n",
       "      <td>12.00000</td>\n",
       "      <td>29.00000</td>\n",
       "      <td>282.00000</td>\n",
       "      <td>NaN</td>\n",
       "      <td>935.86834</td>\n",
       "    </tr>\n",
       "    <tr>\n",
       "      <th>3</th>\n",
       "      <td>2018-04-01</td>\n",
       "      <td>4305.00000</td>\n",
       "      <td>1204.00000</td>\n",
       "      <td>189.00000</td>\n",
       "      <td>186.00000</td>\n",
       "      <td>512.00000</td>\n",
       "      <td>96.00000</td>\n",
       "      <td>134.00000</td>\n",
       "      <td>1098.00000</td>\n",
       "      <td>151.00000</td>\n",
       "      <td>...</td>\n",
       "      <td>1299.00000</td>\n",
       "      <td>21.00000</td>\n",
       "      <td>105.00000</td>\n",
       "      <td>1300.00000</td>\n",
       "      <td>38.00000</td>\n",
       "      <td>40.00000</td>\n",
       "      <td>27.00000</td>\n",
       "      <td>359.00000</td>\n",
       "      <td>NaN</td>\n",
       "      <td>670.79890</td>\n",
       "    </tr>\n",
       "    <tr>\n",
       "      <th>4</th>\n",
       "      <td>2018-05-01</td>\n",
       "      <td>3956.00000</td>\n",
       "      <td>1462.00000</td>\n",
       "      <td>176.00000</td>\n",
       "      <td>130.00000</td>\n",
       "      <td>349.00000</td>\n",
       "      <td>212.00000</td>\n",
       "      <td>158.00000</td>\n",
       "      <td>721.00000</td>\n",
       "      <td>122.00000</td>\n",
       "      <td>...</td>\n",
       "      <td>1250.00000</td>\n",
       "      <td>20.00000</td>\n",
       "      <td>110.00000</td>\n",
       "      <td>1065.00000</td>\n",
       "      <td>41.00000</td>\n",
       "      <td>39.00000</td>\n",
       "      <td>31.00000</td>\n",
       "      <td>300.00000</td>\n",
       "      <td>NaN</td>\n",
       "      <td>267.66001</td>\n",
       "    </tr>\n",
       "  </tbody>\n",
       "</table>\n",
       "<p>5 rows × 36 columns</p>\n",
       "</div>"
      ],
      "text/plain": [
       "         data     vendas  vendas_Outra_Faculdade  vendas_PUCRIO  vendas_UFABC  \\\n",
       "0  2018-01-01 1819.00000               618.00000      100.00000      17.00000   \n",
       "1  2018-02-01 2012.00000               652.00000       98.00000      22.00000   \n",
       "2  2018-03-01 4035.00000               926.00000      229.00000      16.00000   \n",
       "3  2018-04-01 4305.00000              1204.00000      189.00000     186.00000   \n",
       "4  2018-05-01 3956.00000              1462.00000      176.00000     130.00000   \n",
       "\n",
       "   vendas_UFF  vendas_UFMG  vendas_UFPE  vendas_UFRJ  vendas_UFSC  ...  \\\n",
       "0   194.00000     34.00000     71.00000    407.00000     23.00000  ...   \n",
       "1   199.00000     34.00000     85.00000    492.00000     28.00000  ...   \n",
       "2   357.00000     46.00000    163.00000   1473.00000     30.00000  ...   \n",
       "3   512.00000     96.00000    134.00000   1098.00000    151.00000  ...   \n",
       "4   349.00000    212.00000    158.00000    721.00000    122.00000  ...   \n",
       "\n",
       "   vendas_Outra_Cidade  vendas_Porto_Alegre  vendas_Recife  \\\n",
       "0            587.00000             11.00000       51.00000   \n",
       "1            654.00000             11.00000       62.00000   \n",
       "2           1103.00000             14.00000      123.00000   \n",
       "3           1299.00000             21.00000      105.00000   \n",
       "4           1250.00000             20.00000      110.00000   \n",
       "\n",
       "   vendas_Rio_de_Janeiro  vendas_Salvador  vendas_Santo_Andre  \\\n",
       "0              521.00000         25.00000             9.00000   \n",
       "1              592.00000         23.00000            13.00000   \n",
       "2             1544.00000         22.00000            12.00000   \n",
       "3             1300.00000         38.00000            40.00000   \n",
       "4             1065.00000         41.00000            39.00000   \n",
       "\n",
       "   vendas_Sao_Carlos  vendas_Sao_Paulo  trend    seasonal  \n",
       "0           14.00000         187.00000    NaN -2401.78443  \n",
       "1           14.00000         205.00000    NaN -1835.22888  \n",
       "2           29.00000         282.00000    NaN   935.86834  \n",
       "3           27.00000         359.00000    NaN   670.79890  \n",
       "4           31.00000         300.00000    NaN   267.66001  \n",
       "\n",
       "[5 rows x 36 columns]"
      ]
     },
     "execution_count": 3,
     "metadata": {},
     "output_type": "execute_result"
    }
   ],
   "source": [
    "df = pd.read_csv('../Dados/df_final.csv')\n",
    "df.head()"
   ]
  },
  {
   "cell_type": "markdown",
   "metadata": {},
   "source": [
    "---\n",
    "# Time Series"
   ]
  },
  {
   "cell_type": "markdown",
   "metadata": {},
   "source": [
    "## Prophet"
   ]
  },
  {
   "cell_type": "code",
   "execution_count": 4,
   "metadata": {},
   "outputs": [],
   "source": [
    "df_prophet = df[['data', 'vendas']]\n",
    "df_prophet.rename(columns={\n",
    "    'data': 'ds',\n",
    "    'vendas': 'y'\n",
    "}, inplace=True)"
   ]
  },
  {
   "cell_type": "code",
   "execution_count": 5,
   "metadata": {},
   "outputs": [
    {
     "name": "stderr",
     "output_type": "stream",
     "text": [
      "15:51:44 - cmdstanpy - INFO - Chain [1] start processing\n",
      "15:51:44 - cmdstanpy - INFO - Chain [1] done processing\n"
     ]
    },
    {
     "data": {
      "text/plain": [
       "<prophet.forecaster.Prophet at 0x7f8408780cd0>"
      ]
     },
     "execution_count": 5,
     "metadata": {},
     "output_type": "execute_result"
    }
   ],
   "source": [
    "model = Prophet()\n",
    "model.fit(df_prophet)"
   ]
  },
  {
   "cell_type": "code",
   "execution_count": 6,
   "metadata": {},
   "outputs": [
    {
     "data": {
      "text/html": [
       "<div>\n",
       "<style scoped>\n",
       "    .dataframe tbody tr th:only-of-type {\n",
       "        vertical-align: middle;\n",
       "    }\n",
       "\n",
       "    .dataframe tbody tr th {\n",
       "        vertical-align: top;\n",
       "    }\n",
       "\n",
       "    .dataframe thead th {\n",
       "        text-align: right;\n",
       "    }\n",
       "</style>\n",
       "<table border=\"1\" class=\"dataframe\">\n",
       "  <thead>\n",
       "    <tr style=\"text-align: right;\">\n",
       "      <th></th>\n",
       "      <th>ds</th>\n",
       "      <th>trend</th>\n",
       "      <th>yhat_lower</th>\n",
       "      <th>yhat_upper</th>\n",
       "      <th>trend_lower</th>\n",
       "      <th>trend_upper</th>\n",
       "      <th>additive_terms</th>\n",
       "      <th>additive_terms_lower</th>\n",
       "      <th>additive_terms_upper</th>\n",
       "      <th>yearly</th>\n",
       "      <th>yearly_lower</th>\n",
       "      <th>yearly_upper</th>\n",
       "      <th>multiplicative_terms</th>\n",
       "      <th>multiplicative_terms_lower</th>\n",
       "      <th>multiplicative_terms_upper</th>\n",
       "      <th>yhat</th>\n",
       "    </tr>\n",
       "  </thead>\n",
       "  <tbody>\n",
       "    <tr>\n",
       "      <th>0</th>\n",
       "      <td>2018-01-01</td>\n",
       "      <td>3032.78718</td>\n",
       "      <td>-374.68029</td>\n",
       "      <td>1825.03558</td>\n",
       "      <td>3032.78718</td>\n",
       "      <td>3032.78718</td>\n",
       "      <td>-2302.05849</td>\n",
       "      <td>-2302.05849</td>\n",
       "      <td>-2302.05849</td>\n",
       "      <td>-2302.05849</td>\n",
       "      <td>-2302.05849</td>\n",
       "      <td>-2302.05849</td>\n",
       "      <td>0.00000</td>\n",
       "      <td>0.00000</td>\n",
       "      <td>0.00000</td>\n",
       "      <td>730.72870</td>\n",
       "    </tr>\n",
       "    <tr>\n",
       "      <th>1</th>\n",
       "      <td>2018-02-01</td>\n",
       "      <td>3198.97342</td>\n",
       "      <td>386.21988</td>\n",
       "      <td>2631.04814</td>\n",
       "      <td>3198.97342</td>\n",
       "      <td>3198.97342</td>\n",
       "      <td>-1617.85729</td>\n",
       "      <td>-1617.85729</td>\n",
       "      <td>-1617.85729</td>\n",
       "      <td>-1617.85729</td>\n",
       "      <td>-1617.85729</td>\n",
       "      <td>-1617.85729</td>\n",
       "      <td>0.00000</td>\n",
       "      <td>0.00000</td>\n",
       "      <td>0.00000</td>\n",
       "      <td>1581.11613</td>\n",
       "    </tr>\n",
       "    <tr>\n",
       "      <th>2</th>\n",
       "      <td>2018-03-01</td>\n",
       "      <td>3349.07712</td>\n",
       "      <td>2539.54397</td>\n",
       "      <td>4743.07994</td>\n",
       "      <td>3349.07712</td>\n",
       "      <td>3349.07712</td>\n",
       "      <td>342.37335</td>\n",
       "      <td>342.37335</td>\n",
       "      <td>342.37335</td>\n",
       "      <td>342.37335</td>\n",
       "      <td>342.37335</td>\n",
       "      <td>342.37335</td>\n",
       "      <td>0.00000</td>\n",
       "      <td>0.00000</td>\n",
       "      <td>0.00000</td>\n",
       "      <td>3691.45047</td>\n",
       "    </tr>\n",
       "    <tr>\n",
       "      <th>3</th>\n",
       "      <td>2018-04-01</td>\n",
       "      <td>3515.26336</td>\n",
       "      <td>2854.35978</td>\n",
       "      <td>5097.56419</td>\n",
       "      <td>3515.26336</td>\n",
       "      <td>3515.26336</td>\n",
       "      <td>491.26316</td>\n",
       "      <td>491.26316</td>\n",
       "      <td>491.26316</td>\n",
       "      <td>491.26316</td>\n",
       "      <td>491.26316</td>\n",
       "      <td>491.26316</td>\n",
       "      <td>0.00000</td>\n",
       "      <td>0.00000</td>\n",
       "      <td>0.00000</td>\n",
       "      <td>4006.52652</td>\n",
       "    </tr>\n",
       "    <tr>\n",
       "      <th>4</th>\n",
       "      <td>2018-05-01</td>\n",
       "      <td>3676.08875</td>\n",
       "      <td>3235.06974</td>\n",
       "      <td>5427.51532</td>\n",
       "      <td>3676.08875</td>\n",
       "      <td>3676.08875</td>\n",
       "      <td>722.67129</td>\n",
       "      <td>722.67129</td>\n",
       "      <td>722.67129</td>\n",
       "      <td>722.67129</td>\n",
       "      <td>722.67129</td>\n",
       "      <td>722.67129</td>\n",
       "      <td>0.00000</td>\n",
       "      <td>0.00000</td>\n",
       "      <td>0.00000</td>\n",
       "      <td>4398.76003</td>\n",
       "    </tr>\n",
       "  </tbody>\n",
       "</table>\n",
       "</div>"
      ],
      "text/plain": [
       "          ds      trend  yhat_lower  yhat_upper  trend_lower  trend_upper  \\\n",
       "0 2018-01-01 3032.78718  -374.68029  1825.03558   3032.78718   3032.78718   \n",
       "1 2018-02-01 3198.97342   386.21988  2631.04814   3198.97342   3198.97342   \n",
       "2 2018-03-01 3349.07712  2539.54397  4743.07994   3349.07712   3349.07712   \n",
       "3 2018-04-01 3515.26336  2854.35978  5097.56419   3515.26336   3515.26336   \n",
       "4 2018-05-01 3676.08875  3235.06974  5427.51532   3676.08875   3676.08875   \n",
       "\n",
       "   additive_terms  additive_terms_lower  additive_terms_upper      yearly  \\\n",
       "0     -2302.05849           -2302.05849           -2302.05849 -2302.05849   \n",
       "1     -1617.85729           -1617.85729           -1617.85729 -1617.85729   \n",
       "2       342.37335             342.37335             342.37335   342.37335   \n",
       "3       491.26316             491.26316             491.26316   491.26316   \n",
       "4       722.67129             722.67129             722.67129   722.67129   \n",
       "\n",
       "   yearly_lower  yearly_upper  multiplicative_terms  \\\n",
       "0   -2302.05849   -2302.05849               0.00000   \n",
       "1   -1617.85729   -1617.85729               0.00000   \n",
       "2     342.37335     342.37335               0.00000   \n",
       "3     491.26316     491.26316               0.00000   \n",
       "4     722.67129     722.67129               0.00000   \n",
       "\n",
       "   multiplicative_terms_lower  multiplicative_terms_upper       yhat  \n",
       "0                     0.00000                     0.00000  730.72870  \n",
       "1                     0.00000                     0.00000 1581.11613  \n",
       "2                     0.00000                     0.00000 3691.45047  \n",
       "3                     0.00000                     0.00000 4006.52652  \n",
       "4                     0.00000                     0.00000 4398.76003  "
      ]
     },
     "execution_count": 6,
     "metadata": {},
     "output_type": "execute_result"
    }
   ],
   "source": [
    "forecast = model.predict(df_prophet)\n",
    "forecast.head()"
   ]
  },
  {
   "cell_type": "code",
   "execution_count": 7,
   "metadata": {},
   "outputs": [
    {
     "name": "stdout",
     "output_type": "stream",
     "text": [
      "\n",
      "      EQM: 764752.27\n",
      "      REQM: 874.5\n",
      "      MAD: 696.18\n",
      "      MAPE: 10.57%\n",
      "      \n"
     ]
    }
   ],
   "source": [
    "mse = metrics.mean_squared_error(df_prophet['y'], forecast['yhat'])\n",
    "rmse = metrics.mean_squared_error(df_prophet['y'], forecast['yhat'], squared=False)\n",
    "mad = metrics.mean_absolute_error(df_prophet['y'], forecast['yhat'])\n",
    "mape = metrics.mean_absolute_percentage_error(df_prophet['y'], forecast['yhat'])\n",
    "\n",
    "print(f'''\n",
    "      EQM: {round(mse,2)}\n",
    "      REQM: {round(rmse,2)}\n",
    "      MAD: {round(mad,2)}\n",
    "      MAPE: {round(mape*100,2)}%\n",
    "      ''')"
   ]
  },
  {
   "cell_type": "code",
   "execution_count": 8,
   "metadata": {},
   "outputs": [
    {
     "data": {
      "application/vnd.plotly.v1+json": {
       "config": {
        "plotlyServerURL": "https://plot.ly"
       },
       "data": [
        {
         "marker": {
          "color": "orange"
         },
         "name": "Previsto",
         "type": "scatter",
         "x": [
          "2018-01-01T00:00:00",
          "2018-02-01T00:00:00",
          "2018-03-01T00:00:00",
          "2018-04-01T00:00:00",
          "2018-05-01T00:00:00",
          "2018-06-01T00:00:00",
          "2018-07-01T00:00:00",
          "2018-08-01T00:00:00",
          "2018-09-01T00:00:00",
          "2018-10-01T00:00:00",
          "2018-11-01T00:00:00",
          "2018-12-01T00:00:00",
          "2019-01-01T00:00:00",
          "2019-02-01T00:00:00",
          "2019-03-01T00:00:00",
          "2019-04-01T00:00:00",
          "2019-05-01T00:00:00",
          "2019-06-01T00:00:00",
          "2019-07-01T00:00:00",
          "2019-08-01T00:00:00",
          "2019-09-01T00:00:00",
          "2019-10-01T00:00:00",
          "2019-11-01T00:00:00",
          "2019-12-01T00:00:00",
          "2020-01-01T00:00:00",
          "2020-02-01T00:00:00",
          "2020-03-01T00:00:00",
          "2020-04-01T00:00:00",
          "2020-05-01T00:00:00",
          "2020-06-01T00:00:00",
          "2020-07-01T00:00:00",
          "2020-08-01T00:00:00",
          "2020-09-01T00:00:00",
          "2020-10-01T00:00:00",
          "2020-11-01T00:00:00",
          "2020-12-01T00:00:00",
          "2021-01-01T00:00:00",
          "2021-02-01T00:00:00",
          "2021-03-01T00:00:00",
          "2021-04-01T00:00:00",
          "2021-05-01T00:00:00",
          "2021-06-01T00:00:00",
          "2021-07-01T00:00:00",
          "2021-08-01T00:00:00",
          "2021-09-01T00:00:00",
          "2021-10-01T00:00:00",
          "2021-11-01T00:00:00",
          "2021-12-01T00:00:00",
          "2022-01-01T00:00:00",
          "2022-02-01T00:00:00",
          "2022-03-01T00:00:00",
          "2022-04-01T00:00:00"
         ],
         "y": [
          730.7286972101583,
          1581.1161261372315,
          3691.4504687823537,
          4006.5265199683463,
          4398.760033396494,
          4333.839885531525,
          2840.2519725288194,
          4041.3277828710648,
          5440.608961170399,
          6050.330398068612,
          6626.581440074879,
          4443.306682778974,
          2863.7745956240497,
          3184.1000965413896,
          5161.420607064007,
          6037.637010664606,
          6882.078442905203,
          6572.476225025005,
          4798.79167710104,
          5574.7530546391545,
          6987.739238520131,
          7930.982775434005,
          9115.543880293088,
          6674.041871483798,
          4982.214248077867,
          4775.21504470418,
          8611.831961355247,
          7831.80856507218,
          7279.341854980553,
          7660.094351315197,
          6711.548178318011,
          8781.115653086452,
          10197.039856913112,
          10173.435852211014,
          9506.317066513368,
          7792.105480929255,
          6415.461216918651,
          7797.96749728049,
          10063.232105296389,
          9825.931226633042,
          9752.241148091234,
          9917.448978681437,
          8699.03412768974,
          10331.440029732774,
          11731.65063533164,
          12018.825073633208,
          11977.536117416728,
          10036.679200172943,
          8562.257151970502,
          9412.579148354967,
          11522.854390631388,
          11837.865009095989
         ]
        },
        {
         "marker": {
          "color": "gray"
         },
         "name": "Real",
         "type": "scatter",
         "x": [
          "2018-01-01",
          "2018-02-01",
          "2018-03-01",
          "2018-04-01",
          "2018-05-01",
          "2018-06-01",
          "2018-07-01",
          "2018-08-01",
          "2018-09-01",
          "2018-10-01",
          "2018-11-01",
          "2018-12-01",
          "2019-01-01",
          "2019-02-01",
          "2019-03-01",
          "2019-04-01",
          "2019-05-01",
          "2019-06-01",
          "2019-07-01",
          "2019-08-01",
          "2019-09-01",
          "2019-10-01",
          "2019-11-01",
          "2019-12-01",
          "2020-01-01",
          "2020-02-01",
          "2020-03-01",
          "2020-04-01",
          "2020-05-01",
          "2020-06-01",
          "2020-07-01",
          "2020-08-01",
          "2020-09-01",
          "2020-10-01",
          "2020-11-01",
          "2020-12-01",
          "2021-01-01",
          "2021-02-01",
          "2021-03-01",
          "2021-04-01",
          "2021-05-01",
          "2021-06-01",
          "2021-07-01",
          "2021-08-01",
          "2021-09-01",
          "2021-10-01",
          "2021-11-01",
          "2021-12-01",
          "2022-01-01",
          "2022-02-01",
          "2022-03-01",
          "2022-04-01"
         ],
         "y": [
          1819,
          2012,
          4035,
          4305,
          3956,
          3962,
          2875,
          3959,
          4566,
          5079,
          5645,
          3668,
          2782,
          3044,
          5651,
          6585,
          6993,
          6719,
          4710,
          5675,
          7907,
          9058,
          9868,
          7035,
          4959,
          5072,
          7913,
          6991,
          6098,
          6320,
          5158,
          7536,
          9926,
          10549,
          9512,
          7527,
          6238,
          8189,
          11679,
          11447,
          11263,
          11480,
          10307,
          11559,
          11959,
          11491,
          12203,
          10718,
          7757,
          8433,
          9770,
          10208
         ]
        }
       ],
       "layout": {
        "font": {
         "color": "black"
        },
        "template": {
         "data": {
          "bar": [
           {
            "error_x": {
             "color": "#2a3f5f"
            },
            "error_y": {
             "color": "#2a3f5f"
            },
            "marker": {
             "line": {
              "color": "#E5ECF6",
              "width": 0.5
             },
             "pattern": {
              "fillmode": "overlay",
              "size": 10,
              "solidity": 0.2
             }
            },
            "type": "bar"
           }
          ],
          "barpolar": [
           {
            "marker": {
             "line": {
              "color": "#E5ECF6",
              "width": 0.5
             },
             "pattern": {
              "fillmode": "overlay",
              "size": 10,
              "solidity": 0.2
             }
            },
            "type": "barpolar"
           }
          ],
          "carpet": [
           {
            "aaxis": {
             "endlinecolor": "#2a3f5f",
             "gridcolor": "white",
             "linecolor": "white",
             "minorgridcolor": "white",
             "startlinecolor": "#2a3f5f"
            },
            "baxis": {
             "endlinecolor": "#2a3f5f",
             "gridcolor": "white",
             "linecolor": "white",
             "minorgridcolor": "white",
             "startlinecolor": "#2a3f5f"
            },
            "type": "carpet"
           }
          ],
          "choropleth": [
           {
            "colorbar": {
             "outlinewidth": 0,
             "ticks": ""
            },
            "type": "choropleth"
           }
          ],
          "contour": [
           {
            "colorbar": {
             "outlinewidth": 0,
             "ticks": ""
            },
            "colorscale": [
             [
              0,
              "#0d0887"
             ],
             [
              0.1111111111111111,
              "#46039f"
             ],
             [
              0.2222222222222222,
              "#7201a8"
             ],
             [
              0.3333333333333333,
              "#9c179e"
             ],
             [
              0.4444444444444444,
              "#bd3786"
             ],
             [
              0.5555555555555556,
              "#d8576b"
             ],
             [
              0.6666666666666666,
              "#ed7953"
             ],
             [
              0.7777777777777778,
              "#fb9f3a"
             ],
             [
              0.8888888888888888,
              "#fdca26"
             ],
             [
              1,
              "#f0f921"
             ]
            ],
            "type": "contour"
           }
          ],
          "contourcarpet": [
           {
            "colorbar": {
             "outlinewidth": 0,
             "ticks": ""
            },
            "type": "contourcarpet"
           }
          ],
          "heatmap": [
           {
            "colorbar": {
             "outlinewidth": 0,
             "ticks": ""
            },
            "colorscale": [
             [
              0,
              "#0d0887"
             ],
             [
              0.1111111111111111,
              "#46039f"
             ],
             [
              0.2222222222222222,
              "#7201a8"
             ],
             [
              0.3333333333333333,
              "#9c179e"
             ],
             [
              0.4444444444444444,
              "#bd3786"
             ],
             [
              0.5555555555555556,
              "#d8576b"
             ],
             [
              0.6666666666666666,
              "#ed7953"
             ],
             [
              0.7777777777777778,
              "#fb9f3a"
             ],
             [
              0.8888888888888888,
              "#fdca26"
             ],
             [
              1,
              "#f0f921"
             ]
            ],
            "type": "heatmap"
           }
          ],
          "heatmapgl": [
           {
            "colorbar": {
             "outlinewidth": 0,
             "ticks": ""
            },
            "colorscale": [
             [
              0,
              "#0d0887"
             ],
             [
              0.1111111111111111,
              "#46039f"
             ],
             [
              0.2222222222222222,
              "#7201a8"
             ],
             [
              0.3333333333333333,
              "#9c179e"
             ],
             [
              0.4444444444444444,
              "#bd3786"
             ],
             [
              0.5555555555555556,
              "#d8576b"
             ],
             [
              0.6666666666666666,
              "#ed7953"
             ],
             [
              0.7777777777777778,
              "#fb9f3a"
             ],
             [
              0.8888888888888888,
              "#fdca26"
             ],
             [
              1,
              "#f0f921"
             ]
            ],
            "type": "heatmapgl"
           }
          ],
          "histogram": [
           {
            "marker": {
             "pattern": {
              "fillmode": "overlay",
              "size": 10,
              "solidity": 0.2
             }
            },
            "type": "histogram"
           }
          ],
          "histogram2d": [
           {
            "colorbar": {
             "outlinewidth": 0,
             "ticks": ""
            },
            "colorscale": [
             [
              0,
              "#0d0887"
             ],
             [
              0.1111111111111111,
              "#46039f"
             ],
             [
              0.2222222222222222,
              "#7201a8"
             ],
             [
              0.3333333333333333,
              "#9c179e"
             ],
             [
              0.4444444444444444,
              "#bd3786"
             ],
             [
              0.5555555555555556,
              "#d8576b"
             ],
             [
              0.6666666666666666,
              "#ed7953"
             ],
             [
              0.7777777777777778,
              "#fb9f3a"
             ],
             [
              0.8888888888888888,
              "#fdca26"
             ],
             [
              1,
              "#f0f921"
             ]
            ],
            "type": "histogram2d"
           }
          ],
          "histogram2dcontour": [
           {
            "colorbar": {
             "outlinewidth": 0,
             "ticks": ""
            },
            "colorscale": [
             [
              0,
              "#0d0887"
             ],
             [
              0.1111111111111111,
              "#46039f"
             ],
             [
              0.2222222222222222,
              "#7201a8"
             ],
             [
              0.3333333333333333,
              "#9c179e"
             ],
             [
              0.4444444444444444,
              "#bd3786"
             ],
             [
              0.5555555555555556,
              "#d8576b"
             ],
             [
              0.6666666666666666,
              "#ed7953"
             ],
             [
              0.7777777777777778,
              "#fb9f3a"
             ],
             [
              0.8888888888888888,
              "#fdca26"
             ],
             [
              1,
              "#f0f921"
             ]
            ],
            "type": "histogram2dcontour"
           }
          ],
          "mesh3d": [
           {
            "colorbar": {
             "outlinewidth": 0,
             "ticks": ""
            },
            "type": "mesh3d"
           }
          ],
          "parcoords": [
           {
            "line": {
             "colorbar": {
              "outlinewidth": 0,
              "ticks": ""
             }
            },
            "type": "parcoords"
           }
          ],
          "pie": [
           {
            "automargin": true,
            "type": "pie"
           }
          ],
          "scatter": [
           {
            "marker": {
             "colorbar": {
              "outlinewidth": 0,
              "ticks": ""
             }
            },
            "type": "scatter"
           }
          ],
          "scatter3d": [
           {
            "line": {
             "colorbar": {
              "outlinewidth": 0,
              "ticks": ""
             }
            },
            "marker": {
             "colorbar": {
              "outlinewidth": 0,
              "ticks": ""
             }
            },
            "type": "scatter3d"
           }
          ],
          "scattercarpet": [
           {
            "marker": {
             "colorbar": {
              "outlinewidth": 0,
              "ticks": ""
             }
            },
            "type": "scattercarpet"
           }
          ],
          "scattergeo": [
           {
            "marker": {
             "colorbar": {
              "outlinewidth": 0,
              "ticks": ""
             }
            },
            "type": "scattergeo"
           }
          ],
          "scattergl": [
           {
            "marker": {
             "colorbar": {
              "outlinewidth": 0,
              "ticks": ""
             }
            },
            "type": "scattergl"
           }
          ],
          "scattermapbox": [
           {
            "marker": {
             "colorbar": {
              "outlinewidth": 0,
              "ticks": ""
             }
            },
            "type": "scattermapbox"
           }
          ],
          "scatterpolar": [
           {
            "marker": {
             "colorbar": {
              "outlinewidth": 0,
              "ticks": ""
             }
            },
            "type": "scatterpolar"
           }
          ],
          "scatterpolargl": [
           {
            "marker": {
             "colorbar": {
              "outlinewidth": 0,
              "ticks": ""
             }
            },
            "type": "scatterpolargl"
           }
          ],
          "scatterternary": [
           {
            "marker": {
             "colorbar": {
              "outlinewidth": 0,
              "ticks": ""
             }
            },
            "type": "scatterternary"
           }
          ],
          "surface": [
           {
            "colorbar": {
             "outlinewidth": 0,
             "ticks": ""
            },
            "colorscale": [
             [
              0,
              "#0d0887"
             ],
             [
              0.1111111111111111,
              "#46039f"
             ],
             [
              0.2222222222222222,
              "#7201a8"
             ],
             [
              0.3333333333333333,
              "#9c179e"
             ],
             [
              0.4444444444444444,
              "#bd3786"
             ],
             [
              0.5555555555555556,
              "#d8576b"
             ],
             [
              0.6666666666666666,
              "#ed7953"
             ],
             [
              0.7777777777777778,
              "#fb9f3a"
             ],
             [
              0.8888888888888888,
              "#fdca26"
             ],
             [
              1,
              "#f0f921"
             ]
            ],
            "type": "surface"
           }
          ],
          "table": [
           {
            "cells": {
             "fill": {
              "color": "#EBF0F8"
             },
             "line": {
              "color": "white"
             }
            },
            "header": {
             "fill": {
              "color": "#C8D4E3"
             },
             "line": {
              "color": "white"
             }
            },
            "type": "table"
           }
          ]
         },
         "layout": {
          "annotationdefaults": {
           "arrowcolor": "#2a3f5f",
           "arrowhead": 0,
           "arrowwidth": 1
          },
          "autotypenumbers": "strict",
          "coloraxis": {
           "colorbar": {
            "outlinewidth": 0,
            "ticks": ""
           }
          },
          "colorscale": {
           "diverging": [
            [
             0,
             "#8e0152"
            ],
            [
             0.1,
             "#c51b7d"
            ],
            [
             0.2,
             "#de77ae"
            ],
            [
             0.3,
             "#f1b6da"
            ],
            [
             0.4,
             "#fde0ef"
            ],
            [
             0.5,
             "#f7f7f7"
            ],
            [
             0.6,
             "#e6f5d0"
            ],
            [
             0.7,
             "#b8e186"
            ],
            [
             0.8,
             "#7fbc41"
            ],
            [
             0.9,
             "#4d9221"
            ],
            [
             1,
             "#276419"
            ]
           ],
           "sequential": [
            [
             0,
             "#0d0887"
            ],
            [
             0.1111111111111111,
             "#46039f"
            ],
            [
             0.2222222222222222,
             "#7201a8"
            ],
            [
             0.3333333333333333,
             "#9c179e"
            ],
            [
             0.4444444444444444,
             "#bd3786"
            ],
            [
             0.5555555555555556,
             "#d8576b"
            ],
            [
             0.6666666666666666,
             "#ed7953"
            ],
            [
             0.7777777777777778,
             "#fb9f3a"
            ],
            [
             0.8888888888888888,
             "#fdca26"
            ],
            [
             1,
             "#f0f921"
            ]
           ],
           "sequentialminus": [
            [
             0,
             "#0d0887"
            ],
            [
             0.1111111111111111,
             "#46039f"
            ],
            [
             0.2222222222222222,
             "#7201a8"
            ],
            [
             0.3333333333333333,
             "#9c179e"
            ],
            [
             0.4444444444444444,
             "#bd3786"
            ],
            [
             0.5555555555555556,
             "#d8576b"
            ],
            [
             0.6666666666666666,
             "#ed7953"
            ],
            [
             0.7777777777777778,
             "#fb9f3a"
            ],
            [
             0.8888888888888888,
             "#fdca26"
            ],
            [
             1,
             "#f0f921"
            ]
           ]
          },
          "colorway": [
           "#636efa",
           "#EF553B",
           "#00cc96",
           "#ab63fa",
           "#FFA15A",
           "#19d3f3",
           "#FF6692",
           "#B6E880",
           "#FF97FF",
           "#FECB52"
          ],
          "font": {
           "color": "#2a3f5f"
          },
          "geo": {
           "bgcolor": "white",
           "lakecolor": "white",
           "landcolor": "#E5ECF6",
           "showlakes": true,
           "showland": true,
           "subunitcolor": "white"
          },
          "hoverlabel": {
           "align": "left"
          },
          "hovermode": "closest",
          "mapbox": {
           "style": "light"
          },
          "paper_bgcolor": "white",
          "plot_bgcolor": "#E5ECF6",
          "polar": {
           "angularaxis": {
            "gridcolor": "white",
            "linecolor": "white",
            "ticks": ""
           },
           "bgcolor": "#E5ECF6",
           "radialaxis": {
            "gridcolor": "white",
            "linecolor": "white",
            "ticks": ""
           }
          },
          "scene": {
           "xaxis": {
            "backgroundcolor": "#E5ECF6",
            "gridcolor": "white",
            "gridwidth": 2,
            "linecolor": "white",
            "showbackground": true,
            "ticks": "",
            "zerolinecolor": "white"
           },
           "yaxis": {
            "backgroundcolor": "#E5ECF6",
            "gridcolor": "white",
            "gridwidth": 2,
            "linecolor": "white",
            "showbackground": true,
            "ticks": "",
            "zerolinecolor": "white"
           },
           "zaxis": {
            "backgroundcolor": "#E5ECF6",
            "gridcolor": "white",
            "gridwidth": 2,
            "linecolor": "white",
            "showbackground": true,
            "ticks": "",
            "zerolinecolor": "white"
           }
          },
          "shapedefaults": {
           "line": {
            "color": "#2a3f5f"
           }
          },
          "ternary": {
           "aaxis": {
            "gridcolor": "white",
            "linecolor": "white",
            "ticks": ""
           },
           "baxis": {
            "gridcolor": "white",
            "linecolor": "white",
            "ticks": ""
           },
           "bgcolor": "#E5ECF6",
           "caxis": {
            "gridcolor": "white",
            "linecolor": "white",
            "ticks": ""
           }
          },
          "title": {
           "x": 0.05
          },
          "xaxis": {
           "automargin": true,
           "gridcolor": "white",
           "linecolor": "white",
           "ticks": "",
           "title": {
            "standoff": 15
           },
           "zerolinecolor": "white",
           "zerolinewidth": 2
          },
          "yaxis": {
           "automargin": true,
           "gridcolor": "white",
           "linecolor": "white",
           "ticks": "",
           "title": {
            "standoff": 15
           },
           "zerolinecolor": "white",
           "zerolinewidth": 2
          }
         }
        },
        "title": {
         "text": "Real vs. Previsto (Prophet)"
        }
       }
      }
     },
     "metadata": {},
     "output_type": "display_data"
    }
   ],
   "source": [
    "fig = go.Figure(data=[\n",
    "    go.Scatter(name='Previsto',x=forecast['ds'], y=forecast['yhat'], marker={'color': 'orange'}),\n",
    "    go.Scatter(name='Real', x=df_prophet['ds'], y=df_prophet['y'], marker={'color': 'gray'})\n",
    "    ])\n",
    "fig.update_layout(font=dict(color='black'), title_text='Real vs. Previsto (Prophet)')\n",
    "fig.show()"
   ]
  },
  {
   "cell_type": "markdown",
   "metadata": {},
   "source": [
    "### Tuning"
   ]
  },
  {
   "cell_type": "code",
   "execution_count": 9,
   "metadata": {},
   "outputs": [],
   "source": [
    "param_grid = {  \n",
    "    'changepoint_prior_scale': [0.8, 1.0],\n",
    "    'seasonality_prior_scale': [0.8, 0.9, 1.0],\n",
    "    'seasonality_mode': ['additive', 'multiplicative']\n",
    "}"
   ]
  },
  {
   "cell_type": "code",
   "execution_count": 10,
   "metadata": {},
   "outputs": [],
   "source": [
    "all_params = [dict(zip(param_grid.keys(), v)) for v in itertools.product(*param_grid.values())]"
   ]
  },
  {
   "cell_type": "code",
   "execution_count": 11,
   "metadata": {},
   "outputs": [
    {
     "name": "stderr",
     "output_type": "stream",
     "text": [
      "15:51:45 - cmdstanpy - INFO - Chain [1] start processing\n",
      "15:51:46 - cmdstanpy - INFO - Chain [1] done processing\n",
      "15:51:48 - cmdstanpy - INFO - Chain [1] start processing\n",
      "15:51:48 - cmdstanpy - INFO - Chain [1] start processing\n",
      "15:51:49 - cmdstanpy - INFO - Chain [1] done processing\n",
      "15:51:49 - cmdstanpy - INFO - Chain [1] done processing\n",
      "15:51:49 - cmdstanpy - INFO - deleting tmpfiles dir: /var/folders/zm/3bssg1p14lj63wq1qny6y2qh0000gn/T/tmp0hapl9xo\n",
      "15:51:49 - cmdstanpy - INFO - deleting tmpfiles dir: /var/folders/zm/3bssg1p14lj63wq1qny6y2qh0000gn/T/tmpue20r2k7\n",
      "15:51:49 - cmdstanpy - INFO - done\n",
      "15:51:49 - cmdstanpy - INFO - done\n",
      "15:51:49 - cmdstanpy - INFO - Chain [1] start processing\n",
      "15:51:50 - cmdstanpy - INFO - Chain [1] done processing\n",
      "15:51:52 - cmdstanpy - INFO - Chain [1] start processing\n",
      "15:51:52 - cmdstanpy - INFO - Chain [1] start processing\n",
      "15:51:53 - cmdstanpy - INFO - Chain [1] done processing\n",
      "15:51:53 - cmdstanpy - INFO - Chain [1] done processing\n",
      "15:51:53 - cmdstanpy - INFO - deleting tmpfiles dir: /var/folders/zm/3bssg1p14lj63wq1qny6y2qh0000gn/T/tmpxzofq1ku\n",
      "15:51:53 - cmdstanpy - INFO - deleting tmpfiles dir: /var/folders/zm/3bssg1p14lj63wq1qny6y2qh0000gn/T/tmpanco1xdh\n",
      "15:51:53 - cmdstanpy - INFO - done\n",
      "15:51:53 - cmdstanpy - INFO - done\n",
      "15:51:53 - cmdstanpy - INFO - Chain [1] start processing\n",
      "15:51:54 - cmdstanpy - INFO - Chain [1] done processing\n",
      "15:51:56 - cmdstanpy - INFO - Chain [1] start processing\n",
      "15:51:56 - cmdstanpy - INFO - Chain [1] start processing\n",
      "15:51:57 - cmdstanpy - INFO - Chain [1] done processing\n",
      "15:51:57 - cmdstanpy - INFO - Chain [1] done processing\n",
      "15:51:58 - cmdstanpy - INFO - deleting tmpfiles dir: /var/folders/zm/3bssg1p14lj63wq1qny6y2qh0000gn/T/tmphquk7pcx\n",
      "15:51:58 - cmdstanpy - INFO - deleting tmpfiles dir: /var/folders/zm/3bssg1p14lj63wq1qny6y2qh0000gn/T/tmpq8f82nm2\n",
      "15:51:58 - cmdstanpy - INFO - done\n",
      "15:51:58 - cmdstanpy - INFO - done\n",
      "15:51:58 - cmdstanpy - INFO - Chain [1] start processing\n",
      "15:51:58 - cmdstanpy - INFO - Chain [1] done processing\n",
      "15:52:00 - cmdstanpy - INFO - Chain [1] start processing\n",
      "15:52:00 - cmdstanpy - INFO - Chain [1] start processing\n",
      "15:52:01 - cmdstanpy - INFO - Chain [1] done processing\n",
      "15:52:01 - cmdstanpy - INFO - Chain [1] done processing\n",
      "15:52:01 - cmdstanpy - INFO - deleting tmpfiles dir: /var/folders/zm/3bssg1p14lj63wq1qny6y2qh0000gn/T/tmpj_ktlj8v\n",
      "15:52:01 - cmdstanpy - INFO - deleting tmpfiles dir: /var/folders/zm/3bssg1p14lj63wq1qny6y2qh0000gn/T/tmp904dc6g4\n",
      "15:52:01 - cmdstanpy - INFO - done\n",
      "15:52:01 - cmdstanpy - INFO - done\n",
      "15:52:02 - cmdstanpy - INFO - Chain [1] start processing\n",
      "15:52:02 - cmdstanpy - INFO - Chain [1] done processing\n",
      "15:52:04 - cmdstanpy - INFO - Chain [1] start processing\n",
      "15:52:04 - cmdstanpy - INFO - Chain [1] start processing\n",
      "15:52:05 - cmdstanpy - INFO - Chain [1] done processing\n",
      "15:52:05 - cmdstanpy - INFO - Chain [1] done processing\n",
      "15:52:05 - cmdstanpy - INFO - deleting tmpfiles dir: /var/folders/zm/3bssg1p14lj63wq1qny6y2qh0000gn/T/tmplwuksyj6\n",
      "15:52:05 - cmdstanpy - INFO - deleting tmpfiles dir: /var/folders/zm/3bssg1p14lj63wq1qny6y2qh0000gn/T/tmpgyveod6m\n",
      "15:52:05 - cmdstanpy - INFO - done\n",
      "15:52:05 - cmdstanpy - INFO - done\n",
      "15:52:05 - cmdstanpy - INFO - Chain [1] start processing\n",
      "15:52:06 - cmdstanpy - INFO - Chain [1] done processing\n",
      "15:52:08 - cmdstanpy - INFO - Chain [1] start processing\n",
      "15:52:08 - cmdstanpy - INFO - Chain [1] start processing\n",
      "15:52:08 - cmdstanpy - INFO - Chain [1] done processing\n",
      "15:52:08 - cmdstanpy - INFO - Chain [1] done processing\n",
      "15:52:09 - cmdstanpy - INFO - deleting tmpfiles dir: /var/folders/zm/3bssg1p14lj63wq1qny6y2qh0000gn/T/tmpdt2vtpb1\n",
      "15:52:09 - cmdstanpy - INFO - deleting tmpfiles dir: /var/folders/zm/3bssg1p14lj63wq1qny6y2qh0000gn/T/tmpb_fouhl_\n",
      "15:52:09 - cmdstanpy - INFO - done\n",
      "15:52:09 - cmdstanpy - INFO - done\n",
      "15:52:09 - cmdstanpy - INFO - Chain [1] start processing\n",
      "15:52:09 - cmdstanpy - INFO - Chain [1] done processing\n",
      "15:52:11 - cmdstanpy - INFO - Chain [1] start processing\n",
      "15:52:11 - cmdstanpy - INFO - Chain [1] start processing\n",
      "15:52:12 - cmdstanpy - INFO - Chain [1] done processing\n",
      "15:52:12 - cmdstanpy - INFO - Chain [1] done processing\n",
      "15:52:12 - cmdstanpy - INFO - deleting tmpfiles dir: /var/folders/zm/3bssg1p14lj63wq1qny6y2qh0000gn/T/tmp3_hbu7p6\n",
      "15:52:12 - cmdstanpy - INFO - deleting tmpfiles dir: /var/folders/zm/3bssg1p14lj63wq1qny6y2qh0000gn/T/tmpafp4v6jj\n",
      "15:52:12 - cmdstanpy - INFO - done\n",
      "15:52:12 - cmdstanpy - INFO - done\n",
      "15:52:12 - cmdstanpy - INFO - Chain [1] start processing\n",
      "15:52:13 - cmdstanpy - INFO - Chain [1] done processing\n",
      "15:52:15 - cmdstanpy - INFO - Chain [1] start processing\n",
      "15:52:15 - cmdstanpy - INFO - Chain [1] start processing\n",
      "15:52:16 - cmdstanpy - INFO - Chain [1] done processing\n",
      "15:52:16 - cmdstanpy - INFO - Chain [1] done processing\n",
      "15:52:16 - cmdstanpy - INFO - deleting tmpfiles dir: /var/folders/zm/3bssg1p14lj63wq1qny6y2qh0000gn/T/tmpduz5udee\n",
      "15:52:16 - cmdstanpy - INFO - deleting tmpfiles dir: /var/folders/zm/3bssg1p14lj63wq1qny6y2qh0000gn/T/tmpq7wh2aic\n",
      "15:52:16 - cmdstanpy - INFO - done\n",
      "15:52:16 - cmdstanpy - INFO - done\n",
      "15:52:16 - cmdstanpy - INFO - Chain [1] start processing\n",
      "15:52:17 - cmdstanpy - INFO - Chain [1] done processing\n",
      "15:52:19 - cmdstanpy - INFO - Chain [1] start processing\n",
      "15:52:19 - cmdstanpy - INFO - Chain [1] start processing\n",
      "15:52:19 - cmdstanpy - INFO - Chain [1] done processing\n",
      "15:52:19 - cmdstanpy - INFO - Chain [1] done processing\n",
      "15:52:20 - cmdstanpy - INFO - deleting tmpfiles dir: /var/folders/zm/3bssg1p14lj63wq1qny6y2qh0000gn/T/tmpuzb4pbxi\n",
      "15:52:20 - cmdstanpy - INFO - deleting tmpfiles dir: /var/folders/zm/3bssg1p14lj63wq1qny6y2qh0000gn/T/tmpcspaew9e\n",
      "15:52:20 - cmdstanpy - INFO - done\n",
      "15:52:20 - cmdstanpy - INFO - done\n",
      "15:52:20 - cmdstanpy - INFO - Chain [1] start processing\n",
      "15:52:21 - cmdstanpy - INFO - Chain [1] done processing\n",
      "15:52:22 - cmdstanpy - INFO - Chain [1] start processing\n",
      "15:52:22 - cmdstanpy - INFO - Chain [1] start processing\n",
      "15:52:23 - cmdstanpy - INFO - Chain [1] done processing\n",
      "15:52:23 - cmdstanpy - INFO - Chain [1] done processing\n",
      "15:52:24 - cmdstanpy - INFO - deleting tmpfiles dir: /var/folders/zm/3bssg1p14lj63wq1qny6y2qh0000gn/T/tmpk5tg9ai0\n",
      "15:52:24 - cmdstanpy - INFO - deleting tmpfiles dir: /var/folders/zm/3bssg1p14lj63wq1qny6y2qh0000gn/T/tmpo31g6ymj\n",
      "15:52:24 - cmdstanpy - INFO - done\n",
      "15:52:24 - cmdstanpy - INFO - done\n",
      "15:52:24 - cmdstanpy - INFO - Chain [1] start processing\n",
      "15:52:24 - cmdstanpy - INFO - Chain [1] done processing\n",
      "15:52:27 - cmdstanpy - INFO - Chain [1] start processing\n",
      "15:52:27 - cmdstanpy - INFO - Chain [1] start processing\n",
      "15:52:27 - cmdstanpy - INFO - Chain [1] done processing\n",
      "15:52:27 - cmdstanpy - INFO - Chain [1] done processing\n",
      "15:52:28 - cmdstanpy - INFO - deleting tmpfiles dir: /var/folders/zm/3bssg1p14lj63wq1qny6y2qh0000gn/T/tmp7lf6to1t\n",
      "15:52:28 - cmdstanpy - INFO - deleting tmpfiles dir: /var/folders/zm/3bssg1p14lj63wq1qny6y2qh0000gn/T/tmp5b6czl9n\n",
      "15:52:28 - cmdstanpy - INFO - done\n",
      "15:52:28 - cmdstanpy - INFO - done\n",
      "15:52:28 - cmdstanpy - INFO - Chain [1] start processing\n",
      "15:52:28 - cmdstanpy - INFO - Chain [1] done processing\n",
      "15:52:30 - cmdstanpy - INFO - Chain [1] start processing\n",
      "15:52:30 - cmdstanpy - INFO - Chain [1] start processing\n",
      "15:52:31 - cmdstanpy - INFO - Chain [1] done processing\n",
      "15:52:31 - cmdstanpy - INFO - Chain [1] done processing\n",
      "15:52:31 - cmdstanpy - INFO - deleting tmpfiles dir: /var/folders/zm/3bssg1p14lj63wq1qny6y2qh0000gn/T/tmpapg_hdy5\n",
      "15:52:31 - cmdstanpy - INFO - deleting tmpfiles dir: /var/folders/zm/3bssg1p14lj63wq1qny6y2qh0000gn/T/tmpm0j6h3pg\n",
      "15:52:31 - cmdstanpy - INFO - done\n",
      "15:52:31 - cmdstanpy - INFO - done\n"
     ]
    }
   ],
   "source": [
    "mape = []\n",
    "\n",
    "for params in all_params:\n",
    "    m = Prophet(**params).fit(df_prophet) \n",
    "    df_cv = cross_validation(m, initial='1460 days', horizon='60 days', period='30 days', parallel=\"processes\")\n",
    "    df_p = performance_metrics(df_cv, rolling_window=1)\n",
    "    mape.append(df_p['mape'].values[0])"
   ]
  },
  {
   "cell_type": "code",
   "execution_count": 12,
   "metadata": {},
   "outputs": [
    {
     "data": {
      "text/html": [
       "<div>\n",
       "<style scoped>\n",
       "    .dataframe tbody tr th:only-of-type {\n",
       "        vertical-align: middle;\n",
       "    }\n",
       "\n",
       "    .dataframe tbody tr th {\n",
       "        vertical-align: top;\n",
       "    }\n",
       "\n",
       "    .dataframe thead th {\n",
       "        text-align: right;\n",
       "    }\n",
       "</style>\n",
       "<table border=\"1\" class=\"dataframe\">\n",
       "  <thead>\n",
       "    <tr style=\"text-align: right;\">\n",
       "      <th></th>\n",
       "      <th>changepoint_prior_scale</th>\n",
       "      <th>seasonality_prior_scale</th>\n",
       "      <th>seasonality_mode</th>\n",
       "      <th>mape</th>\n",
       "    </tr>\n",
       "  </thead>\n",
       "  <tbody>\n",
       "    <tr>\n",
       "      <th>0</th>\n",
       "      <td>0.80000</td>\n",
       "      <td>0.80000</td>\n",
       "      <td>additive</td>\n",
       "      <td>0.08026</td>\n",
       "    </tr>\n",
       "    <tr>\n",
       "      <th>1</th>\n",
       "      <td>0.80000</td>\n",
       "      <td>0.80000</td>\n",
       "      <td>multiplicative</td>\n",
       "      <td>0.35809</td>\n",
       "    </tr>\n",
       "    <tr>\n",
       "      <th>2</th>\n",
       "      <td>0.80000</td>\n",
       "      <td>0.90000</td>\n",
       "      <td>additive</td>\n",
       "      <td>0.08044</td>\n",
       "    </tr>\n",
       "    <tr>\n",
       "      <th>3</th>\n",
       "      <td>0.80000</td>\n",
       "      <td>0.90000</td>\n",
       "      <td>multiplicative</td>\n",
       "      <td>0.34792</td>\n",
       "    </tr>\n",
       "    <tr>\n",
       "      <th>4</th>\n",
       "      <td>0.80000</td>\n",
       "      <td>1.00000</td>\n",
       "      <td>additive</td>\n",
       "      <td>0.08053</td>\n",
       "    </tr>\n",
       "    <tr>\n",
       "      <th>5</th>\n",
       "      <td>0.80000</td>\n",
       "      <td>1.00000</td>\n",
       "      <td>multiplicative</td>\n",
       "      <td>0.36012</td>\n",
       "    </tr>\n",
       "    <tr>\n",
       "      <th>6</th>\n",
       "      <td>1.00000</td>\n",
       "      <td>0.80000</td>\n",
       "      <td>additive</td>\n",
       "      <td>0.03691</td>\n",
       "    </tr>\n",
       "    <tr>\n",
       "      <th>7</th>\n",
       "      <td>1.00000</td>\n",
       "      <td>0.80000</td>\n",
       "      <td>multiplicative</td>\n",
       "      <td>0.24477</td>\n",
       "    </tr>\n",
       "    <tr>\n",
       "      <th>8</th>\n",
       "      <td>1.00000</td>\n",
       "      <td>0.90000</td>\n",
       "      <td>additive</td>\n",
       "      <td>0.03796</td>\n",
       "    </tr>\n",
       "    <tr>\n",
       "      <th>9</th>\n",
       "      <td>1.00000</td>\n",
       "      <td>0.90000</td>\n",
       "      <td>multiplicative</td>\n",
       "      <td>0.23989</td>\n",
       "    </tr>\n",
       "    <tr>\n",
       "      <th>10</th>\n",
       "      <td>1.00000</td>\n",
       "      <td>1.00000</td>\n",
       "      <td>additive</td>\n",
       "      <td>0.03710</td>\n",
       "    </tr>\n",
       "    <tr>\n",
       "      <th>11</th>\n",
       "      <td>1.00000</td>\n",
       "      <td>1.00000</td>\n",
       "      <td>multiplicative</td>\n",
       "      <td>0.24610</td>\n",
       "    </tr>\n",
       "  </tbody>\n",
       "</table>\n",
       "</div>"
      ],
      "text/plain": [
       "    changepoint_prior_scale  seasonality_prior_scale seasonality_mode    mape\n",
       "0                   0.80000                  0.80000         additive 0.08026\n",
       "1                   0.80000                  0.80000   multiplicative 0.35809\n",
       "2                   0.80000                  0.90000         additive 0.08044\n",
       "3                   0.80000                  0.90000   multiplicative 0.34792\n",
       "4                   0.80000                  1.00000         additive 0.08053\n",
       "5                   0.80000                  1.00000   multiplicative 0.36012\n",
       "6                   1.00000                  0.80000         additive 0.03691\n",
       "7                   1.00000                  0.80000   multiplicative 0.24477\n",
       "8                   1.00000                  0.90000         additive 0.03796\n",
       "9                   1.00000                  0.90000   multiplicative 0.23989\n",
       "10                  1.00000                  1.00000         additive 0.03710\n",
       "11                  1.00000                  1.00000   multiplicative 0.24610"
      ]
     },
     "execution_count": 12,
     "metadata": {},
     "output_type": "execute_result"
    }
   ],
   "source": [
    "tuning_results = pd.DataFrame(all_params)\n",
    "tuning_results['mape'] = mape\n",
    "tuning_results"
   ]
  },
  {
   "cell_type": "code",
   "execution_count": 13,
   "metadata": {},
   "outputs": [
    {
     "name": "stdout",
     "output_type": "stream",
     "text": [
      "0.03691367520181106\n",
      "{'changepoint_prior_scale': 1.0, 'seasonality_prior_scale': 0.8, 'seasonality_mode': 'additive'}\n"
     ]
    }
   ],
   "source": [
    "best_params = all_params[np.argmin(mape)]\n",
    "print(np.min(mape))\n",
    "print(best_params)"
   ]
  },
  {
   "cell_type": "code",
   "execution_count": 14,
   "metadata": {},
   "outputs": [],
   "source": [
    "model = Prophet(\n",
    "    seasonality_mode=best_params['seasonality_mode'],\n",
    "    seasonality_prior_scale=best_params['seasonality_prior_scale'],\n",
    "    changepoint_prior_scale=best_params['changepoint_prior_scale'])"
   ]
  },
  {
   "cell_type": "code",
   "execution_count": 15,
   "metadata": {},
   "outputs": [
    {
     "name": "stderr",
     "output_type": "stream",
     "text": [
      "15:52:32 - cmdstanpy - INFO - Chain [1] start processing\n",
      "15:52:32 - cmdstanpy - INFO - Chain [1] done processing\n"
     ]
    },
    {
     "data": {
      "text/plain": [
       "<prophet.forecaster.Prophet at 0x7f8419655cd0>"
      ]
     },
     "execution_count": 15,
     "metadata": {},
     "output_type": "execute_result"
    }
   ],
   "source": [
    "model.fit(df_prophet)"
   ]
  },
  {
   "cell_type": "markdown",
   "metadata": {},
   "source": [
    "### Performance"
   ]
  },
  {
   "cell_type": "code",
   "execution_count": 16,
   "metadata": {},
   "outputs": [
    {
     "name": "stdout",
     "output_type": "stream",
     "text": [
      "\n",
      "      EQM: 47189.23\n",
      "      REQM: 217.23\n",
      "      MAD: 160.91\n",
      "      MAPE: 2.76%\n",
      "      \n"
     ]
    }
   ],
   "source": [
    "forecast = model.predict(df_prophet)\n",
    "\n",
    "mse = metrics.mean_squared_error(df_prophet['y'], forecast['yhat'])\n",
    "rmse = metrics.mean_squared_error(df_prophet['y'], forecast['yhat'], squared=False)\n",
    "mad = metrics.mean_absolute_error(df_prophet['y'], forecast['yhat'])\n",
    "mape = metrics.mean_absolute_percentage_error(df_prophet['y'], forecast['yhat'])\n",
    "\n",
    "print(f'''\n",
    "      EQM: {round(mse,2)}\n",
    "      REQM: {round(rmse,2)}\n",
    "      MAD: {round(mad,2)}\n",
    "      MAPE: {round(mape*100,2)}%\n",
    "      ''')"
   ]
  },
  {
   "cell_type": "code",
   "execution_count": 17,
   "metadata": {},
   "outputs": [
    {
     "data": {
      "application/vnd.plotly.v1+json": {
       "config": {
        "plotlyServerURL": "https://plot.ly"
       },
       "data": [
        {
         "marker": {
          "color": "orange"
         },
         "name": "Previsto",
         "type": "scatter",
         "x": [
          "2018-01-01T00:00:00",
          "2018-02-01T00:00:00",
          "2018-03-01T00:00:00",
          "2018-04-01T00:00:00",
          "2018-05-01T00:00:00",
          "2018-06-01T00:00:00",
          "2018-07-01T00:00:00",
          "2018-08-01T00:00:00",
          "2018-09-01T00:00:00",
          "2018-10-01T00:00:00",
          "2018-11-01T00:00:00",
          "2018-12-01T00:00:00",
          "2019-01-01T00:00:00",
          "2019-02-01T00:00:00",
          "2019-03-01T00:00:00",
          "2019-04-01T00:00:00",
          "2019-05-01T00:00:00",
          "2019-06-01T00:00:00",
          "2019-07-01T00:00:00",
          "2019-08-01T00:00:00",
          "2019-09-01T00:00:00",
          "2019-10-01T00:00:00",
          "2019-11-01T00:00:00",
          "2019-12-01T00:00:00",
          "2020-01-01T00:00:00",
          "2020-02-01T00:00:00",
          "2020-03-01T00:00:00",
          "2020-04-01T00:00:00",
          "2020-05-01T00:00:00",
          "2020-06-01T00:00:00",
          "2020-07-01T00:00:00",
          "2020-08-01T00:00:00",
          "2020-09-01T00:00:00",
          "2020-10-01T00:00:00",
          "2020-11-01T00:00:00",
          "2020-12-01T00:00:00",
          "2021-01-01T00:00:00",
          "2021-02-01T00:00:00",
          "2021-03-01T00:00:00",
          "2021-04-01T00:00:00",
          "2021-05-01T00:00:00",
          "2021-06-01T00:00:00",
          "2021-07-01T00:00:00",
          "2021-08-01T00:00:00",
          "2021-09-01T00:00:00",
          "2021-10-01T00:00:00",
          "2021-11-01T00:00:00",
          "2021-12-01T00:00:00",
          "2022-01-01T00:00:00",
          "2022-02-01T00:00:00",
          "2022-03-01T00:00:00",
          "2022-04-01T00:00:00"
         ],
         "y": [
          1656.5923946404746,
          2130.569797201304,
          4084.823570516311,
          4291.3768515769225,
          4073.6684982268994,
          4079.5683990731386,
          2638.875052380303,
          3743.8384584564315,
          4746.085780097188,
          5073.667321960982,
          5693.894945524544,
          3902.308770594267,
          2506.7678244320355,
          3299.3410878322866,
          5458.817346010248,
          6539.952418374216,
          6857.824486524102,
          6649.5532682874555,
          4928.912447817402,
          5942.191986664119,
          7781.0525742149475,
          8837.144435682983,
          9845.599009098723,
          7069.285428051164,
          5149.759121579083,
          4905.923647701675,
          7972.970437462719,
          6978.4141977320105,
          6014.449873903396,
          6305.742295775772,
          5319.336778312556,
          7804.261009928163,
          9807.67469695109,
          10043.689979147814,
          9505.229555633894,
          7841.421078976225,
          6417.86408979474,
          8201.911879096542,
          11441.296677025874,
          11515.51639990342,
          11363.605395870381,
          11446.063354577225,
          10163.13144845679,
          11238.964875166119,
          12022.986165324728,
          12222.06314297637,
          12183.405006659495,
          10135.602125065901,
          7824.866586461716,
          8213.026185102603,
          10089.767103257636,
          10210.259887020984
         ]
        },
        {
         "marker": {
          "color": "gray"
         },
         "name": "Real",
         "type": "scatter",
         "x": [
          "2018-01-01",
          "2018-02-01",
          "2018-03-01",
          "2018-04-01",
          "2018-05-01",
          "2018-06-01",
          "2018-07-01",
          "2018-08-01",
          "2018-09-01",
          "2018-10-01",
          "2018-11-01",
          "2018-12-01",
          "2019-01-01",
          "2019-02-01",
          "2019-03-01",
          "2019-04-01",
          "2019-05-01",
          "2019-06-01",
          "2019-07-01",
          "2019-08-01",
          "2019-09-01",
          "2019-10-01",
          "2019-11-01",
          "2019-12-01",
          "2020-01-01",
          "2020-02-01",
          "2020-03-01",
          "2020-04-01",
          "2020-05-01",
          "2020-06-01",
          "2020-07-01",
          "2020-08-01",
          "2020-09-01",
          "2020-10-01",
          "2020-11-01",
          "2020-12-01",
          "2021-01-01",
          "2021-02-01",
          "2021-03-01",
          "2021-04-01",
          "2021-05-01",
          "2021-06-01",
          "2021-07-01",
          "2021-08-01",
          "2021-09-01",
          "2021-10-01",
          "2021-11-01",
          "2021-12-01",
          "2022-01-01",
          "2022-02-01",
          "2022-03-01",
          "2022-04-01"
         ],
         "y": [
          1819,
          2012,
          4035,
          4305,
          3956,
          3962,
          2875,
          3959,
          4566,
          5079,
          5645,
          3668,
          2782,
          3044,
          5651,
          6585,
          6993,
          6719,
          4710,
          5675,
          7907,
          9058,
          9868,
          7035,
          4959,
          5072,
          7913,
          6991,
          6098,
          6320,
          5158,
          7536,
          9926,
          10549,
          9512,
          7527,
          6238,
          8189,
          11679,
          11447,
          11263,
          11480,
          10307,
          11559,
          11959,
          11491,
          12203,
          10718,
          7757,
          8433,
          9770,
          10208
         ]
        }
       ],
       "layout": {
        "font": {
         "color": "black"
        },
        "template": {
         "data": {
          "bar": [
           {
            "error_x": {
             "color": "#2a3f5f"
            },
            "error_y": {
             "color": "#2a3f5f"
            },
            "marker": {
             "line": {
              "color": "#E5ECF6",
              "width": 0.5
             },
             "pattern": {
              "fillmode": "overlay",
              "size": 10,
              "solidity": 0.2
             }
            },
            "type": "bar"
           }
          ],
          "barpolar": [
           {
            "marker": {
             "line": {
              "color": "#E5ECF6",
              "width": 0.5
             },
             "pattern": {
              "fillmode": "overlay",
              "size": 10,
              "solidity": 0.2
             }
            },
            "type": "barpolar"
           }
          ],
          "carpet": [
           {
            "aaxis": {
             "endlinecolor": "#2a3f5f",
             "gridcolor": "white",
             "linecolor": "white",
             "minorgridcolor": "white",
             "startlinecolor": "#2a3f5f"
            },
            "baxis": {
             "endlinecolor": "#2a3f5f",
             "gridcolor": "white",
             "linecolor": "white",
             "minorgridcolor": "white",
             "startlinecolor": "#2a3f5f"
            },
            "type": "carpet"
           }
          ],
          "choropleth": [
           {
            "colorbar": {
             "outlinewidth": 0,
             "ticks": ""
            },
            "type": "choropleth"
           }
          ],
          "contour": [
           {
            "colorbar": {
             "outlinewidth": 0,
             "ticks": ""
            },
            "colorscale": [
             [
              0,
              "#0d0887"
             ],
             [
              0.1111111111111111,
              "#46039f"
             ],
             [
              0.2222222222222222,
              "#7201a8"
             ],
             [
              0.3333333333333333,
              "#9c179e"
             ],
             [
              0.4444444444444444,
              "#bd3786"
             ],
             [
              0.5555555555555556,
              "#d8576b"
             ],
             [
              0.6666666666666666,
              "#ed7953"
             ],
             [
              0.7777777777777778,
              "#fb9f3a"
             ],
             [
              0.8888888888888888,
              "#fdca26"
             ],
             [
              1,
              "#f0f921"
             ]
            ],
            "type": "contour"
           }
          ],
          "contourcarpet": [
           {
            "colorbar": {
             "outlinewidth": 0,
             "ticks": ""
            },
            "type": "contourcarpet"
           }
          ],
          "heatmap": [
           {
            "colorbar": {
             "outlinewidth": 0,
             "ticks": ""
            },
            "colorscale": [
             [
              0,
              "#0d0887"
             ],
             [
              0.1111111111111111,
              "#46039f"
             ],
             [
              0.2222222222222222,
              "#7201a8"
             ],
             [
              0.3333333333333333,
              "#9c179e"
             ],
             [
              0.4444444444444444,
              "#bd3786"
             ],
             [
              0.5555555555555556,
              "#d8576b"
             ],
             [
              0.6666666666666666,
              "#ed7953"
             ],
             [
              0.7777777777777778,
              "#fb9f3a"
             ],
             [
              0.8888888888888888,
              "#fdca26"
             ],
             [
              1,
              "#f0f921"
             ]
            ],
            "type": "heatmap"
           }
          ],
          "heatmapgl": [
           {
            "colorbar": {
             "outlinewidth": 0,
             "ticks": ""
            },
            "colorscale": [
             [
              0,
              "#0d0887"
             ],
             [
              0.1111111111111111,
              "#46039f"
             ],
             [
              0.2222222222222222,
              "#7201a8"
             ],
             [
              0.3333333333333333,
              "#9c179e"
             ],
             [
              0.4444444444444444,
              "#bd3786"
             ],
             [
              0.5555555555555556,
              "#d8576b"
             ],
             [
              0.6666666666666666,
              "#ed7953"
             ],
             [
              0.7777777777777778,
              "#fb9f3a"
             ],
             [
              0.8888888888888888,
              "#fdca26"
             ],
             [
              1,
              "#f0f921"
             ]
            ],
            "type": "heatmapgl"
           }
          ],
          "histogram": [
           {
            "marker": {
             "pattern": {
              "fillmode": "overlay",
              "size": 10,
              "solidity": 0.2
             }
            },
            "type": "histogram"
           }
          ],
          "histogram2d": [
           {
            "colorbar": {
             "outlinewidth": 0,
             "ticks": ""
            },
            "colorscale": [
             [
              0,
              "#0d0887"
             ],
             [
              0.1111111111111111,
              "#46039f"
             ],
             [
              0.2222222222222222,
              "#7201a8"
             ],
             [
              0.3333333333333333,
              "#9c179e"
             ],
             [
              0.4444444444444444,
              "#bd3786"
             ],
             [
              0.5555555555555556,
              "#d8576b"
             ],
             [
              0.6666666666666666,
              "#ed7953"
             ],
             [
              0.7777777777777778,
              "#fb9f3a"
             ],
             [
              0.8888888888888888,
              "#fdca26"
             ],
             [
              1,
              "#f0f921"
             ]
            ],
            "type": "histogram2d"
           }
          ],
          "histogram2dcontour": [
           {
            "colorbar": {
             "outlinewidth": 0,
             "ticks": ""
            },
            "colorscale": [
             [
              0,
              "#0d0887"
             ],
             [
              0.1111111111111111,
              "#46039f"
             ],
             [
              0.2222222222222222,
              "#7201a8"
             ],
             [
              0.3333333333333333,
              "#9c179e"
             ],
             [
              0.4444444444444444,
              "#bd3786"
             ],
             [
              0.5555555555555556,
              "#d8576b"
             ],
             [
              0.6666666666666666,
              "#ed7953"
             ],
             [
              0.7777777777777778,
              "#fb9f3a"
             ],
             [
              0.8888888888888888,
              "#fdca26"
             ],
             [
              1,
              "#f0f921"
             ]
            ],
            "type": "histogram2dcontour"
           }
          ],
          "mesh3d": [
           {
            "colorbar": {
             "outlinewidth": 0,
             "ticks": ""
            },
            "type": "mesh3d"
           }
          ],
          "parcoords": [
           {
            "line": {
             "colorbar": {
              "outlinewidth": 0,
              "ticks": ""
             }
            },
            "type": "parcoords"
           }
          ],
          "pie": [
           {
            "automargin": true,
            "type": "pie"
           }
          ],
          "scatter": [
           {
            "marker": {
             "colorbar": {
              "outlinewidth": 0,
              "ticks": ""
             }
            },
            "type": "scatter"
           }
          ],
          "scatter3d": [
           {
            "line": {
             "colorbar": {
              "outlinewidth": 0,
              "ticks": ""
             }
            },
            "marker": {
             "colorbar": {
              "outlinewidth": 0,
              "ticks": ""
             }
            },
            "type": "scatter3d"
           }
          ],
          "scattercarpet": [
           {
            "marker": {
             "colorbar": {
              "outlinewidth": 0,
              "ticks": ""
             }
            },
            "type": "scattercarpet"
           }
          ],
          "scattergeo": [
           {
            "marker": {
             "colorbar": {
              "outlinewidth": 0,
              "ticks": ""
             }
            },
            "type": "scattergeo"
           }
          ],
          "scattergl": [
           {
            "marker": {
             "colorbar": {
              "outlinewidth": 0,
              "ticks": ""
             }
            },
            "type": "scattergl"
           }
          ],
          "scattermapbox": [
           {
            "marker": {
             "colorbar": {
              "outlinewidth": 0,
              "ticks": ""
             }
            },
            "type": "scattermapbox"
           }
          ],
          "scatterpolar": [
           {
            "marker": {
             "colorbar": {
              "outlinewidth": 0,
              "ticks": ""
             }
            },
            "type": "scatterpolar"
           }
          ],
          "scatterpolargl": [
           {
            "marker": {
             "colorbar": {
              "outlinewidth": 0,
              "ticks": ""
             }
            },
            "type": "scatterpolargl"
           }
          ],
          "scatterternary": [
           {
            "marker": {
             "colorbar": {
              "outlinewidth": 0,
              "ticks": ""
             }
            },
            "type": "scatterternary"
           }
          ],
          "surface": [
           {
            "colorbar": {
             "outlinewidth": 0,
             "ticks": ""
            },
            "colorscale": [
             [
              0,
              "#0d0887"
             ],
             [
              0.1111111111111111,
              "#46039f"
             ],
             [
              0.2222222222222222,
              "#7201a8"
             ],
             [
              0.3333333333333333,
              "#9c179e"
             ],
             [
              0.4444444444444444,
              "#bd3786"
             ],
             [
              0.5555555555555556,
              "#d8576b"
             ],
             [
              0.6666666666666666,
              "#ed7953"
             ],
             [
              0.7777777777777778,
              "#fb9f3a"
             ],
             [
              0.8888888888888888,
              "#fdca26"
             ],
             [
              1,
              "#f0f921"
             ]
            ],
            "type": "surface"
           }
          ],
          "table": [
           {
            "cells": {
             "fill": {
              "color": "#EBF0F8"
             },
             "line": {
              "color": "white"
             }
            },
            "header": {
             "fill": {
              "color": "#C8D4E3"
             },
             "line": {
              "color": "white"
             }
            },
            "type": "table"
           }
          ]
         },
         "layout": {
          "annotationdefaults": {
           "arrowcolor": "#2a3f5f",
           "arrowhead": 0,
           "arrowwidth": 1
          },
          "autotypenumbers": "strict",
          "coloraxis": {
           "colorbar": {
            "outlinewidth": 0,
            "ticks": ""
           }
          },
          "colorscale": {
           "diverging": [
            [
             0,
             "#8e0152"
            ],
            [
             0.1,
             "#c51b7d"
            ],
            [
             0.2,
             "#de77ae"
            ],
            [
             0.3,
             "#f1b6da"
            ],
            [
             0.4,
             "#fde0ef"
            ],
            [
             0.5,
             "#f7f7f7"
            ],
            [
             0.6,
             "#e6f5d0"
            ],
            [
             0.7,
             "#b8e186"
            ],
            [
             0.8,
             "#7fbc41"
            ],
            [
             0.9,
             "#4d9221"
            ],
            [
             1,
             "#276419"
            ]
           ],
           "sequential": [
            [
             0,
             "#0d0887"
            ],
            [
             0.1111111111111111,
             "#46039f"
            ],
            [
             0.2222222222222222,
             "#7201a8"
            ],
            [
             0.3333333333333333,
             "#9c179e"
            ],
            [
             0.4444444444444444,
             "#bd3786"
            ],
            [
             0.5555555555555556,
             "#d8576b"
            ],
            [
             0.6666666666666666,
             "#ed7953"
            ],
            [
             0.7777777777777778,
             "#fb9f3a"
            ],
            [
             0.8888888888888888,
             "#fdca26"
            ],
            [
             1,
             "#f0f921"
            ]
           ],
           "sequentialminus": [
            [
             0,
             "#0d0887"
            ],
            [
             0.1111111111111111,
             "#46039f"
            ],
            [
             0.2222222222222222,
             "#7201a8"
            ],
            [
             0.3333333333333333,
             "#9c179e"
            ],
            [
             0.4444444444444444,
             "#bd3786"
            ],
            [
             0.5555555555555556,
             "#d8576b"
            ],
            [
             0.6666666666666666,
             "#ed7953"
            ],
            [
             0.7777777777777778,
             "#fb9f3a"
            ],
            [
             0.8888888888888888,
             "#fdca26"
            ],
            [
             1,
             "#f0f921"
            ]
           ]
          },
          "colorway": [
           "#636efa",
           "#EF553B",
           "#00cc96",
           "#ab63fa",
           "#FFA15A",
           "#19d3f3",
           "#FF6692",
           "#B6E880",
           "#FF97FF",
           "#FECB52"
          ],
          "font": {
           "color": "#2a3f5f"
          },
          "geo": {
           "bgcolor": "white",
           "lakecolor": "white",
           "landcolor": "#E5ECF6",
           "showlakes": true,
           "showland": true,
           "subunitcolor": "white"
          },
          "hoverlabel": {
           "align": "left"
          },
          "hovermode": "closest",
          "mapbox": {
           "style": "light"
          },
          "paper_bgcolor": "white",
          "plot_bgcolor": "#E5ECF6",
          "polar": {
           "angularaxis": {
            "gridcolor": "white",
            "linecolor": "white",
            "ticks": ""
           },
           "bgcolor": "#E5ECF6",
           "radialaxis": {
            "gridcolor": "white",
            "linecolor": "white",
            "ticks": ""
           }
          },
          "scene": {
           "xaxis": {
            "backgroundcolor": "#E5ECF6",
            "gridcolor": "white",
            "gridwidth": 2,
            "linecolor": "white",
            "showbackground": true,
            "ticks": "",
            "zerolinecolor": "white"
           },
           "yaxis": {
            "backgroundcolor": "#E5ECF6",
            "gridcolor": "white",
            "gridwidth": 2,
            "linecolor": "white",
            "showbackground": true,
            "ticks": "",
            "zerolinecolor": "white"
           },
           "zaxis": {
            "backgroundcolor": "#E5ECF6",
            "gridcolor": "white",
            "gridwidth": 2,
            "linecolor": "white",
            "showbackground": true,
            "ticks": "",
            "zerolinecolor": "white"
           }
          },
          "shapedefaults": {
           "line": {
            "color": "#2a3f5f"
           }
          },
          "ternary": {
           "aaxis": {
            "gridcolor": "white",
            "linecolor": "white",
            "ticks": ""
           },
           "baxis": {
            "gridcolor": "white",
            "linecolor": "white",
            "ticks": ""
           },
           "bgcolor": "#E5ECF6",
           "caxis": {
            "gridcolor": "white",
            "linecolor": "white",
            "ticks": ""
           }
          },
          "title": {
           "x": 0.05
          },
          "xaxis": {
           "automargin": true,
           "gridcolor": "white",
           "linecolor": "white",
           "ticks": "",
           "title": {
            "standoff": 15
           },
           "zerolinecolor": "white",
           "zerolinewidth": 2
          },
          "yaxis": {
           "automargin": true,
           "gridcolor": "white",
           "linecolor": "white",
           "ticks": "",
           "title": {
            "standoff": 15
           },
           "zerolinecolor": "white",
           "zerolinewidth": 2
          }
         }
        },
        "title": {
         "text": "Real vs. Previsto (Prophet)"
        }
       }
      }
     },
     "metadata": {},
     "output_type": "display_data"
    }
   ],
   "source": [
    "fig = go.Figure(data=[\n",
    "    go.Scatter(name='Previsto',x=forecast['ds'], y=forecast['yhat'], marker={'color': 'orange'}),\n",
    "    go.Scatter(name='Real', x=df_prophet['ds'], y=df_prophet['y'], marker={'color': 'gray'})\n",
    "    ])\n",
    "fig.update_layout(font=dict(color='black'), title_text='Real vs. Previsto (Prophet)')\n",
    "fig.show()"
   ]
  },
  {
   "cell_type": "markdown",
   "metadata": {},
   "source": [
    "---\n",
    "# Regressões"
   ]
  },
  {
   "cell_type": "markdown",
   "metadata": {},
   "source": [
    "## Feature Engineering"
   ]
  },
  {
   "cell_type": "markdown",
   "metadata": {},
   "source": [
    "### Criando LAGs"
   ]
  },
  {
   "cell_type": "code",
   "execution_count": 18,
   "metadata": {},
   "outputs": [
    {
     "data": {
      "text/html": [
       "<div>\n",
       "<style scoped>\n",
       "    .dataframe tbody tr th:only-of-type {\n",
       "        vertical-align: middle;\n",
       "    }\n",
       "\n",
       "    .dataframe tbody tr th {\n",
       "        vertical-align: top;\n",
       "    }\n",
       "\n",
       "    .dataframe thead th {\n",
       "        text-align: right;\n",
       "    }\n",
       "</style>\n",
       "<table border=\"1\" class=\"dataframe\">\n",
       "  <thead>\n",
       "    <tr style=\"text-align: right;\">\n",
       "      <th></th>\n",
       "      <th>data</th>\n",
       "      <th>vendas</th>\n",
       "      <th>vendas_PUCRIO</th>\n",
       "      <th>vendas_UFABC</th>\n",
       "      <th>vendas_UFF</th>\n",
       "      <th>vendas_UFMG</th>\n",
       "      <th>vendas_UFPE</th>\n",
       "      <th>vendas_UFRJ</th>\n",
       "      <th>vendas_UFSC</th>\n",
       "      <th>vendas_UNICAMP</th>\n",
       "      <th>...</th>\n",
       "      <th>vendas_Natal</th>\n",
       "      <th>vendas_Niteroi</th>\n",
       "      <th>vendas_Porto_Alegre</th>\n",
       "      <th>vendas_Recife</th>\n",
       "      <th>vendas_Rio_de_Janeiro</th>\n",
       "      <th>vendas_Salvador</th>\n",
       "      <th>vendas_Santo_Andre</th>\n",
       "      <th>vendas_Sao_Carlos</th>\n",
       "      <th>vendas_Sao_Paulo</th>\n",
       "      <th>seasonal</th>\n",
       "    </tr>\n",
       "  </thead>\n",
       "  <tbody>\n",
       "    <tr>\n",
       "      <th>0</th>\n",
       "      <td>2018-01-01</td>\n",
       "      <td>1819.00000</td>\n",
       "      <td>100.00000</td>\n",
       "      <td>17.00000</td>\n",
       "      <td>194.00000</td>\n",
       "      <td>34.00000</td>\n",
       "      <td>71.00000</td>\n",
       "      <td>407.00000</td>\n",
       "      <td>23.00000</td>\n",
       "      <td>200.00000</td>\n",
       "      <td>...</td>\n",
       "      <td>3.00000</td>\n",
       "      <td>79.00000</td>\n",
       "      <td>11.00000</td>\n",
       "      <td>51.00000</td>\n",
       "      <td>521.00000</td>\n",
       "      <td>25.00000</td>\n",
       "      <td>9.00000</td>\n",
       "      <td>14.00000</td>\n",
       "      <td>187.00000</td>\n",
       "      <td>-2401.78443</td>\n",
       "    </tr>\n",
       "    <tr>\n",
       "      <th>1</th>\n",
       "      <td>2018-02-01</td>\n",
       "      <td>2012.00000</td>\n",
       "      <td>98.00000</td>\n",
       "      <td>22.00000</td>\n",
       "      <td>199.00000</td>\n",
       "      <td>34.00000</td>\n",
       "      <td>85.00000</td>\n",
       "      <td>492.00000</td>\n",
       "      <td>28.00000</td>\n",
       "      <td>219.00000</td>\n",
       "      <td>...</td>\n",
       "      <td>2.00000</td>\n",
       "      <td>81.00000</td>\n",
       "      <td>11.00000</td>\n",
       "      <td>62.00000</td>\n",
       "      <td>592.00000</td>\n",
       "      <td>23.00000</td>\n",
       "      <td>13.00000</td>\n",
       "      <td>14.00000</td>\n",
       "      <td>205.00000</td>\n",
       "      <td>-1835.22888</td>\n",
       "    </tr>\n",
       "    <tr>\n",
       "      <th>2</th>\n",
       "      <td>2018-03-01</td>\n",
       "      <td>4035.00000</td>\n",
       "      <td>229.00000</td>\n",
       "      <td>16.00000</td>\n",
       "      <td>357.00000</td>\n",
       "      <td>46.00000</td>\n",
       "      <td>163.00000</td>\n",
       "      <td>1473.00000</td>\n",
       "      <td>30.00000</td>\n",
       "      <td>577.00000</td>\n",
       "      <td>...</td>\n",
       "      <td>9.00000</td>\n",
       "      <td>171.00000</td>\n",
       "      <td>14.00000</td>\n",
       "      <td>123.00000</td>\n",
       "      <td>1544.00000</td>\n",
       "      <td>22.00000</td>\n",
       "      <td>12.00000</td>\n",
       "      <td>29.00000</td>\n",
       "      <td>282.00000</td>\n",
       "      <td>935.86834</td>\n",
       "    </tr>\n",
       "    <tr>\n",
       "      <th>3</th>\n",
       "      <td>2018-04-01</td>\n",
       "      <td>4305.00000</td>\n",
       "      <td>189.00000</td>\n",
       "      <td>186.00000</td>\n",
       "      <td>512.00000</td>\n",
       "      <td>96.00000</td>\n",
       "      <td>134.00000</td>\n",
       "      <td>1098.00000</td>\n",
       "      <td>151.00000</td>\n",
       "      <td>434.00000</td>\n",
       "      <td>...</td>\n",
       "      <td>4.00000</td>\n",
       "      <td>232.00000</td>\n",
       "      <td>21.00000</td>\n",
       "      <td>105.00000</td>\n",
       "      <td>1300.00000</td>\n",
       "      <td>38.00000</td>\n",
       "      <td>40.00000</td>\n",
       "      <td>27.00000</td>\n",
       "      <td>359.00000</td>\n",
       "      <td>670.79890</td>\n",
       "    </tr>\n",
       "    <tr>\n",
       "      <th>4</th>\n",
       "      <td>2018-05-01</td>\n",
       "      <td>3956.00000</td>\n",
       "      <td>176.00000</td>\n",
       "      <td>130.00000</td>\n",
       "      <td>349.00000</td>\n",
       "      <td>212.00000</td>\n",
       "      <td>158.00000</td>\n",
       "      <td>721.00000</td>\n",
       "      <td>122.00000</td>\n",
       "      <td>376.00000</td>\n",
       "      <td>...</td>\n",
       "      <td>8.00000</td>\n",
       "      <td>155.00000</td>\n",
       "      <td>20.00000</td>\n",
       "      <td>110.00000</td>\n",
       "      <td>1065.00000</td>\n",
       "      <td>41.00000</td>\n",
       "      <td>39.00000</td>\n",
       "      <td>31.00000</td>\n",
       "      <td>300.00000</td>\n",
       "      <td>267.66001</td>\n",
       "    </tr>\n",
       "  </tbody>\n",
       "</table>\n",
       "<p>5 rows × 33 columns</p>\n",
       "</div>"
      ],
      "text/plain": [
       "         data     vendas  vendas_PUCRIO  vendas_UFABC  vendas_UFF  \\\n",
       "0  2018-01-01 1819.00000      100.00000      17.00000   194.00000   \n",
       "1  2018-02-01 2012.00000       98.00000      22.00000   199.00000   \n",
       "2  2018-03-01 4035.00000      229.00000      16.00000   357.00000   \n",
       "3  2018-04-01 4305.00000      189.00000     186.00000   512.00000   \n",
       "4  2018-05-01 3956.00000      176.00000     130.00000   349.00000   \n",
       "\n",
       "   vendas_UFMG  vendas_UFPE  vendas_UFRJ  vendas_UFSC  vendas_UNICAMP  ...  \\\n",
       "0     34.00000     71.00000    407.00000     23.00000       200.00000  ...   \n",
       "1     34.00000     85.00000    492.00000     28.00000       219.00000  ...   \n",
       "2     46.00000    163.00000   1473.00000     30.00000       577.00000  ...   \n",
       "3     96.00000    134.00000   1098.00000    151.00000       434.00000  ...   \n",
       "4    212.00000    158.00000    721.00000    122.00000       376.00000  ...   \n",
       "\n",
       "   vendas_Natal  vendas_Niteroi  vendas_Porto_Alegre  vendas_Recife  \\\n",
       "0       3.00000        79.00000             11.00000       51.00000   \n",
       "1       2.00000        81.00000             11.00000       62.00000   \n",
       "2       9.00000       171.00000             14.00000      123.00000   \n",
       "3       4.00000       232.00000             21.00000      105.00000   \n",
       "4       8.00000       155.00000             20.00000      110.00000   \n",
       "\n",
       "   vendas_Rio_de_Janeiro  vendas_Salvador  vendas_Santo_Andre  \\\n",
       "0              521.00000         25.00000             9.00000   \n",
       "1              592.00000         23.00000            13.00000   \n",
       "2             1544.00000         22.00000            12.00000   \n",
       "3             1300.00000         38.00000            40.00000   \n",
       "4             1065.00000         41.00000            39.00000   \n",
       "\n",
       "   vendas_Sao_Carlos  vendas_Sao_Paulo    seasonal  \n",
       "0           14.00000         187.00000 -2401.78443  \n",
       "1           14.00000         205.00000 -1835.22888  \n",
       "2           29.00000         282.00000   935.86834  \n",
       "3           27.00000         359.00000   670.79890  \n",
       "4           31.00000         300.00000   267.66001  \n",
       "\n",
       "[5 rows x 33 columns]"
      ]
     },
     "execution_count": 18,
     "metadata": {},
     "output_type": "execute_result"
    }
   ],
   "source": [
    "df_r = df.copy().drop(['vendas_Outra_Faculdade', 'vendas_Outra_Cidade', 'trend'], axis=1)\n",
    "df_r.dropna(axis=0, inplace=True)\n",
    "df_r.head()"
   ]
  },
  {
   "cell_type": "code",
   "execution_count": 19,
   "metadata": {},
   "outputs": [],
   "source": [
    "lag_columns = ['vendas_PUCRIO', 'vendas_UFABC', 'vendas_UFF', 'vendas_UFMG', 'vendas_UFPE', 'vendas_UFRJ', 'vendas_UFSC', 'vendas_UNICAMP', 'vendas_USP', 'vendas_UTFPR', 'vendas_Belo_Horizonte',\n",
    "       'vendas_Brasilia', 'vendas_Campinas', 'vendas_Campo_Grande',\n",
    "       'vendas_Curitiba', 'vendas_Florianopolis', 'vendas_Fortaleza',\n",
    "       'vendas_Goiania', 'vendas_Joinville', 'vendas_Juiz_de_Fora',\n",
    "       'vendas_Manaus', 'vendas_Natal', 'vendas_Niteroi',\n",
    "       'vendas_Porto_Alegre', 'vendas_Recife', 'vendas_Rio_de_Janeiro',\n",
    "       'vendas_Salvador', 'vendas_Santo_Andre', 'vendas_Sao_Carlos',\n",
    "       'vendas_Sao_Paulo']"
   ]
  },
  {
   "cell_type": "code",
   "execution_count": 20,
   "metadata": {},
   "outputs": [],
   "source": [
    "for column in lag_columns:\n",
    "    for lag in range(1, 4):\n",
    "        novo_nome = f'{column}_LAG_{lag}'\n",
    "        df_r[novo_nome] = df_r[column].shift(periods=lag, fill_value=0)"
   ]
  },
  {
   "cell_type": "code",
   "execution_count": 21,
   "metadata": {},
   "outputs": [],
   "source": [
    "df_r['seasonal_LAG_12'] = df_r['seasonal'].shift(periods=12, fill_value=0)\n",
    "df_r['vendas_LAG_12'] = df_r['vendas'].shift(periods=12, fill_value=0)"
   ]
  },
  {
   "cell_type": "code",
   "execution_count": 22,
   "metadata": {},
   "outputs": [
    {
     "data": {
      "text/html": [
       "<div>\n",
       "<style scoped>\n",
       "    .dataframe tbody tr th:only-of-type {\n",
       "        vertical-align: middle;\n",
       "    }\n",
       "\n",
       "    .dataframe tbody tr th {\n",
       "        vertical-align: top;\n",
       "    }\n",
       "\n",
       "    .dataframe thead th {\n",
       "        text-align: right;\n",
       "    }\n",
       "</style>\n",
       "<table border=\"1\" class=\"dataframe\">\n",
       "  <thead>\n",
       "    <tr style=\"text-align: right;\">\n",
       "      <th></th>\n",
       "      <th>data</th>\n",
       "      <th>vendas</th>\n",
       "      <th>vendas_PUCRIO_LAG_1</th>\n",
       "      <th>vendas_PUCRIO_LAG_2</th>\n",
       "      <th>vendas_PUCRIO_LAG_3</th>\n",
       "      <th>vendas_UFABC_LAG_1</th>\n",
       "      <th>vendas_UFABC_LAG_2</th>\n",
       "      <th>vendas_UFABC_LAG_3</th>\n",
       "      <th>vendas_UFF_LAG_1</th>\n",
       "      <th>vendas_UFF_LAG_2</th>\n",
       "      <th>...</th>\n",
       "      <th>vendas_Santo_Andre_LAG_2</th>\n",
       "      <th>vendas_Santo_Andre_LAG_3</th>\n",
       "      <th>vendas_Sao_Carlos_LAG_1</th>\n",
       "      <th>vendas_Sao_Carlos_LAG_2</th>\n",
       "      <th>vendas_Sao_Carlos_LAG_3</th>\n",
       "      <th>vendas_Sao_Paulo_LAG_1</th>\n",
       "      <th>vendas_Sao_Paulo_LAG_2</th>\n",
       "      <th>vendas_Sao_Paulo_LAG_3</th>\n",
       "      <th>seasonal_LAG_12</th>\n",
       "      <th>vendas_LAG_12</th>\n",
       "    </tr>\n",
       "  </thead>\n",
       "  <tbody>\n",
       "    <tr>\n",
       "      <th>0</th>\n",
       "      <td>2018-01-01</td>\n",
       "      <td>1819.00000</td>\n",
       "      <td>0.00000</td>\n",
       "      <td>0.00000</td>\n",
       "      <td>0.00000</td>\n",
       "      <td>0.00000</td>\n",
       "      <td>0.00000</td>\n",
       "      <td>0.00000</td>\n",
       "      <td>0.00000</td>\n",
       "      <td>0.00000</td>\n",
       "      <td>...</td>\n",
       "      <td>0.00000</td>\n",
       "      <td>0.00000</td>\n",
       "      <td>0.00000</td>\n",
       "      <td>0.00000</td>\n",
       "      <td>0.00000</td>\n",
       "      <td>0.00000</td>\n",
       "      <td>0.00000</td>\n",
       "      <td>0.00000</td>\n",
       "      <td>0.00000</td>\n",
       "      <td>0.00000</td>\n",
       "    </tr>\n",
       "    <tr>\n",
       "      <th>1</th>\n",
       "      <td>2018-02-01</td>\n",
       "      <td>2012.00000</td>\n",
       "      <td>100.00000</td>\n",
       "      <td>0.00000</td>\n",
       "      <td>0.00000</td>\n",
       "      <td>17.00000</td>\n",
       "      <td>0.00000</td>\n",
       "      <td>0.00000</td>\n",
       "      <td>194.00000</td>\n",
       "      <td>0.00000</td>\n",
       "      <td>...</td>\n",
       "      <td>0.00000</td>\n",
       "      <td>0.00000</td>\n",
       "      <td>14.00000</td>\n",
       "      <td>0.00000</td>\n",
       "      <td>0.00000</td>\n",
       "      <td>187.00000</td>\n",
       "      <td>0.00000</td>\n",
       "      <td>0.00000</td>\n",
       "      <td>0.00000</td>\n",
       "      <td>0.00000</td>\n",
       "    </tr>\n",
       "    <tr>\n",
       "      <th>2</th>\n",
       "      <td>2018-03-01</td>\n",
       "      <td>4035.00000</td>\n",
       "      <td>98.00000</td>\n",
       "      <td>100.00000</td>\n",
       "      <td>0.00000</td>\n",
       "      <td>22.00000</td>\n",
       "      <td>17.00000</td>\n",
       "      <td>0.00000</td>\n",
       "      <td>199.00000</td>\n",
       "      <td>194.00000</td>\n",
       "      <td>...</td>\n",
       "      <td>9.00000</td>\n",
       "      <td>0.00000</td>\n",
       "      <td>14.00000</td>\n",
       "      <td>14.00000</td>\n",
       "      <td>0.00000</td>\n",
       "      <td>205.00000</td>\n",
       "      <td>187.00000</td>\n",
       "      <td>0.00000</td>\n",
       "      <td>0.00000</td>\n",
       "      <td>0.00000</td>\n",
       "    </tr>\n",
       "    <tr>\n",
       "      <th>3</th>\n",
       "      <td>2018-04-01</td>\n",
       "      <td>4305.00000</td>\n",
       "      <td>229.00000</td>\n",
       "      <td>98.00000</td>\n",
       "      <td>100.00000</td>\n",
       "      <td>16.00000</td>\n",
       "      <td>22.00000</td>\n",
       "      <td>17.00000</td>\n",
       "      <td>357.00000</td>\n",
       "      <td>199.00000</td>\n",
       "      <td>...</td>\n",
       "      <td>13.00000</td>\n",
       "      <td>9.00000</td>\n",
       "      <td>29.00000</td>\n",
       "      <td>14.00000</td>\n",
       "      <td>14.00000</td>\n",
       "      <td>282.00000</td>\n",
       "      <td>205.00000</td>\n",
       "      <td>187.00000</td>\n",
       "      <td>0.00000</td>\n",
       "      <td>0.00000</td>\n",
       "    </tr>\n",
       "    <tr>\n",
       "      <th>4</th>\n",
       "      <td>2018-05-01</td>\n",
       "      <td>3956.00000</td>\n",
       "      <td>189.00000</td>\n",
       "      <td>229.00000</td>\n",
       "      <td>98.00000</td>\n",
       "      <td>186.00000</td>\n",
       "      <td>16.00000</td>\n",
       "      <td>22.00000</td>\n",
       "      <td>512.00000</td>\n",
       "      <td>357.00000</td>\n",
       "      <td>...</td>\n",
       "      <td>12.00000</td>\n",
       "      <td>13.00000</td>\n",
       "      <td>27.00000</td>\n",
       "      <td>29.00000</td>\n",
       "      <td>14.00000</td>\n",
       "      <td>359.00000</td>\n",
       "      <td>282.00000</td>\n",
       "      <td>205.00000</td>\n",
       "      <td>0.00000</td>\n",
       "      <td>0.00000</td>\n",
       "    </tr>\n",
       "  </tbody>\n",
       "</table>\n",
       "<p>5 rows × 94 columns</p>\n",
       "</div>"
      ],
      "text/plain": [
       "         data     vendas  vendas_PUCRIO_LAG_1  vendas_PUCRIO_LAG_2  \\\n",
       "0  2018-01-01 1819.00000              0.00000              0.00000   \n",
       "1  2018-02-01 2012.00000            100.00000              0.00000   \n",
       "2  2018-03-01 4035.00000             98.00000            100.00000   \n",
       "3  2018-04-01 4305.00000            229.00000             98.00000   \n",
       "4  2018-05-01 3956.00000            189.00000            229.00000   \n",
       "\n",
       "   vendas_PUCRIO_LAG_3  vendas_UFABC_LAG_1  vendas_UFABC_LAG_2  \\\n",
       "0              0.00000             0.00000             0.00000   \n",
       "1              0.00000            17.00000             0.00000   \n",
       "2              0.00000            22.00000            17.00000   \n",
       "3            100.00000            16.00000            22.00000   \n",
       "4             98.00000           186.00000            16.00000   \n",
       "\n",
       "   vendas_UFABC_LAG_3  vendas_UFF_LAG_1  vendas_UFF_LAG_2  ...  \\\n",
       "0             0.00000           0.00000           0.00000  ...   \n",
       "1             0.00000         194.00000           0.00000  ...   \n",
       "2             0.00000         199.00000         194.00000  ...   \n",
       "3            17.00000         357.00000         199.00000  ...   \n",
       "4            22.00000         512.00000         357.00000  ...   \n",
       "\n",
       "   vendas_Santo_Andre_LAG_2  vendas_Santo_Andre_LAG_3  \\\n",
       "0                   0.00000                   0.00000   \n",
       "1                   0.00000                   0.00000   \n",
       "2                   9.00000                   0.00000   \n",
       "3                  13.00000                   9.00000   \n",
       "4                  12.00000                  13.00000   \n",
       "\n",
       "   vendas_Sao_Carlos_LAG_1  vendas_Sao_Carlos_LAG_2  vendas_Sao_Carlos_LAG_3  \\\n",
       "0                  0.00000                  0.00000                  0.00000   \n",
       "1                 14.00000                  0.00000                  0.00000   \n",
       "2                 14.00000                 14.00000                  0.00000   \n",
       "3                 29.00000                 14.00000                 14.00000   \n",
       "4                 27.00000                 29.00000                 14.00000   \n",
       "\n",
       "   vendas_Sao_Paulo_LAG_1  vendas_Sao_Paulo_LAG_2  vendas_Sao_Paulo_LAG_3  \\\n",
       "0                 0.00000                 0.00000                 0.00000   \n",
       "1               187.00000                 0.00000                 0.00000   \n",
       "2               205.00000               187.00000                 0.00000   \n",
       "3               282.00000               205.00000               187.00000   \n",
       "4               359.00000               282.00000               205.00000   \n",
       "\n",
       "   seasonal_LAG_12  vendas_LAG_12  \n",
       "0          0.00000        0.00000  \n",
       "1          0.00000        0.00000  \n",
       "2          0.00000        0.00000  \n",
       "3          0.00000        0.00000  \n",
       "4          0.00000        0.00000  \n",
       "\n",
       "[5 rows x 94 columns]"
      ]
     },
     "execution_count": 22,
     "metadata": {},
     "output_type": "execute_result"
    }
   ],
   "source": [
    "df_r.drop(lag_columns, axis=1, inplace=True)\n",
    "df_r.drop('seasonal', axis=1, inplace=True)\n",
    "df_r.head()"
   ]
  },
  {
   "cell_type": "markdown",
   "metadata": {},
   "source": [
    "### Divisão entre Treino e Teste"
   ]
  },
  {
   "cell_type": "code",
   "execution_count": 23,
   "metadata": {},
   "outputs": [],
   "source": [
    "X_r = df_r.drop(['data', 'vendas'], axis=1)\n",
    "y_r = df_r['vendas']"
   ]
  },
  {
   "cell_type": "code",
   "execution_count": 24,
   "metadata": {},
   "outputs": [],
   "source": [
    "X_r_treino, X_r_teste, y_r_treino, y_r_teste = train_test_split(X_r, y_r, train_size=0.65, random_state=123)"
   ]
  },
  {
   "cell_type": "markdown",
   "metadata": {},
   "source": [
    "## Modelos"
   ]
  },
  {
   "cell_type": "code",
   "execution_count": 25,
   "metadata": {},
   "outputs": [],
   "source": [
    "modelos = [LinearRegression(), Ridge(), Lasso(), DecisionTreeRegressor(), SVR(), AdaBoostRegressor(), ExtraTreesRegressor(), GradientBoostingRegressor(), RandomForestRegressor(), HistGradientBoostingRegressor(), LGBMRegressor(), CatBoostRegressor(verbose=False)]"
   ]
  },
  {
   "cell_type": "code",
   "execution_count": 26,
   "metadata": {},
   "outputs": [],
   "source": [
    "modelos_score = []\n",
    "\n",
    "for modelo in modelos:\n",
    "    cv = cross_val_score(modelo, X_r_treino, y_r_treino, scoring='neg_mean_absolute_percentage_error')\n",
    "    modelos_score.append({'modelo': modelo, 'mape': cv.mean()*(-100), 'std': cv.std()*(-100)})"
   ]
  },
  {
   "cell_type": "code",
   "execution_count": 27,
   "metadata": {},
   "outputs": [
    {
     "data": {
      "text/html": [
       "<div>\n",
       "<style scoped>\n",
       "    .dataframe tbody tr th:only-of-type {\n",
       "        vertical-align: middle;\n",
       "    }\n",
       "\n",
       "    .dataframe tbody tr th {\n",
       "        vertical-align: top;\n",
       "    }\n",
       "\n",
       "    .dataframe thead th {\n",
       "        text-align: right;\n",
       "    }\n",
       "</style>\n",
       "<table border=\"1\" class=\"dataframe\">\n",
       "  <thead>\n",
       "    <tr style=\"text-align: right;\">\n",
       "      <th></th>\n",
       "      <th>modelo</th>\n",
       "      <th>mape</th>\n",
       "      <th>std</th>\n",
       "    </tr>\n",
       "  </thead>\n",
       "  <tbody>\n",
       "    <tr>\n",
       "      <th>1</th>\n",
       "      <td>Ridge()</td>\n",
       "      <td>9.24343</td>\n",
       "      <td>-2.41849</td>\n",
       "    </tr>\n",
       "    <tr>\n",
       "      <th>0</th>\n",
       "      <td>LinearRegression()</td>\n",
       "      <td>9.24356</td>\n",
       "      <td>-2.41840</td>\n",
       "    </tr>\n",
       "    <tr>\n",
       "      <th>6</th>\n",
       "      <td>ExtraTreesRegressor()</td>\n",
       "      <td>14.52940</td>\n",
       "      <td>-3.90713</td>\n",
       "    </tr>\n",
       "    <tr>\n",
       "      <th>5</th>\n",
       "      <td>AdaBoostRegressor()</td>\n",
       "      <td>15.05235</td>\n",
       "      <td>-5.14623</td>\n",
       "    </tr>\n",
       "    <tr>\n",
       "      <th>8</th>\n",
       "      <td>RandomForestRegressor()</td>\n",
       "      <td>15.81873</td>\n",
       "      <td>-5.52248</td>\n",
       "    </tr>\n",
       "    <tr>\n",
       "      <th>11</th>\n",
       "      <td>&lt;catboost.core.CatBoostRegressor object at 0x7...</td>\n",
       "      <td>16.04957</td>\n",
       "      <td>-4.63749</td>\n",
       "    </tr>\n",
       "    <tr>\n",
       "      <th>7</th>\n",
       "      <td>GradientBoostingRegressor()</td>\n",
       "      <td>16.65756</td>\n",
       "      <td>-4.79853</td>\n",
       "    </tr>\n",
       "    <tr>\n",
       "      <th>2</th>\n",
       "      <td>Lasso()</td>\n",
       "      <td>16.93542</td>\n",
       "      <td>-8.17960</td>\n",
       "    </tr>\n",
       "    <tr>\n",
       "      <th>3</th>\n",
       "      <td>DecisionTreeRegressor()</td>\n",
       "      <td>19.77880</td>\n",
       "      <td>-5.39478</td>\n",
       "    </tr>\n",
       "    <tr>\n",
       "      <th>9</th>\n",
       "      <td>HistGradientBoostingRegressor()</td>\n",
       "      <td>35.51489</td>\n",
       "      <td>-12.58749</td>\n",
       "    </tr>\n",
       "    <tr>\n",
       "      <th>10</th>\n",
       "      <td>LGBMRegressor()</td>\n",
       "      <td>35.51489</td>\n",
       "      <td>-12.58749</td>\n",
       "    </tr>\n",
       "    <tr>\n",
       "      <th>4</th>\n",
       "      <td>SVR()</td>\n",
       "      <td>36.82016</td>\n",
       "      <td>-13.62302</td>\n",
       "    </tr>\n",
       "  </tbody>\n",
       "</table>\n",
       "</div>"
      ],
      "text/plain": [
       "                                               modelo     mape       std\n",
       "1                                             Ridge()  9.24343  -2.41849\n",
       "0                                  LinearRegression()  9.24356  -2.41840\n",
       "6                               ExtraTreesRegressor() 14.52940  -3.90713\n",
       "5                                 AdaBoostRegressor() 15.05235  -5.14623\n",
       "8                             RandomForestRegressor() 15.81873  -5.52248\n",
       "11  <catboost.core.CatBoostRegressor object at 0x7... 16.04957  -4.63749\n",
       "7                         GradientBoostingRegressor() 16.65756  -4.79853\n",
       "2                                             Lasso() 16.93542  -8.17960\n",
       "3                             DecisionTreeRegressor() 19.77880  -5.39478\n",
       "9                     HistGradientBoostingRegressor() 35.51489 -12.58749\n",
       "10                                    LGBMRegressor() 35.51489 -12.58749\n",
       "4                                               SVR() 36.82016 -13.62302"
      ]
     },
     "execution_count": 27,
     "metadata": {},
     "output_type": "execute_result"
    }
   ],
   "source": [
    "modelos_score = pd.DataFrame(modelos_score)\n",
    "modelos_score.sort_values(by='mape', ascending=True, inplace=True)\n",
    "modelos_score"
   ]
  },
  {
   "cell_type": "markdown",
   "metadata": {},
   "source": [
    "### Linear Regression"
   ]
  },
  {
   "cell_type": "code",
   "execution_count": 28,
   "metadata": {},
   "outputs": [
    {
     "data": {
      "text/html": [
       "<style>#sk-container-id-1 {color: black;background-color: white;}#sk-container-id-1 pre{padding: 0;}#sk-container-id-1 div.sk-toggleable {background-color: white;}#sk-container-id-1 label.sk-toggleable__label {cursor: pointer;display: block;width: 100%;margin-bottom: 0;padding: 0.3em;box-sizing: border-box;text-align: center;}#sk-container-id-1 label.sk-toggleable__label-arrow:before {content: \"▸\";float: left;margin-right: 0.25em;color: #696969;}#sk-container-id-1 label.sk-toggleable__label-arrow:hover:before {color: black;}#sk-container-id-1 div.sk-estimator:hover label.sk-toggleable__label-arrow:before {color: black;}#sk-container-id-1 div.sk-toggleable__content {max-height: 0;max-width: 0;overflow: hidden;text-align: left;background-color: #f0f8ff;}#sk-container-id-1 div.sk-toggleable__content pre {margin: 0.2em;color: black;border-radius: 0.25em;background-color: #f0f8ff;}#sk-container-id-1 input.sk-toggleable__control:checked~div.sk-toggleable__content {max-height: 200px;max-width: 100%;overflow: auto;}#sk-container-id-1 input.sk-toggleable__control:checked~label.sk-toggleable__label-arrow:before {content: \"▾\";}#sk-container-id-1 div.sk-estimator input.sk-toggleable__control:checked~label.sk-toggleable__label {background-color: #d4ebff;}#sk-container-id-1 div.sk-label input.sk-toggleable__control:checked~label.sk-toggleable__label {background-color: #d4ebff;}#sk-container-id-1 input.sk-hidden--visually {border: 0;clip: rect(1px 1px 1px 1px);clip: rect(1px, 1px, 1px, 1px);height: 1px;margin: -1px;overflow: hidden;padding: 0;position: absolute;width: 1px;}#sk-container-id-1 div.sk-estimator {font-family: monospace;background-color: #f0f8ff;border: 1px dotted black;border-radius: 0.25em;box-sizing: border-box;margin-bottom: 0.5em;}#sk-container-id-1 div.sk-estimator:hover {background-color: #d4ebff;}#sk-container-id-1 div.sk-parallel-item::after {content: \"\";width: 100%;border-bottom: 1px solid gray;flex-grow: 1;}#sk-container-id-1 div.sk-label:hover label.sk-toggleable__label {background-color: #d4ebff;}#sk-container-id-1 div.sk-serial::before {content: \"\";position: absolute;border-left: 1px solid gray;box-sizing: border-box;top: 0;bottom: 0;left: 50%;z-index: 0;}#sk-container-id-1 div.sk-serial {display: flex;flex-direction: column;align-items: center;background-color: white;padding-right: 0.2em;padding-left: 0.2em;position: relative;}#sk-container-id-1 div.sk-item {position: relative;z-index: 1;}#sk-container-id-1 div.sk-parallel {display: flex;align-items: stretch;justify-content: center;background-color: white;position: relative;}#sk-container-id-1 div.sk-item::before, #sk-container-id-1 div.sk-parallel-item::before {content: \"\";position: absolute;border-left: 1px solid gray;box-sizing: border-box;top: 0;bottom: 0;left: 50%;z-index: -1;}#sk-container-id-1 div.sk-parallel-item {display: flex;flex-direction: column;z-index: 1;position: relative;background-color: white;}#sk-container-id-1 div.sk-parallel-item:first-child::after {align-self: flex-end;width: 50%;}#sk-container-id-1 div.sk-parallel-item:last-child::after {align-self: flex-start;width: 50%;}#sk-container-id-1 div.sk-parallel-item:only-child::after {width: 0;}#sk-container-id-1 div.sk-dashed-wrapped {border: 1px dashed gray;margin: 0 0.4em 0.5em 0.4em;box-sizing: border-box;padding-bottom: 0.4em;background-color: white;}#sk-container-id-1 div.sk-label label {font-family: monospace;font-weight: bold;display: inline-block;line-height: 1.2em;}#sk-container-id-1 div.sk-label-container {text-align: center;}#sk-container-id-1 div.sk-container {/* jupyter's `normalize.less` sets `[hidden] { display: none; }` but bootstrap.min.css set `[hidden] { display: none !important; }` so we also need the `!important` here to be able to override the default hidden behavior on the sphinx rendered scikit-learn.org. See: https://github.com/scikit-learn/scikit-learn/issues/21755 */display: inline-block !important;position: relative;}#sk-container-id-1 div.sk-text-repr-fallback {display: none;}</style><div id=\"sk-container-id-1\" class=\"sk-top-container\"><div class=\"sk-text-repr-fallback\"><pre>LinearRegression()</pre><b>In a Jupyter environment, please rerun this cell to show the HTML representation or trust the notebook. <br />On GitHub, the HTML representation is unable to render, please try loading this page with nbviewer.org.</b></div><div class=\"sk-container\" hidden><div class=\"sk-item\"><div class=\"sk-estimator sk-toggleable\"><input class=\"sk-toggleable__control sk-hidden--visually\" id=\"sk-estimator-id-1\" type=\"checkbox\" checked><label for=\"sk-estimator-id-1\" class=\"sk-toggleable__label sk-toggleable__label-arrow\">LinearRegression</label><div class=\"sk-toggleable__content\"><pre>LinearRegression()</pre></div></div></div></div></div>"
      ],
      "text/plain": [
       "LinearRegression()"
      ]
     },
     "execution_count": 28,
     "metadata": {},
     "output_type": "execute_result"
    }
   ],
   "source": [
    "linreg = LinearRegression()\n",
    "\n",
    "linreg.fit(X_r_treino, y_r_treino)"
   ]
  },
  {
   "cell_type": "markdown",
   "metadata": {},
   "source": [
    "##### Teste"
   ]
  },
  {
   "cell_type": "code",
   "execution_count": 29,
   "metadata": {},
   "outputs": [
    {
     "name": "stdout",
     "output_type": "stream",
     "text": [
      "\n",
      "      Linear Regression - Teste\n",
      "      R2: 0.66\n",
      "      EQM: 2199636.55\n",
      "      REQM: 1483.12\n",
      "      MAD: 1053.04\n",
      "      MAPE: 32.27%\n",
      "      \n"
     ]
    }
   ],
   "source": [
    "linreg_pred_teste = linreg.predict(X_r_teste)\n",
    "\n",
    "r2 = metrics.r2_score(y_r_teste, linreg_pred_teste)\n",
    "mse = metrics.mean_squared_error(y_r_teste, linreg_pred_teste)\n",
    "rmse = metrics.mean_squared_error(y_r_teste, linreg_pred_teste, squared=False)\n",
    "mad = metrics.mean_absolute_error(y_r_teste, linreg_pred_teste)\n",
    "mape = metrics.mean_absolute_percentage_error(y_r_teste, linreg_pred_teste)\n",
    "\n",
    "print(f'''\n",
    "      Linear Regression - Teste\n",
    "      R2: {round(r2,2)}\n",
    "      EQM: {round(mse,2)}\n",
    "      REQM: {round(rmse,2)}\n",
    "      MAD: {round(mad,2)}\n",
    "      MAPE: {round(mape*100,2)}%\n",
    "      ''')"
   ]
  },
  {
   "cell_type": "markdown",
   "metadata": {},
   "source": [
    "##### Série Completa"
   ]
  },
  {
   "cell_type": "code",
   "execution_count": 30,
   "metadata": {},
   "outputs": [
    {
     "name": "stdout",
     "output_type": "stream",
     "text": [
      "\n",
      "      Linear Regression - Série Completa\n",
      "      R2: 0.91\n",
      "      EQM: 803713.35\n",
      "      REQM: 896.5\n",
      "      MAD: 384.76\n",
      "      MAPE: 11.79%\n",
      "      \n"
     ]
    }
   ],
   "source": [
    "linreg_pred = linreg.predict(X_r)\n",
    "\n",
    "r2 = metrics.r2_score(y_r, linreg_pred)\n",
    "mse = metrics.mean_squared_error(y_r, linreg_pred)\n",
    "rmse = metrics.mean_squared_error(y_r, linreg_pred, squared=False)\n",
    "mad = metrics.mean_absolute_error(y_r, linreg_pred)\n",
    "mape = metrics.mean_absolute_percentage_error(y_r, linreg_pred)\n",
    "\n",
    "print(f'''\n",
    "      Linear Regression - Série Completa\n",
    "      R2: {round(r2,2)}\n",
    "      EQM: {round(mse,2)}\n",
    "      REQM: {round(rmse,2)}\n",
    "      MAD: {round(mad,2)}\n",
    "      MAPE: {round(mape*100,2)}%\n",
    "      ''')"
   ]
  },
  {
   "cell_type": "markdown",
   "metadata": {},
   "source": [
    "### Ridge"
   ]
  },
  {
   "cell_type": "code",
   "execution_count": 31,
   "metadata": {},
   "outputs": [
    {
     "data": {
      "text/html": [
       "<style>#sk-container-id-2 {color: black;background-color: white;}#sk-container-id-2 pre{padding: 0;}#sk-container-id-2 div.sk-toggleable {background-color: white;}#sk-container-id-2 label.sk-toggleable__label {cursor: pointer;display: block;width: 100%;margin-bottom: 0;padding: 0.3em;box-sizing: border-box;text-align: center;}#sk-container-id-2 label.sk-toggleable__label-arrow:before {content: \"▸\";float: left;margin-right: 0.25em;color: #696969;}#sk-container-id-2 label.sk-toggleable__label-arrow:hover:before {color: black;}#sk-container-id-2 div.sk-estimator:hover label.sk-toggleable__label-arrow:before {color: black;}#sk-container-id-2 div.sk-toggleable__content {max-height: 0;max-width: 0;overflow: hidden;text-align: left;background-color: #f0f8ff;}#sk-container-id-2 div.sk-toggleable__content pre {margin: 0.2em;color: black;border-radius: 0.25em;background-color: #f0f8ff;}#sk-container-id-2 input.sk-toggleable__control:checked~div.sk-toggleable__content {max-height: 200px;max-width: 100%;overflow: auto;}#sk-container-id-2 input.sk-toggleable__control:checked~label.sk-toggleable__label-arrow:before {content: \"▾\";}#sk-container-id-2 div.sk-estimator input.sk-toggleable__control:checked~label.sk-toggleable__label {background-color: #d4ebff;}#sk-container-id-2 div.sk-label input.sk-toggleable__control:checked~label.sk-toggleable__label {background-color: #d4ebff;}#sk-container-id-2 input.sk-hidden--visually {border: 0;clip: rect(1px 1px 1px 1px);clip: rect(1px, 1px, 1px, 1px);height: 1px;margin: -1px;overflow: hidden;padding: 0;position: absolute;width: 1px;}#sk-container-id-2 div.sk-estimator {font-family: monospace;background-color: #f0f8ff;border: 1px dotted black;border-radius: 0.25em;box-sizing: border-box;margin-bottom: 0.5em;}#sk-container-id-2 div.sk-estimator:hover {background-color: #d4ebff;}#sk-container-id-2 div.sk-parallel-item::after {content: \"\";width: 100%;border-bottom: 1px solid gray;flex-grow: 1;}#sk-container-id-2 div.sk-label:hover label.sk-toggleable__label {background-color: #d4ebff;}#sk-container-id-2 div.sk-serial::before {content: \"\";position: absolute;border-left: 1px solid gray;box-sizing: border-box;top: 0;bottom: 0;left: 50%;z-index: 0;}#sk-container-id-2 div.sk-serial {display: flex;flex-direction: column;align-items: center;background-color: white;padding-right: 0.2em;padding-left: 0.2em;position: relative;}#sk-container-id-2 div.sk-item {position: relative;z-index: 1;}#sk-container-id-2 div.sk-parallel {display: flex;align-items: stretch;justify-content: center;background-color: white;position: relative;}#sk-container-id-2 div.sk-item::before, #sk-container-id-2 div.sk-parallel-item::before {content: \"\";position: absolute;border-left: 1px solid gray;box-sizing: border-box;top: 0;bottom: 0;left: 50%;z-index: -1;}#sk-container-id-2 div.sk-parallel-item {display: flex;flex-direction: column;z-index: 1;position: relative;background-color: white;}#sk-container-id-2 div.sk-parallel-item:first-child::after {align-self: flex-end;width: 50%;}#sk-container-id-2 div.sk-parallel-item:last-child::after {align-self: flex-start;width: 50%;}#sk-container-id-2 div.sk-parallel-item:only-child::after {width: 0;}#sk-container-id-2 div.sk-dashed-wrapped {border: 1px dashed gray;margin: 0 0.4em 0.5em 0.4em;box-sizing: border-box;padding-bottom: 0.4em;background-color: white;}#sk-container-id-2 div.sk-label label {font-family: monospace;font-weight: bold;display: inline-block;line-height: 1.2em;}#sk-container-id-2 div.sk-label-container {text-align: center;}#sk-container-id-2 div.sk-container {/* jupyter's `normalize.less` sets `[hidden] { display: none; }` but bootstrap.min.css set `[hidden] { display: none !important; }` so we also need the `!important` here to be able to override the default hidden behavior on the sphinx rendered scikit-learn.org. See: https://github.com/scikit-learn/scikit-learn/issues/21755 */display: inline-block !important;position: relative;}#sk-container-id-2 div.sk-text-repr-fallback {display: none;}</style><div id=\"sk-container-id-2\" class=\"sk-top-container\"><div class=\"sk-text-repr-fallback\"><pre>Ridge()</pre><b>In a Jupyter environment, please rerun this cell to show the HTML representation or trust the notebook. <br />On GitHub, the HTML representation is unable to render, please try loading this page with nbviewer.org.</b></div><div class=\"sk-container\" hidden><div class=\"sk-item\"><div class=\"sk-estimator sk-toggleable\"><input class=\"sk-toggleable__control sk-hidden--visually\" id=\"sk-estimator-id-2\" type=\"checkbox\" checked><label for=\"sk-estimator-id-2\" class=\"sk-toggleable__label sk-toggleable__label-arrow\">Ridge</label><div class=\"sk-toggleable__content\"><pre>Ridge()</pre></div></div></div></div></div>"
      ],
      "text/plain": [
       "Ridge()"
      ]
     },
     "execution_count": 31,
     "metadata": {},
     "output_type": "execute_result"
    }
   ],
   "source": [
    "ridge = Ridge()\n",
    "\n",
    "ridge.fit(X_r_treino, y_r_treino)"
   ]
  },
  {
   "cell_type": "markdown",
   "metadata": {},
   "source": [
    "##### Teste"
   ]
  },
  {
   "cell_type": "code",
   "execution_count": 32,
   "metadata": {},
   "outputs": [
    {
     "name": "stdout",
     "output_type": "stream",
     "text": [
      "\n",
      "      Ridge Regression - Teste\n",
      "      R2: 0.66\n",
      "      EQM: 2199509.41\n",
      "      REQM: 1483.07\n",
      "      MAD: 1053.02\n",
      "      MAPE: 32.27%\n",
      "      \n"
     ]
    }
   ],
   "source": [
    "ridge_pred_teste = ridge.predict(X_r_teste)\n",
    "\n",
    "r2 = metrics.r2_score(y_r_teste, ridge_pred_teste)\n",
    "mse = metrics.mean_squared_error(y_r_teste, ridge_pred_teste)\n",
    "rmse = metrics.mean_squared_error(y_r_teste, ridge_pred_teste, squared=False)\n",
    "mad = metrics.mean_absolute_error(y_r_teste, ridge_pred_teste)\n",
    "mape = metrics.mean_absolute_percentage_error(y_r_teste, ridge_pred_teste)\n",
    "\n",
    "print(f'''\n",
    "      Ridge Regression - Teste\n",
    "      R2: {round(r2,2)}\n",
    "      EQM: {round(mse,2)}\n",
    "      REQM: {round(rmse,2)}\n",
    "      MAD: {round(mad,2)}\n",
    "      MAPE: {round(mape*100,2)}%\n",
    "      ''')"
   ]
  },
  {
   "cell_type": "markdown",
   "metadata": {},
   "source": [
    "##### Série Completa"
   ]
  },
  {
   "cell_type": "code",
   "execution_count": 33,
   "metadata": {},
   "outputs": [
    {
     "name": "stdout",
     "output_type": "stream",
     "text": [
      "\n",
      "      Ridge Regression - Série Completa\n",
      "      R2: 0.91\n",
      "      EQM: 803666.9\n",
      "      REQM: 896.47\n",
      "      MAD: 384.77\n",
      "      MAPE: 11.79%\n",
      "      \n"
     ]
    }
   ],
   "source": [
    "ridge_pred = ridge.predict(X_r)\n",
    "\n",
    "r2 = metrics.r2_score(y_r, ridge_pred)\n",
    "mse = metrics.mean_squared_error(y_r, ridge_pred)\n",
    "rmse = metrics.mean_squared_error(y_r, ridge_pred, squared=False)\n",
    "mad = metrics.mean_absolute_error(y_r, ridge_pred)\n",
    "mape = metrics.mean_absolute_percentage_error(y_r, ridge_pred)\n",
    "\n",
    "print(f'''\n",
    "      Ridge Regression - Série Completa\n",
    "      R2: {round(r2,2)}\n",
    "      EQM: {round(mse,2)}\n",
    "      REQM: {round(rmse,2)}\n",
    "      MAD: {round(mad,2)}\n",
    "      MAPE: {round(mape*100,2)}%\n",
    "      ''')"
   ]
  },
  {
   "cell_type": "markdown",
   "metadata": {},
   "source": [
    "### Decision Tree Regressor"
   ]
  },
  {
   "cell_type": "code",
   "execution_count": 34,
   "metadata": {},
   "outputs": [
    {
     "data": {
      "text/html": [
       "<style>#sk-container-id-3 {color: black;background-color: white;}#sk-container-id-3 pre{padding: 0;}#sk-container-id-3 div.sk-toggleable {background-color: white;}#sk-container-id-3 label.sk-toggleable__label {cursor: pointer;display: block;width: 100%;margin-bottom: 0;padding: 0.3em;box-sizing: border-box;text-align: center;}#sk-container-id-3 label.sk-toggleable__label-arrow:before {content: \"▸\";float: left;margin-right: 0.25em;color: #696969;}#sk-container-id-3 label.sk-toggleable__label-arrow:hover:before {color: black;}#sk-container-id-3 div.sk-estimator:hover label.sk-toggleable__label-arrow:before {color: black;}#sk-container-id-3 div.sk-toggleable__content {max-height: 0;max-width: 0;overflow: hidden;text-align: left;background-color: #f0f8ff;}#sk-container-id-3 div.sk-toggleable__content pre {margin: 0.2em;color: black;border-radius: 0.25em;background-color: #f0f8ff;}#sk-container-id-3 input.sk-toggleable__control:checked~div.sk-toggleable__content {max-height: 200px;max-width: 100%;overflow: auto;}#sk-container-id-3 input.sk-toggleable__control:checked~label.sk-toggleable__label-arrow:before {content: \"▾\";}#sk-container-id-3 div.sk-estimator input.sk-toggleable__control:checked~label.sk-toggleable__label {background-color: #d4ebff;}#sk-container-id-3 div.sk-label input.sk-toggleable__control:checked~label.sk-toggleable__label {background-color: #d4ebff;}#sk-container-id-3 input.sk-hidden--visually {border: 0;clip: rect(1px 1px 1px 1px);clip: rect(1px, 1px, 1px, 1px);height: 1px;margin: -1px;overflow: hidden;padding: 0;position: absolute;width: 1px;}#sk-container-id-3 div.sk-estimator {font-family: monospace;background-color: #f0f8ff;border: 1px dotted black;border-radius: 0.25em;box-sizing: border-box;margin-bottom: 0.5em;}#sk-container-id-3 div.sk-estimator:hover {background-color: #d4ebff;}#sk-container-id-3 div.sk-parallel-item::after {content: \"\";width: 100%;border-bottom: 1px solid gray;flex-grow: 1;}#sk-container-id-3 div.sk-label:hover label.sk-toggleable__label {background-color: #d4ebff;}#sk-container-id-3 div.sk-serial::before {content: \"\";position: absolute;border-left: 1px solid gray;box-sizing: border-box;top: 0;bottom: 0;left: 50%;z-index: 0;}#sk-container-id-3 div.sk-serial {display: flex;flex-direction: column;align-items: center;background-color: white;padding-right: 0.2em;padding-left: 0.2em;position: relative;}#sk-container-id-3 div.sk-item {position: relative;z-index: 1;}#sk-container-id-3 div.sk-parallel {display: flex;align-items: stretch;justify-content: center;background-color: white;position: relative;}#sk-container-id-3 div.sk-item::before, #sk-container-id-3 div.sk-parallel-item::before {content: \"\";position: absolute;border-left: 1px solid gray;box-sizing: border-box;top: 0;bottom: 0;left: 50%;z-index: -1;}#sk-container-id-3 div.sk-parallel-item {display: flex;flex-direction: column;z-index: 1;position: relative;background-color: white;}#sk-container-id-3 div.sk-parallel-item:first-child::after {align-self: flex-end;width: 50%;}#sk-container-id-3 div.sk-parallel-item:last-child::after {align-self: flex-start;width: 50%;}#sk-container-id-3 div.sk-parallel-item:only-child::after {width: 0;}#sk-container-id-3 div.sk-dashed-wrapped {border: 1px dashed gray;margin: 0 0.4em 0.5em 0.4em;box-sizing: border-box;padding-bottom: 0.4em;background-color: white;}#sk-container-id-3 div.sk-label label {font-family: monospace;font-weight: bold;display: inline-block;line-height: 1.2em;}#sk-container-id-3 div.sk-label-container {text-align: center;}#sk-container-id-3 div.sk-container {/* jupyter's `normalize.less` sets `[hidden] { display: none; }` but bootstrap.min.css set `[hidden] { display: none !important; }` so we also need the `!important` here to be able to override the default hidden behavior on the sphinx rendered scikit-learn.org. See: https://github.com/scikit-learn/scikit-learn/issues/21755 */display: inline-block !important;position: relative;}#sk-container-id-3 div.sk-text-repr-fallback {display: none;}</style><div id=\"sk-container-id-3\" class=\"sk-top-container\"><div class=\"sk-text-repr-fallback\"><pre>DecisionTreeRegressor()</pre><b>In a Jupyter environment, please rerun this cell to show the HTML representation or trust the notebook. <br />On GitHub, the HTML representation is unable to render, please try loading this page with nbviewer.org.</b></div><div class=\"sk-container\" hidden><div class=\"sk-item\"><div class=\"sk-estimator sk-toggleable\"><input class=\"sk-toggleable__control sk-hidden--visually\" id=\"sk-estimator-id-3\" type=\"checkbox\" checked><label for=\"sk-estimator-id-3\" class=\"sk-toggleable__label sk-toggleable__label-arrow\">DecisionTreeRegressor</label><div class=\"sk-toggleable__content\"><pre>DecisionTreeRegressor()</pre></div></div></div></div></div>"
      ],
      "text/plain": [
       "DecisionTreeRegressor()"
      ]
     },
     "execution_count": 34,
     "metadata": {},
     "output_type": "execute_result"
    }
   ],
   "source": [
    "dtreg = DecisionTreeRegressor()\n",
    "\n",
    "dtreg.fit(X_r_treino, y_r_treino)"
   ]
  },
  {
   "cell_type": "markdown",
   "metadata": {},
   "source": [
    "##### Teste"
   ]
  },
  {
   "cell_type": "code",
   "execution_count": 35,
   "metadata": {},
   "outputs": [
    {
     "name": "stdout",
     "output_type": "stream",
     "text": [
      "\n",
      "      Decision Tree Regressor - Teste\n",
      "      R2: 0.5\n",
      "      EQM: 3243531.53\n",
      "      REQM: 1800.98\n",
      "      MAD: 1586.79\n",
      "      MAPE: 40.75%\n",
      "      \n"
     ]
    }
   ],
   "source": [
    "dtreg_pred_teste = dtreg.predict(X_r_teste)\n",
    "\n",
    "r2 = metrics.r2_score(y_r_teste, dtreg_pred_teste)\n",
    "mse = metrics.mean_squared_error(y_r_teste, dtreg_pred_teste)\n",
    "rmse = metrics.mean_squared_error(y_r_teste, dtreg_pred_teste, squared=False)\n",
    "mad = metrics.mean_absolute_error(y_r_teste, dtreg_pred_teste)\n",
    "mape = metrics.mean_absolute_percentage_error(y_r_teste, dtreg_pred_teste)\n",
    "\n",
    "print(f'''\n",
    "      Decision Tree Regressor - Teste\n",
    "      R2: {round(r2,2)}\n",
    "      EQM: {round(mse,2)}\n",
    "      REQM: {round(rmse,2)}\n",
    "      MAD: {round(mad,2)}\n",
    "      MAPE: {round(mape*100,2)}%\n",
    "      ''')"
   ]
  },
  {
   "cell_type": "markdown",
   "metadata": {},
   "source": [
    "##### Série Completa"
   ]
  },
  {
   "cell_type": "code",
   "execution_count": 36,
   "metadata": {},
   "outputs": [
    {
     "name": "stdout",
     "output_type": "stream",
     "text": [
      "\n",
      "      Decision Tree Regressor - Série Completa\n",
      "      R2: 0.86\n",
      "      EQM: 1185136.52\n",
      "      REQM: 1088.64\n",
      "      MAD: 579.79\n",
      "      MAPE: 14.89%\n",
      "      \n"
     ]
    }
   ],
   "source": [
    "dtreg_pred = dtreg.predict(X_r)\n",
    "\n",
    "r2 = metrics.r2_score(y_r, dtreg_pred)\n",
    "mse = metrics.mean_squared_error(y_r, dtreg_pred)\n",
    "rmse = metrics.mean_squared_error(y_r, dtreg_pred, squared=False)\n",
    "mad = metrics.mean_absolute_error(y_r, dtreg_pred)\n",
    "mape = metrics.mean_absolute_percentage_error(y_r, dtreg_pred)\n",
    "\n",
    "print(f'''\n",
    "      Decision Tree Regressor - Série Completa\n",
    "      R2: {round(r2,2)}\n",
    "      EQM: {round(mse,2)}\n",
    "      REQM: {round(rmse,2)}\n",
    "      MAD: {round(mad,2)}\n",
    "      MAPE: {round(mape*100,2)}%\n",
    "      ''')"
   ]
  },
  {
   "cell_type": "markdown",
   "metadata": {},
   "source": [
    "### SVR"
   ]
  },
  {
   "cell_type": "code",
   "execution_count": 37,
   "metadata": {},
   "outputs": [
    {
     "data": {
      "text/html": [
       "<style>#sk-container-id-4 {color: black;background-color: white;}#sk-container-id-4 pre{padding: 0;}#sk-container-id-4 div.sk-toggleable {background-color: white;}#sk-container-id-4 label.sk-toggleable__label {cursor: pointer;display: block;width: 100%;margin-bottom: 0;padding: 0.3em;box-sizing: border-box;text-align: center;}#sk-container-id-4 label.sk-toggleable__label-arrow:before {content: \"▸\";float: left;margin-right: 0.25em;color: #696969;}#sk-container-id-4 label.sk-toggleable__label-arrow:hover:before {color: black;}#sk-container-id-4 div.sk-estimator:hover label.sk-toggleable__label-arrow:before {color: black;}#sk-container-id-4 div.sk-toggleable__content {max-height: 0;max-width: 0;overflow: hidden;text-align: left;background-color: #f0f8ff;}#sk-container-id-4 div.sk-toggleable__content pre {margin: 0.2em;color: black;border-radius: 0.25em;background-color: #f0f8ff;}#sk-container-id-4 input.sk-toggleable__control:checked~div.sk-toggleable__content {max-height: 200px;max-width: 100%;overflow: auto;}#sk-container-id-4 input.sk-toggleable__control:checked~label.sk-toggleable__label-arrow:before {content: \"▾\";}#sk-container-id-4 div.sk-estimator input.sk-toggleable__control:checked~label.sk-toggleable__label {background-color: #d4ebff;}#sk-container-id-4 div.sk-label input.sk-toggleable__control:checked~label.sk-toggleable__label {background-color: #d4ebff;}#sk-container-id-4 input.sk-hidden--visually {border: 0;clip: rect(1px 1px 1px 1px);clip: rect(1px, 1px, 1px, 1px);height: 1px;margin: -1px;overflow: hidden;padding: 0;position: absolute;width: 1px;}#sk-container-id-4 div.sk-estimator {font-family: monospace;background-color: #f0f8ff;border: 1px dotted black;border-radius: 0.25em;box-sizing: border-box;margin-bottom: 0.5em;}#sk-container-id-4 div.sk-estimator:hover {background-color: #d4ebff;}#sk-container-id-4 div.sk-parallel-item::after {content: \"\";width: 100%;border-bottom: 1px solid gray;flex-grow: 1;}#sk-container-id-4 div.sk-label:hover label.sk-toggleable__label {background-color: #d4ebff;}#sk-container-id-4 div.sk-serial::before {content: \"\";position: absolute;border-left: 1px solid gray;box-sizing: border-box;top: 0;bottom: 0;left: 50%;z-index: 0;}#sk-container-id-4 div.sk-serial {display: flex;flex-direction: column;align-items: center;background-color: white;padding-right: 0.2em;padding-left: 0.2em;position: relative;}#sk-container-id-4 div.sk-item {position: relative;z-index: 1;}#sk-container-id-4 div.sk-parallel {display: flex;align-items: stretch;justify-content: center;background-color: white;position: relative;}#sk-container-id-4 div.sk-item::before, #sk-container-id-4 div.sk-parallel-item::before {content: \"\";position: absolute;border-left: 1px solid gray;box-sizing: border-box;top: 0;bottom: 0;left: 50%;z-index: -1;}#sk-container-id-4 div.sk-parallel-item {display: flex;flex-direction: column;z-index: 1;position: relative;background-color: white;}#sk-container-id-4 div.sk-parallel-item:first-child::after {align-self: flex-end;width: 50%;}#sk-container-id-4 div.sk-parallel-item:last-child::after {align-self: flex-start;width: 50%;}#sk-container-id-4 div.sk-parallel-item:only-child::after {width: 0;}#sk-container-id-4 div.sk-dashed-wrapped {border: 1px dashed gray;margin: 0 0.4em 0.5em 0.4em;box-sizing: border-box;padding-bottom: 0.4em;background-color: white;}#sk-container-id-4 div.sk-label label {font-family: monospace;font-weight: bold;display: inline-block;line-height: 1.2em;}#sk-container-id-4 div.sk-label-container {text-align: center;}#sk-container-id-4 div.sk-container {/* jupyter's `normalize.less` sets `[hidden] { display: none; }` but bootstrap.min.css set `[hidden] { display: none !important; }` so we also need the `!important` here to be able to override the default hidden behavior on the sphinx rendered scikit-learn.org. See: https://github.com/scikit-learn/scikit-learn/issues/21755 */display: inline-block !important;position: relative;}#sk-container-id-4 div.sk-text-repr-fallback {display: none;}</style><div id=\"sk-container-id-4\" class=\"sk-top-container\"><div class=\"sk-text-repr-fallback\"><pre>SVR()</pre><b>In a Jupyter environment, please rerun this cell to show the HTML representation or trust the notebook. <br />On GitHub, the HTML representation is unable to render, please try loading this page with nbviewer.org.</b></div><div class=\"sk-container\" hidden><div class=\"sk-item\"><div class=\"sk-estimator sk-toggleable\"><input class=\"sk-toggleable__control sk-hidden--visually\" id=\"sk-estimator-id-4\" type=\"checkbox\" checked><label for=\"sk-estimator-id-4\" class=\"sk-toggleable__label sk-toggleable__label-arrow\">SVR</label><div class=\"sk-toggleable__content\"><pre>SVR()</pre></div></div></div></div></div>"
      ],
      "text/plain": [
       "SVR()"
      ]
     },
     "execution_count": 37,
     "metadata": {},
     "output_type": "execute_result"
    }
   ],
   "source": [
    "svr = SVR()\n",
    "\n",
    "svr.fit(X_r_treino, y_r_treino)"
   ]
  },
  {
   "cell_type": "markdown",
   "metadata": {},
   "source": [
    "##### Teste"
   ]
  },
  {
   "cell_type": "code",
   "execution_count": 38,
   "metadata": {},
   "outputs": [
    {
     "name": "stdout",
     "output_type": "stream",
     "text": [
      "\n",
      "      SVR - Teste\n",
      "      R2: -0.94\n",
      "      EQM: 12687724.8\n",
      "      REQM: 3561.98\n",
      "      MAD: 3018.04\n",
      "      MAPE: 91.69%\n",
      "      \n"
     ]
    }
   ],
   "source": [
    "svr_pred_teste = svr.predict(X_r_teste)\n",
    "\n",
    "r2 = metrics.r2_score(y_r_teste, svr_pred_teste)\n",
    "mse = metrics.mean_squared_error(y_r_teste, svr_pred_teste)\n",
    "rmse = metrics.mean_squared_error(y_r_teste, svr_pred_teste, squared=False)\n",
    "mad = metrics.mean_absolute_error(y_r_teste, svr_pred_teste)\n",
    "mape = metrics.mean_absolute_percentage_error(y_r_teste, svr_pred_teste)\n",
    "\n",
    "print(f'''\n",
    "      SVR - Teste\n",
    "      R2: {round(r2,2)}\n",
    "      EQM: {round(mse,2)}\n",
    "      REQM: {round(rmse,2)}\n",
    "      MAD: {round(mad,2)}\n",
    "      MAPE: {round(mape*100,2)}%\n",
    "      ''')"
   ]
  },
  {
   "cell_type": "markdown",
   "metadata": {},
   "source": [
    "##### Série Completa"
   ]
  },
  {
   "cell_type": "code",
   "execution_count": 39,
   "metadata": {},
   "outputs": [
    {
     "name": "stdout",
     "output_type": "stream",
     "text": [
      "\n",
      "      SVR - Série Completa\n",
      "      R2: -0.06\n",
      "      EQM: 9145401.07\n",
      "      REQM: 3024.14\n",
      "      MAD: 2608.6\n",
      "      MAPE: 54.73%\n",
      "      \n"
     ]
    }
   ],
   "source": [
    "svr_pred = svr.predict(X_r)\n",
    "\n",
    "r2 = metrics.r2_score(y_r, svr_pred)\n",
    "mse = metrics.mean_squared_error(y_r, svr_pred)\n",
    "rmse = metrics.mean_squared_error(y_r, svr_pred, squared=False)\n",
    "mad = metrics.mean_absolute_error(y_r, svr_pred)\n",
    "mape = metrics.mean_absolute_percentage_error(y_r, svr_pred)\n",
    "\n",
    "print(f'''\n",
    "      SVR - Série Completa\n",
    "      R2: {round(r2,2)}\n",
    "      EQM: {round(mse,2)}\n",
    "      REQM: {round(rmse,2)}\n",
    "      MAD: {round(mad,2)}\n",
    "      MAPE: {round(mape*100,2)}%\n",
    "      ''')"
   ]
  },
  {
   "cell_type": "markdown",
   "metadata": {},
   "source": [
    "### AdaBoost"
   ]
  },
  {
   "cell_type": "code",
   "execution_count": 40,
   "metadata": {},
   "outputs": [
    {
     "data": {
      "text/html": [
       "<style>#sk-container-id-5 {color: black;background-color: white;}#sk-container-id-5 pre{padding: 0;}#sk-container-id-5 div.sk-toggleable {background-color: white;}#sk-container-id-5 label.sk-toggleable__label {cursor: pointer;display: block;width: 100%;margin-bottom: 0;padding: 0.3em;box-sizing: border-box;text-align: center;}#sk-container-id-5 label.sk-toggleable__label-arrow:before {content: \"▸\";float: left;margin-right: 0.25em;color: #696969;}#sk-container-id-5 label.sk-toggleable__label-arrow:hover:before {color: black;}#sk-container-id-5 div.sk-estimator:hover label.sk-toggleable__label-arrow:before {color: black;}#sk-container-id-5 div.sk-toggleable__content {max-height: 0;max-width: 0;overflow: hidden;text-align: left;background-color: #f0f8ff;}#sk-container-id-5 div.sk-toggleable__content pre {margin: 0.2em;color: black;border-radius: 0.25em;background-color: #f0f8ff;}#sk-container-id-5 input.sk-toggleable__control:checked~div.sk-toggleable__content {max-height: 200px;max-width: 100%;overflow: auto;}#sk-container-id-5 input.sk-toggleable__control:checked~label.sk-toggleable__label-arrow:before {content: \"▾\";}#sk-container-id-5 div.sk-estimator input.sk-toggleable__control:checked~label.sk-toggleable__label {background-color: #d4ebff;}#sk-container-id-5 div.sk-label input.sk-toggleable__control:checked~label.sk-toggleable__label {background-color: #d4ebff;}#sk-container-id-5 input.sk-hidden--visually {border: 0;clip: rect(1px 1px 1px 1px);clip: rect(1px, 1px, 1px, 1px);height: 1px;margin: -1px;overflow: hidden;padding: 0;position: absolute;width: 1px;}#sk-container-id-5 div.sk-estimator {font-family: monospace;background-color: #f0f8ff;border: 1px dotted black;border-radius: 0.25em;box-sizing: border-box;margin-bottom: 0.5em;}#sk-container-id-5 div.sk-estimator:hover {background-color: #d4ebff;}#sk-container-id-5 div.sk-parallel-item::after {content: \"\";width: 100%;border-bottom: 1px solid gray;flex-grow: 1;}#sk-container-id-5 div.sk-label:hover label.sk-toggleable__label {background-color: #d4ebff;}#sk-container-id-5 div.sk-serial::before {content: \"\";position: absolute;border-left: 1px solid gray;box-sizing: border-box;top: 0;bottom: 0;left: 50%;z-index: 0;}#sk-container-id-5 div.sk-serial {display: flex;flex-direction: column;align-items: center;background-color: white;padding-right: 0.2em;padding-left: 0.2em;position: relative;}#sk-container-id-5 div.sk-item {position: relative;z-index: 1;}#sk-container-id-5 div.sk-parallel {display: flex;align-items: stretch;justify-content: center;background-color: white;position: relative;}#sk-container-id-5 div.sk-item::before, #sk-container-id-5 div.sk-parallel-item::before {content: \"\";position: absolute;border-left: 1px solid gray;box-sizing: border-box;top: 0;bottom: 0;left: 50%;z-index: -1;}#sk-container-id-5 div.sk-parallel-item {display: flex;flex-direction: column;z-index: 1;position: relative;background-color: white;}#sk-container-id-5 div.sk-parallel-item:first-child::after {align-self: flex-end;width: 50%;}#sk-container-id-5 div.sk-parallel-item:last-child::after {align-self: flex-start;width: 50%;}#sk-container-id-5 div.sk-parallel-item:only-child::after {width: 0;}#sk-container-id-5 div.sk-dashed-wrapped {border: 1px dashed gray;margin: 0 0.4em 0.5em 0.4em;box-sizing: border-box;padding-bottom: 0.4em;background-color: white;}#sk-container-id-5 div.sk-label label {font-family: monospace;font-weight: bold;display: inline-block;line-height: 1.2em;}#sk-container-id-5 div.sk-label-container {text-align: center;}#sk-container-id-5 div.sk-container {/* jupyter's `normalize.less` sets `[hidden] { display: none; }` but bootstrap.min.css set `[hidden] { display: none !important; }` so we also need the `!important` here to be able to override the default hidden behavior on the sphinx rendered scikit-learn.org. See: https://github.com/scikit-learn/scikit-learn/issues/21755 */display: inline-block !important;position: relative;}#sk-container-id-5 div.sk-text-repr-fallback {display: none;}</style><div id=\"sk-container-id-5\" class=\"sk-top-container\"><div class=\"sk-text-repr-fallback\"><pre>AdaBoostRegressor()</pre><b>In a Jupyter environment, please rerun this cell to show the HTML representation or trust the notebook. <br />On GitHub, the HTML representation is unable to render, please try loading this page with nbviewer.org.</b></div><div class=\"sk-container\" hidden><div class=\"sk-item\"><div class=\"sk-estimator sk-toggleable\"><input class=\"sk-toggleable__control sk-hidden--visually\" id=\"sk-estimator-id-5\" type=\"checkbox\" checked><label for=\"sk-estimator-id-5\" class=\"sk-toggleable__label sk-toggleable__label-arrow\">AdaBoostRegressor</label><div class=\"sk-toggleable__content\"><pre>AdaBoostRegressor()</pre></div></div></div></div></div>"
      ],
      "text/plain": [
       "AdaBoostRegressor()"
      ]
     },
     "execution_count": 40,
     "metadata": {},
     "output_type": "execute_result"
    }
   ],
   "source": [
    "adaboost = AdaBoostRegressor()\n",
    "\n",
    "adaboost.fit(X_r_treino, y_r_treino)"
   ]
  },
  {
   "cell_type": "markdown",
   "metadata": {},
   "source": [
    "##### Teste"
   ]
  },
  {
   "cell_type": "code",
   "execution_count": 41,
   "metadata": {},
   "outputs": [
    {
     "name": "stdout",
     "output_type": "stream",
     "text": [
      "\n",
      "      AdaBoost - Teste\n",
      "      R2: 0.4\n",
      "      EQM: 3936051.97\n",
      "      REQM: 1983.95\n",
      "      MAD: 1829.2\n",
      "      MAPE: 45.33%\n",
      "      \n"
     ]
    }
   ],
   "source": [
    "adaboost_pred_teste = adaboost.predict(X_r_teste)\n",
    "\n",
    "r2 = metrics.r2_score(y_r_teste, adaboost_pred_teste)\n",
    "mse = metrics.mean_squared_error(y_r_teste, adaboost_pred_teste)\n",
    "rmse = metrics.mean_squared_error(y_r_teste, adaboost_pred_teste, squared=False)\n",
    "mad = metrics.mean_absolute_error(y_r_teste, adaboost_pred_teste)\n",
    "mape = metrics.mean_absolute_percentage_error(y_r_teste, adaboost_pred_teste)\n",
    "\n",
    "print(f'''\n",
    "      AdaBoost - Teste\n",
    "      R2: {round(r2,2)}\n",
    "      EQM: {round(mse,2)}\n",
    "      REQM: {round(rmse,2)}\n",
    "      MAD: {round(mad,2)}\n",
    "      MAPE: {round(mape*100,2)}%\n",
    "      ''')"
   ]
  },
  {
   "cell_type": "markdown",
   "metadata": {},
   "source": [
    "##### Série Completa"
   ]
  },
  {
   "cell_type": "code",
   "execution_count": 42,
   "metadata": {},
   "outputs": [
    {
     "name": "stdout",
     "output_type": "stream",
     "text": [
      "\n",
      "      AdaBoost - Série Completa\n",
      "      R2: 0.83\n",
      "      EQM: 1461254.42\n",
      "      REQM: 1208.82\n",
      "      MAD: 756.27\n",
      "      MAPE: 17.8%\n",
      "      \n"
     ]
    }
   ],
   "source": [
    "adaboost_pred = adaboost.predict(X_r)\n",
    "\n",
    "r2 = metrics.r2_score(y_r, adaboost_pred)\n",
    "mse = metrics.mean_squared_error(y_r, adaboost_pred)\n",
    "rmse = metrics.mean_squared_error(y_r, adaboost_pred, squared=False)\n",
    "mad = metrics.mean_absolute_error(y_r, adaboost_pred)\n",
    "mape = metrics.mean_absolute_percentage_error(y_r, adaboost_pred)\n",
    "\n",
    "print(f'''\n",
    "      AdaBoost - Série Completa\n",
    "      R2: {round(r2,2)}\n",
    "      EQM: {round(mse,2)}\n",
    "      REQM: {round(rmse,2)}\n",
    "      MAD: {round(mad,2)}\n",
    "      MAPE: {round(mape*100,2)}%\n",
    "      ''')"
   ]
  },
  {
   "cell_type": "markdown",
   "metadata": {},
   "source": [
    "### Extra Trees Regressor"
   ]
  },
  {
   "cell_type": "code",
   "execution_count": 43,
   "metadata": {},
   "outputs": [
    {
     "data": {
      "text/html": [
       "<style>#sk-container-id-6 {color: black;background-color: white;}#sk-container-id-6 pre{padding: 0;}#sk-container-id-6 div.sk-toggleable {background-color: white;}#sk-container-id-6 label.sk-toggleable__label {cursor: pointer;display: block;width: 100%;margin-bottom: 0;padding: 0.3em;box-sizing: border-box;text-align: center;}#sk-container-id-6 label.sk-toggleable__label-arrow:before {content: \"▸\";float: left;margin-right: 0.25em;color: #696969;}#sk-container-id-6 label.sk-toggleable__label-arrow:hover:before {color: black;}#sk-container-id-6 div.sk-estimator:hover label.sk-toggleable__label-arrow:before {color: black;}#sk-container-id-6 div.sk-toggleable__content {max-height: 0;max-width: 0;overflow: hidden;text-align: left;background-color: #f0f8ff;}#sk-container-id-6 div.sk-toggleable__content pre {margin: 0.2em;color: black;border-radius: 0.25em;background-color: #f0f8ff;}#sk-container-id-6 input.sk-toggleable__control:checked~div.sk-toggleable__content {max-height: 200px;max-width: 100%;overflow: auto;}#sk-container-id-6 input.sk-toggleable__control:checked~label.sk-toggleable__label-arrow:before {content: \"▾\";}#sk-container-id-6 div.sk-estimator input.sk-toggleable__control:checked~label.sk-toggleable__label {background-color: #d4ebff;}#sk-container-id-6 div.sk-label input.sk-toggleable__control:checked~label.sk-toggleable__label {background-color: #d4ebff;}#sk-container-id-6 input.sk-hidden--visually {border: 0;clip: rect(1px 1px 1px 1px);clip: rect(1px, 1px, 1px, 1px);height: 1px;margin: -1px;overflow: hidden;padding: 0;position: absolute;width: 1px;}#sk-container-id-6 div.sk-estimator {font-family: monospace;background-color: #f0f8ff;border: 1px dotted black;border-radius: 0.25em;box-sizing: border-box;margin-bottom: 0.5em;}#sk-container-id-6 div.sk-estimator:hover {background-color: #d4ebff;}#sk-container-id-6 div.sk-parallel-item::after {content: \"\";width: 100%;border-bottom: 1px solid gray;flex-grow: 1;}#sk-container-id-6 div.sk-label:hover label.sk-toggleable__label {background-color: #d4ebff;}#sk-container-id-6 div.sk-serial::before {content: \"\";position: absolute;border-left: 1px solid gray;box-sizing: border-box;top: 0;bottom: 0;left: 50%;z-index: 0;}#sk-container-id-6 div.sk-serial {display: flex;flex-direction: column;align-items: center;background-color: white;padding-right: 0.2em;padding-left: 0.2em;position: relative;}#sk-container-id-6 div.sk-item {position: relative;z-index: 1;}#sk-container-id-6 div.sk-parallel {display: flex;align-items: stretch;justify-content: center;background-color: white;position: relative;}#sk-container-id-6 div.sk-item::before, #sk-container-id-6 div.sk-parallel-item::before {content: \"\";position: absolute;border-left: 1px solid gray;box-sizing: border-box;top: 0;bottom: 0;left: 50%;z-index: -1;}#sk-container-id-6 div.sk-parallel-item {display: flex;flex-direction: column;z-index: 1;position: relative;background-color: white;}#sk-container-id-6 div.sk-parallel-item:first-child::after {align-self: flex-end;width: 50%;}#sk-container-id-6 div.sk-parallel-item:last-child::after {align-self: flex-start;width: 50%;}#sk-container-id-6 div.sk-parallel-item:only-child::after {width: 0;}#sk-container-id-6 div.sk-dashed-wrapped {border: 1px dashed gray;margin: 0 0.4em 0.5em 0.4em;box-sizing: border-box;padding-bottom: 0.4em;background-color: white;}#sk-container-id-6 div.sk-label label {font-family: monospace;font-weight: bold;display: inline-block;line-height: 1.2em;}#sk-container-id-6 div.sk-label-container {text-align: center;}#sk-container-id-6 div.sk-container {/* jupyter's `normalize.less` sets `[hidden] { display: none; }` but bootstrap.min.css set `[hidden] { display: none !important; }` so we also need the `!important` here to be able to override the default hidden behavior on the sphinx rendered scikit-learn.org. See: https://github.com/scikit-learn/scikit-learn/issues/21755 */display: inline-block !important;position: relative;}#sk-container-id-6 div.sk-text-repr-fallback {display: none;}</style><div id=\"sk-container-id-6\" class=\"sk-top-container\"><div class=\"sk-text-repr-fallback\"><pre>ExtraTreesRegressor()</pre><b>In a Jupyter environment, please rerun this cell to show the HTML representation or trust the notebook. <br />On GitHub, the HTML representation is unable to render, please try loading this page with nbviewer.org.</b></div><div class=\"sk-container\" hidden><div class=\"sk-item\"><div class=\"sk-estimator sk-toggleable\"><input class=\"sk-toggleable__control sk-hidden--visually\" id=\"sk-estimator-id-6\" type=\"checkbox\" checked><label for=\"sk-estimator-id-6\" class=\"sk-toggleable__label sk-toggleable__label-arrow\">ExtraTreesRegressor</label><div class=\"sk-toggleable__content\"><pre>ExtraTreesRegressor()</pre></div></div></div></div></div>"
      ],
      "text/plain": [
       "ExtraTreesRegressor()"
      ]
     },
     "execution_count": 43,
     "metadata": {},
     "output_type": "execute_result"
    }
   ],
   "source": [
    "et_reg = ExtraTreesRegressor()\n",
    "\n",
    "et_reg.fit(X_r_treino, y_r_treino)"
   ]
  },
  {
   "cell_type": "markdown",
   "metadata": {},
   "source": [
    "##### Teste"
   ]
  },
  {
   "cell_type": "code",
   "execution_count": 44,
   "metadata": {},
   "outputs": [
    {
     "name": "stdout",
     "output_type": "stream",
     "text": [
      "\n",
      "      Extra Trees - Teste\n",
      "      R2: 0.46\n",
      "      EQM: 3551082.0\n",
      "      REQM: 1884.43\n",
      "      MAD: 1637.25\n",
      "      MAPE: 42.98%\n",
      "      \n"
     ]
    }
   ],
   "source": [
    "et_reg_pred_teste = et_reg.predict(X_r_teste)\n",
    "\n",
    "r2 = metrics.r2_score(y_r_teste, et_reg_pred_teste)\n",
    "mse = metrics.mean_squared_error(y_r_teste, et_reg_pred_teste)\n",
    "rmse = metrics.mean_squared_error(y_r_teste, et_reg_pred_teste, squared=False)\n",
    "mad = metrics.mean_absolute_error(y_r_teste, et_reg_pred_teste)\n",
    "mape = metrics.mean_absolute_percentage_error(y_r_teste, et_reg_pred_teste)\n",
    "\n",
    "print(f'''\n",
    "      Extra Trees - Teste\n",
    "      R2: {round(r2,2)}\n",
    "      EQM: {round(mse,2)}\n",
    "      REQM: {round(rmse,2)}\n",
    "      MAD: {round(mad,2)}\n",
    "      MAPE: {round(mape*100,2)}%\n",
    "      ''')"
   ]
  },
  {
   "cell_type": "markdown",
   "metadata": {},
   "source": [
    "##### Série Completa"
   ]
  },
  {
   "cell_type": "code",
   "execution_count": 45,
   "metadata": {},
   "outputs": [
    {
     "name": "stdout",
     "output_type": "stream",
     "text": [
      "\n",
      "      Extra Trees - Série Completa\n",
      "      R2: 0.85\n",
      "      EQM: 1297510.73\n",
      "      REQM: 1139.08\n",
      "      MAD: 598.23\n",
      "      MAPE: 15.71%\n",
      "      \n"
     ]
    }
   ],
   "source": [
    "et_reg_pred = et_reg.predict(X_r)\n",
    "\n",
    "r2 = metrics.r2_score(y_r, et_reg_pred)\n",
    "mse = metrics.mean_squared_error(y_r, et_reg_pred)\n",
    "rmse = metrics.mean_squared_error(y_r, et_reg_pred, squared=False)\n",
    "mad = metrics.mean_absolute_error(y_r, et_reg_pred)\n",
    "mape = metrics.mean_absolute_percentage_error(y_r, et_reg_pred)\n",
    "\n",
    "print(f'''\n",
    "      Extra Trees - Série Completa\n",
    "      R2: {round(r2,2)}\n",
    "      EQM: {round(mse,2)}\n",
    "      REQM: {round(rmse,2)}\n",
    "      MAD: {round(mad,2)}\n",
    "      MAPE: {round(mape*100,2)}%\n",
    "      ''')"
   ]
  },
  {
   "cell_type": "markdown",
   "metadata": {},
   "source": [
    "### Gradient Boosting Regressor"
   ]
  },
  {
   "cell_type": "code",
   "execution_count": 46,
   "metadata": {},
   "outputs": [
    {
     "data": {
      "text/html": [
       "<style>#sk-container-id-7 {color: black;background-color: white;}#sk-container-id-7 pre{padding: 0;}#sk-container-id-7 div.sk-toggleable {background-color: white;}#sk-container-id-7 label.sk-toggleable__label {cursor: pointer;display: block;width: 100%;margin-bottom: 0;padding: 0.3em;box-sizing: border-box;text-align: center;}#sk-container-id-7 label.sk-toggleable__label-arrow:before {content: \"▸\";float: left;margin-right: 0.25em;color: #696969;}#sk-container-id-7 label.sk-toggleable__label-arrow:hover:before {color: black;}#sk-container-id-7 div.sk-estimator:hover label.sk-toggleable__label-arrow:before {color: black;}#sk-container-id-7 div.sk-toggleable__content {max-height: 0;max-width: 0;overflow: hidden;text-align: left;background-color: #f0f8ff;}#sk-container-id-7 div.sk-toggleable__content pre {margin: 0.2em;color: black;border-radius: 0.25em;background-color: #f0f8ff;}#sk-container-id-7 input.sk-toggleable__control:checked~div.sk-toggleable__content {max-height: 200px;max-width: 100%;overflow: auto;}#sk-container-id-7 input.sk-toggleable__control:checked~label.sk-toggleable__label-arrow:before {content: \"▾\";}#sk-container-id-7 div.sk-estimator input.sk-toggleable__control:checked~label.sk-toggleable__label {background-color: #d4ebff;}#sk-container-id-7 div.sk-label input.sk-toggleable__control:checked~label.sk-toggleable__label {background-color: #d4ebff;}#sk-container-id-7 input.sk-hidden--visually {border: 0;clip: rect(1px 1px 1px 1px);clip: rect(1px, 1px, 1px, 1px);height: 1px;margin: -1px;overflow: hidden;padding: 0;position: absolute;width: 1px;}#sk-container-id-7 div.sk-estimator {font-family: monospace;background-color: #f0f8ff;border: 1px dotted black;border-radius: 0.25em;box-sizing: border-box;margin-bottom: 0.5em;}#sk-container-id-7 div.sk-estimator:hover {background-color: #d4ebff;}#sk-container-id-7 div.sk-parallel-item::after {content: \"\";width: 100%;border-bottom: 1px solid gray;flex-grow: 1;}#sk-container-id-7 div.sk-label:hover label.sk-toggleable__label {background-color: #d4ebff;}#sk-container-id-7 div.sk-serial::before {content: \"\";position: absolute;border-left: 1px solid gray;box-sizing: border-box;top: 0;bottom: 0;left: 50%;z-index: 0;}#sk-container-id-7 div.sk-serial {display: flex;flex-direction: column;align-items: center;background-color: white;padding-right: 0.2em;padding-left: 0.2em;position: relative;}#sk-container-id-7 div.sk-item {position: relative;z-index: 1;}#sk-container-id-7 div.sk-parallel {display: flex;align-items: stretch;justify-content: center;background-color: white;position: relative;}#sk-container-id-7 div.sk-item::before, #sk-container-id-7 div.sk-parallel-item::before {content: \"\";position: absolute;border-left: 1px solid gray;box-sizing: border-box;top: 0;bottom: 0;left: 50%;z-index: -1;}#sk-container-id-7 div.sk-parallel-item {display: flex;flex-direction: column;z-index: 1;position: relative;background-color: white;}#sk-container-id-7 div.sk-parallel-item:first-child::after {align-self: flex-end;width: 50%;}#sk-container-id-7 div.sk-parallel-item:last-child::after {align-self: flex-start;width: 50%;}#sk-container-id-7 div.sk-parallel-item:only-child::after {width: 0;}#sk-container-id-7 div.sk-dashed-wrapped {border: 1px dashed gray;margin: 0 0.4em 0.5em 0.4em;box-sizing: border-box;padding-bottom: 0.4em;background-color: white;}#sk-container-id-7 div.sk-label label {font-family: monospace;font-weight: bold;display: inline-block;line-height: 1.2em;}#sk-container-id-7 div.sk-label-container {text-align: center;}#sk-container-id-7 div.sk-container {/* jupyter's `normalize.less` sets `[hidden] { display: none; }` but bootstrap.min.css set `[hidden] { display: none !important; }` so we also need the `!important` here to be able to override the default hidden behavior on the sphinx rendered scikit-learn.org. See: https://github.com/scikit-learn/scikit-learn/issues/21755 */display: inline-block !important;position: relative;}#sk-container-id-7 div.sk-text-repr-fallback {display: none;}</style><div id=\"sk-container-id-7\" class=\"sk-top-container\"><div class=\"sk-text-repr-fallback\"><pre>GradientBoostingRegressor()</pre><b>In a Jupyter environment, please rerun this cell to show the HTML representation or trust the notebook. <br />On GitHub, the HTML representation is unable to render, please try loading this page with nbviewer.org.</b></div><div class=\"sk-container\" hidden><div class=\"sk-item\"><div class=\"sk-estimator sk-toggleable\"><input class=\"sk-toggleable__control sk-hidden--visually\" id=\"sk-estimator-id-7\" type=\"checkbox\" checked><label for=\"sk-estimator-id-7\" class=\"sk-toggleable__label sk-toggleable__label-arrow\">GradientBoostingRegressor</label><div class=\"sk-toggleable__content\"><pre>GradientBoostingRegressor()</pre></div></div></div></div></div>"
      ],
      "text/plain": [
       "GradientBoostingRegressor()"
      ]
     },
     "execution_count": 46,
     "metadata": {},
     "output_type": "execute_result"
    }
   ],
   "source": [
    "gb_reg = GradientBoostingRegressor()\n",
    "\n",
    "gb_reg.fit(X_r_treino, y_r_treino)"
   ]
  },
  {
   "cell_type": "markdown",
   "metadata": {},
   "source": [
    "##### Teste"
   ]
  },
  {
   "cell_type": "code",
   "execution_count": 47,
   "metadata": {},
   "outputs": [
    {
     "name": "stdout",
     "output_type": "stream",
     "text": [
      "\n",
      "      Gradient Boosting - Teste\n",
      "      R2: 0.51\n",
      "      EQM: 3220478.48\n",
      "      REQM: 1794.57\n",
      "      MAD: 1620.31\n",
      "      MAPE: 39.9%\n",
      "      \n"
     ]
    }
   ],
   "source": [
    "gb_reg_pred_teste = gb_reg.predict(X_r_teste)\n",
    "\n",
    "r2 = metrics.r2_score(y_r_teste, gb_reg_pred_teste)\n",
    "mse = metrics.mean_squared_error(y_r_teste, gb_reg_pred_teste)\n",
    "rmse = metrics.mean_squared_error(y_r_teste, gb_reg_pred_teste, squared=False)\n",
    "mad = metrics.mean_absolute_error(y_r_teste, gb_reg_pred_teste)\n",
    "mape = metrics.mean_absolute_percentage_error(y_r_teste, gb_reg_pred_teste)\n",
    "\n",
    "print(f'''\n",
    "      Gradient Boosting - Teste\n",
    "      R2: {round(r2,2)}\n",
    "      EQM: {round(mse,2)}\n",
    "      REQM: {round(rmse,2)}\n",
    "      MAD: {round(mad,2)}\n",
    "      MAPE: {round(mape*100,2)}%\n",
    "      ''')"
   ]
  },
  {
   "cell_type": "markdown",
   "metadata": {},
   "source": [
    "##### Série Completa"
   ]
  },
  {
   "cell_type": "code",
   "execution_count": 48,
   "metadata": {},
   "outputs": [
    {
     "name": "stdout",
     "output_type": "stream",
     "text": [
      "\n",
      "      Gradient Boosting - Série Completa\n",
      "      R2: 0.86\n",
      "      EQM: 1176713.75\n",
      "      REQM: 1084.76\n",
      "      MAD: 592.49\n",
      "      MAPE: 14.58%\n",
      "      \n"
     ]
    }
   ],
   "source": [
    "gb_reg_pred = gb_reg.predict(X_r)\n",
    "\n",
    "r2 = metrics.r2_score(y_r, gb_reg_pred)\n",
    "mse = metrics.mean_squared_error(y_r, gb_reg_pred)\n",
    "rmse = metrics.mean_squared_error(y_r, gb_reg_pred, squared=False)\n",
    "mad = metrics.mean_absolute_error(y_r, gb_reg_pred)\n",
    "mape = metrics.mean_absolute_percentage_error(y_r, gb_reg_pred)\n",
    "\n",
    "print(f'''\n",
    "      Gradient Boosting - Série Completa\n",
    "      R2: {round(r2,2)}\n",
    "      EQM: {round(mse,2)}\n",
    "      REQM: {round(rmse,2)}\n",
    "      MAD: {round(mad,2)}\n",
    "      MAPE: {round(mape*100,2)}%\n",
    "      ''')"
   ]
  },
  {
   "cell_type": "markdown",
   "metadata": {},
   "source": [
    "### Random Forest Regressor"
   ]
  },
  {
   "cell_type": "code",
   "execution_count": 49,
   "metadata": {},
   "outputs": [
    {
     "data": {
      "text/html": [
       "<style>#sk-container-id-8 {color: black;background-color: white;}#sk-container-id-8 pre{padding: 0;}#sk-container-id-8 div.sk-toggleable {background-color: white;}#sk-container-id-8 label.sk-toggleable__label {cursor: pointer;display: block;width: 100%;margin-bottom: 0;padding: 0.3em;box-sizing: border-box;text-align: center;}#sk-container-id-8 label.sk-toggleable__label-arrow:before {content: \"▸\";float: left;margin-right: 0.25em;color: #696969;}#sk-container-id-8 label.sk-toggleable__label-arrow:hover:before {color: black;}#sk-container-id-8 div.sk-estimator:hover label.sk-toggleable__label-arrow:before {color: black;}#sk-container-id-8 div.sk-toggleable__content {max-height: 0;max-width: 0;overflow: hidden;text-align: left;background-color: #f0f8ff;}#sk-container-id-8 div.sk-toggleable__content pre {margin: 0.2em;color: black;border-radius: 0.25em;background-color: #f0f8ff;}#sk-container-id-8 input.sk-toggleable__control:checked~div.sk-toggleable__content {max-height: 200px;max-width: 100%;overflow: auto;}#sk-container-id-8 input.sk-toggleable__control:checked~label.sk-toggleable__label-arrow:before {content: \"▾\";}#sk-container-id-8 div.sk-estimator input.sk-toggleable__control:checked~label.sk-toggleable__label {background-color: #d4ebff;}#sk-container-id-8 div.sk-label input.sk-toggleable__control:checked~label.sk-toggleable__label {background-color: #d4ebff;}#sk-container-id-8 input.sk-hidden--visually {border: 0;clip: rect(1px 1px 1px 1px);clip: rect(1px, 1px, 1px, 1px);height: 1px;margin: -1px;overflow: hidden;padding: 0;position: absolute;width: 1px;}#sk-container-id-8 div.sk-estimator {font-family: monospace;background-color: #f0f8ff;border: 1px dotted black;border-radius: 0.25em;box-sizing: border-box;margin-bottom: 0.5em;}#sk-container-id-8 div.sk-estimator:hover {background-color: #d4ebff;}#sk-container-id-8 div.sk-parallel-item::after {content: \"\";width: 100%;border-bottom: 1px solid gray;flex-grow: 1;}#sk-container-id-8 div.sk-label:hover label.sk-toggleable__label {background-color: #d4ebff;}#sk-container-id-8 div.sk-serial::before {content: \"\";position: absolute;border-left: 1px solid gray;box-sizing: border-box;top: 0;bottom: 0;left: 50%;z-index: 0;}#sk-container-id-8 div.sk-serial {display: flex;flex-direction: column;align-items: center;background-color: white;padding-right: 0.2em;padding-left: 0.2em;position: relative;}#sk-container-id-8 div.sk-item {position: relative;z-index: 1;}#sk-container-id-8 div.sk-parallel {display: flex;align-items: stretch;justify-content: center;background-color: white;position: relative;}#sk-container-id-8 div.sk-item::before, #sk-container-id-8 div.sk-parallel-item::before {content: \"\";position: absolute;border-left: 1px solid gray;box-sizing: border-box;top: 0;bottom: 0;left: 50%;z-index: -1;}#sk-container-id-8 div.sk-parallel-item {display: flex;flex-direction: column;z-index: 1;position: relative;background-color: white;}#sk-container-id-8 div.sk-parallel-item:first-child::after {align-self: flex-end;width: 50%;}#sk-container-id-8 div.sk-parallel-item:last-child::after {align-self: flex-start;width: 50%;}#sk-container-id-8 div.sk-parallel-item:only-child::after {width: 0;}#sk-container-id-8 div.sk-dashed-wrapped {border: 1px dashed gray;margin: 0 0.4em 0.5em 0.4em;box-sizing: border-box;padding-bottom: 0.4em;background-color: white;}#sk-container-id-8 div.sk-label label {font-family: monospace;font-weight: bold;display: inline-block;line-height: 1.2em;}#sk-container-id-8 div.sk-label-container {text-align: center;}#sk-container-id-8 div.sk-container {/* jupyter's `normalize.less` sets `[hidden] { display: none; }` but bootstrap.min.css set `[hidden] { display: none !important; }` so we also need the `!important` here to be able to override the default hidden behavior on the sphinx rendered scikit-learn.org. See: https://github.com/scikit-learn/scikit-learn/issues/21755 */display: inline-block !important;position: relative;}#sk-container-id-8 div.sk-text-repr-fallback {display: none;}</style><div id=\"sk-container-id-8\" class=\"sk-top-container\"><div class=\"sk-text-repr-fallback\"><pre>RandomForestRegressor()</pre><b>In a Jupyter environment, please rerun this cell to show the HTML representation or trust the notebook. <br />On GitHub, the HTML representation is unable to render, please try loading this page with nbviewer.org.</b></div><div class=\"sk-container\" hidden><div class=\"sk-item\"><div class=\"sk-estimator sk-toggleable\"><input class=\"sk-toggleable__control sk-hidden--visually\" id=\"sk-estimator-id-8\" type=\"checkbox\" checked><label for=\"sk-estimator-id-8\" class=\"sk-toggleable__label sk-toggleable__label-arrow\">RandomForestRegressor</label><div class=\"sk-toggleable__content\"><pre>RandomForestRegressor()</pre></div></div></div></div></div>"
      ],
      "text/plain": [
       "RandomForestRegressor()"
      ]
     },
     "execution_count": 49,
     "metadata": {},
     "output_type": "execute_result"
    }
   ],
   "source": [
    "rf_reg = RandomForestRegressor()\n",
    "\n",
    "rf_reg.fit(X_r_treino, y_r_treino)"
   ]
  },
  {
   "cell_type": "markdown",
   "metadata": {},
   "source": [
    "##### Teste"
   ]
  },
  {
   "cell_type": "code",
   "execution_count": 50,
   "metadata": {},
   "outputs": [
    {
     "name": "stdout",
     "output_type": "stream",
     "text": [
      "\n",
      "      Random Forest - Teste\n",
      "      R2: 0.43\n",
      "      EQM: 3748663.5\n",
      "      REQM: 1936.15\n",
      "      MAD: 1756.28\n",
      "      MAPE: 45.42%\n",
      "      \n"
     ]
    }
   ],
   "source": [
    "rf_reg_pred_teste = rf_reg.predict(X_r_teste)\n",
    "\n",
    "r2 = metrics.r2_score(y_r_teste, rf_reg_pred_teste)\n",
    "mse = metrics.mean_squared_error(y_r_teste, rf_reg_pred_teste)\n",
    "rmse = metrics.mean_squared_error(y_r_teste, rf_reg_pred_teste, squared=False)\n",
    "mad = metrics.mean_absolute_error(y_r_teste, rf_reg_pred_teste)\n",
    "mape = metrics.mean_absolute_percentage_error(y_r_teste, rf_reg_pred_teste)\n",
    "\n",
    "print(f'''\n",
    "      Random Forest - Teste\n",
    "      R2: {round(r2,2)}\n",
    "      EQM: {round(mse,2)}\n",
    "      REQM: {round(rmse,2)}\n",
    "      MAD: {round(mad,2)}\n",
    "      MAPE: {round(mape*100,2)}%\n",
    "      ''')"
   ]
  },
  {
   "cell_type": "markdown",
   "metadata": {},
   "source": [
    "##### Série Completa"
   ]
  },
  {
   "cell_type": "code",
   "execution_count": 51,
   "metadata": {},
   "outputs": [
    {
     "name": "stdout",
     "output_type": "stream",
     "text": [
      "\n",
      "      Random Forest - Série Completa\n",
      "      R2: 0.83\n",
      "      EQM: 1506265.81\n",
      "      REQM: 1227.3\n",
      "      MAD: 883.94\n",
      "      MAPE: 19.81%\n",
      "      \n"
     ]
    }
   ],
   "source": [
    "rf_reg_pred = rf_reg.predict(X_r)\n",
    "\n",
    "r2 = metrics.r2_score(y_r, rf_reg_pred)\n",
    "mse = metrics.mean_squared_error(y_r, rf_reg_pred)\n",
    "rmse = metrics.mean_squared_error(y_r, rf_reg_pred, squared=False)\n",
    "mad = metrics.mean_absolute_error(y_r, rf_reg_pred)\n",
    "mape = metrics.mean_absolute_percentage_error(y_r, rf_reg_pred)\n",
    "\n",
    "print(f'''\n",
    "      Random Forest - Série Completa\n",
    "      R2: {round(r2,2)}\n",
    "      EQM: {round(mse,2)}\n",
    "      REQM: {round(rmse,2)}\n",
    "      MAD: {round(mad,2)}\n",
    "      MAPE: {round(mape*100,2)}%\n",
    "      ''')"
   ]
  },
  {
   "cell_type": "markdown",
   "metadata": {},
   "source": [
    "### Histocastic Gradient Boosting"
   ]
  },
  {
   "cell_type": "code",
   "execution_count": 52,
   "metadata": {},
   "outputs": [
    {
     "data": {
      "text/html": [
       "<style>#sk-container-id-9 {color: black;background-color: white;}#sk-container-id-9 pre{padding: 0;}#sk-container-id-9 div.sk-toggleable {background-color: white;}#sk-container-id-9 label.sk-toggleable__label {cursor: pointer;display: block;width: 100%;margin-bottom: 0;padding: 0.3em;box-sizing: border-box;text-align: center;}#sk-container-id-9 label.sk-toggleable__label-arrow:before {content: \"▸\";float: left;margin-right: 0.25em;color: #696969;}#sk-container-id-9 label.sk-toggleable__label-arrow:hover:before {color: black;}#sk-container-id-9 div.sk-estimator:hover label.sk-toggleable__label-arrow:before {color: black;}#sk-container-id-9 div.sk-toggleable__content {max-height: 0;max-width: 0;overflow: hidden;text-align: left;background-color: #f0f8ff;}#sk-container-id-9 div.sk-toggleable__content pre {margin: 0.2em;color: black;border-radius: 0.25em;background-color: #f0f8ff;}#sk-container-id-9 input.sk-toggleable__control:checked~div.sk-toggleable__content {max-height: 200px;max-width: 100%;overflow: auto;}#sk-container-id-9 input.sk-toggleable__control:checked~label.sk-toggleable__label-arrow:before {content: \"▾\";}#sk-container-id-9 div.sk-estimator input.sk-toggleable__control:checked~label.sk-toggleable__label {background-color: #d4ebff;}#sk-container-id-9 div.sk-label input.sk-toggleable__control:checked~label.sk-toggleable__label {background-color: #d4ebff;}#sk-container-id-9 input.sk-hidden--visually {border: 0;clip: rect(1px 1px 1px 1px);clip: rect(1px, 1px, 1px, 1px);height: 1px;margin: -1px;overflow: hidden;padding: 0;position: absolute;width: 1px;}#sk-container-id-9 div.sk-estimator {font-family: monospace;background-color: #f0f8ff;border: 1px dotted black;border-radius: 0.25em;box-sizing: border-box;margin-bottom: 0.5em;}#sk-container-id-9 div.sk-estimator:hover {background-color: #d4ebff;}#sk-container-id-9 div.sk-parallel-item::after {content: \"\";width: 100%;border-bottom: 1px solid gray;flex-grow: 1;}#sk-container-id-9 div.sk-label:hover label.sk-toggleable__label {background-color: #d4ebff;}#sk-container-id-9 div.sk-serial::before {content: \"\";position: absolute;border-left: 1px solid gray;box-sizing: border-box;top: 0;bottom: 0;left: 50%;z-index: 0;}#sk-container-id-9 div.sk-serial {display: flex;flex-direction: column;align-items: center;background-color: white;padding-right: 0.2em;padding-left: 0.2em;position: relative;}#sk-container-id-9 div.sk-item {position: relative;z-index: 1;}#sk-container-id-9 div.sk-parallel {display: flex;align-items: stretch;justify-content: center;background-color: white;position: relative;}#sk-container-id-9 div.sk-item::before, #sk-container-id-9 div.sk-parallel-item::before {content: \"\";position: absolute;border-left: 1px solid gray;box-sizing: border-box;top: 0;bottom: 0;left: 50%;z-index: -1;}#sk-container-id-9 div.sk-parallel-item {display: flex;flex-direction: column;z-index: 1;position: relative;background-color: white;}#sk-container-id-9 div.sk-parallel-item:first-child::after {align-self: flex-end;width: 50%;}#sk-container-id-9 div.sk-parallel-item:last-child::after {align-self: flex-start;width: 50%;}#sk-container-id-9 div.sk-parallel-item:only-child::after {width: 0;}#sk-container-id-9 div.sk-dashed-wrapped {border: 1px dashed gray;margin: 0 0.4em 0.5em 0.4em;box-sizing: border-box;padding-bottom: 0.4em;background-color: white;}#sk-container-id-9 div.sk-label label {font-family: monospace;font-weight: bold;display: inline-block;line-height: 1.2em;}#sk-container-id-9 div.sk-label-container {text-align: center;}#sk-container-id-9 div.sk-container {/* jupyter's `normalize.less` sets `[hidden] { display: none; }` but bootstrap.min.css set `[hidden] { display: none !important; }` so we also need the `!important` here to be able to override the default hidden behavior on the sphinx rendered scikit-learn.org. See: https://github.com/scikit-learn/scikit-learn/issues/21755 */display: inline-block !important;position: relative;}#sk-container-id-9 div.sk-text-repr-fallback {display: none;}</style><div id=\"sk-container-id-9\" class=\"sk-top-container\"><div class=\"sk-text-repr-fallback\"><pre>HistGradientBoostingRegressor()</pre><b>In a Jupyter environment, please rerun this cell to show the HTML representation or trust the notebook. <br />On GitHub, the HTML representation is unable to render, please try loading this page with nbviewer.org.</b></div><div class=\"sk-container\" hidden><div class=\"sk-item\"><div class=\"sk-estimator sk-toggleable\"><input class=\"sk-toggleable__control sk-hidden--visually\" id=\"sk-estimator-id-9\" type=\"checkbox\" checked><label for=\"sk-estimator-id-9\" class=\"sk-toggleable__label sk-toggleable__label-arrow\">HistGradientBoostingRegressor</label><div class=\"sk-toggleable__content\"><pre>HistGradientBoostingRegressor()</pre></div></div></div></div></div>"
      ],
      "text/plain": [
       "HistGradientBoostingRegressor()"
      ]
     },
     "execution_count": 52,
     "metadata": {},
     "output_type": "execute_result"
    }
   ],
   "source": [
    "histgrad = HistGradientBoostingRegressor()\n",
    "\n",
    "histgrad.fit(X_r_treino, y_r_treino)"
   ]
  },
  {
   "cell_type": "markdown",
   "metadata": {},
   "source": [
    "##### Teste"
   ]
  },
  {
   "cell_type": "code",
   "execution_count": 53,
   "metadata": {},
   "outputs": [
    {
     "name": "stdout",
     "output_type": "stream",
     "text": [
      "\n",
      "      Histocastic Gradient Boosting - Teste\n",
      "      R2: -1.19\n",
      "      EQM: 14318693.29\n",
      "      REQM: 3784.0\n",
      "      MAD: 3231.58\n",
      "      MAPE: 97.97%\n",
      "      \n"
     ]
    }
   ],
   "source": [
    "histgrad_pred_teste = histgrad.predict(X_r_teste)\n",
    "\n",
    "r2 = metrics.r2_score(y_r_teste, histgrad_pred_teste)\n",
    "mse = metrics.mean_squared_error(y_r_teste, histgrad_pred_teste)\n",
    "rmse = metrics.mean_squared_error(y_r_teste, histgrad_pred_teste, squared=False)\n",
    "mad = metrics.mean_absolute_error(y_r_teste, histgrad_pred_teste)\n",
    "mape = metrics.mean_absolute_percentage_error(y_r_teste, histgrad_pred_teste)\n",
    "\n",
    "print(f'''\n",
    "      Histocastic Gradient Boosting - Teste\n",
    "      R2: {round(r2,2)}\n",
    "      EQM: {round(mse,2)}\n",
    "      REQM: {round(rmse,2)}\n",
    "      MAD: {round(mad,2)}\n",
    "      MAPE: {round(mape*100,2)}%\n",
    "      ''')"
   ]
  },
  {
   "cell_type": "markdown",
   "metadata": {},
   "source": [
    "##### Série Completa"
   ]
  },
  {
   "cell_type": "code",
   "execution_count": 54,
   "metadata": {},
   "outputs": [
    {
     "name": "stdout",
     "output_type": "stream",
     "text": [
      "\n",
      "      Histocastic Gradient Boosting - Série Completa\n",
      "      R2: -0.12\n",
      "      EQM: 9697360.69\n",
      "      REQM: 3114.06\n",
      "      MAD: 2694.91\n",
      "      MAPE: 57.95%\n",
      "      \n"
     ]
    }
   ],
   "source": [
    "histgrad_pred = histgrad.predict(X_r)\n",
    "\n",
    "r2 = metrics.r2_score(y_r, histgrad_pred)\n",
    "mse = metrics.mean_squared_error(y_r, histgrad_pred)\n",
    "rmse = metrics.mean_squared_error(y_r, histgrad_pred, squared=False)\n",
    "mad = metrics.mean_absolute_error(y_r, histgrad_pred)\n",
    "mape = metrics.mean_absolute_percentage_error(y_r, histgrad_pred)\n",
    "\n",
    "print(f'''\n",
    "      Histocastic Gradient Boosting - Série Completa\n",
    "      R2: {round(r2,2)}\n",
    "      EQM: {round(mse,2)}\n",
    "      REQM: {round(rmse,2)}\n",
    "      MAD: {round(mad,2)}\n",
    "      MAPE: {round(mape*100,2)}%\n",
    "      ''')"
   ]
  },
  {
   "cell_type": "markdown",
   "metadata": {},
   "source": [
    "### LGBM"
   ]
  },
  {
   "cell_type": "code",
   "execution_count": 55,
   "metadata": {},
   "outputs": [
    {
     "data": {
      "text/html": [
       "<style>#sk-container-id-10 {color: black;background-color: white;}#sk-container-id-10 pre{padding: 0;}#sk-container-id-10 div.sk-toggleable {background-color: white;}#sk-container-id-10 label.sk-toggleable__label {cursor: pointer;display: block;width: 100%;margin-bottom: 0;padding: 0.3em;box-sizing: border-box;text-align: center;}#sk-container-id-10 label.sk-toggleable__label-arrow:before {content: \"▸\";float: left;margin-right: 0.25em;color: #696969;}#sk-container-id-10 label.sk-toggleable__label-arrow:hover:before {color: black;}#sk-container-id-10 div.sk-estimator:hover label.sk-toggleable__label-arrow:before {color: black;}#sk-container-id-10 div.sk-toggleable__content {max-height: 0;max-width: 0;overflow: hidden;text-align: left;background-color: #f0f8ff;}#sk-container-id-10 div.sk-toggleable__content pre {margin: 0.2em;color: black;border-radius: 0.25em;background-color: #f0f8ff;}#sk-container-id-10 input.sk-toggleable__control:checked~div.sk-toggleable__content {max-height: 200px;max-width: 100%;overflow: auto;}#sk-container-id-10 input.sk-toggleable__control:checked~label.sk-toggleable__label-arrow:before {content: \"▾\";}#sk-container-id-10 div.sk-estimator input.sk-toggleable__control:checked~label.sk-toggleable__label {background-color: #d4ebff;}#sk-container-id-10 div.sk-label input.sk-toggleable__control:checked~label.sk-toggleable__label {background-color: #d4ebff;}#sk-container-id-10 input.sk-hidden--visually {border: 0;clip: rect(1px 1px 1px 1px);clip: rect(1px, 1px, 1px, 1px);height: 1px;margin: -1px;overflow: hidden;padding: 0;position: absolute;width: 1px;}#sk-container-id-10 div.sk-estimator {font-family: monospace;background-color: #f0f8ff;border: 1px dotted black;border-radius: 0.25em;box-sizing: border-box;margin-bottom: 0.5em;}#sk-container-id-10 div.sk-estimator:hover {background-color: #d4ebff;}#sk-container-id-10 div.sk-parallel-item::after {content: \"\";width: 100%;border-bottom: 1px solid gray;flex-grow: 1;}#sk-container-id-10 div.sk-label:hover label.sk-toggleable__label {background-color: #d4ebff;}#sk-container-id-10 div.sk-serial::before {content: \"\";position: absolute;border-left: 1px solid gray;box-sizing: border-box;top: 0;bottom: 0;left: 50%;z-index: 0;}#sk-container-id-10 div.sk-serial {display: flex;flex-direction: column;align-items: center;background-color: white;padding-right: 0.2em;padding-left: 0.2em;position: relative;}#sk-container-id-10 div.sk-item {position: relative;z-index: 1;}#sk-container-id-10 div.sk-parallel {display: flex;align-items: stretch;justify-content: center;background-color: white;position: relative;}#sk-container-id-10 div.sk-item::before, #sk-container-id-10 div.sk-parallel-item::before {content: \"\";position: absolute;border-left: 1px solid gray;box-sizing: border-box;top: 0;bottom: 0;left: 50%;z-index: -1;}#sk-container-id-10 div.sk-parallel-item {display: flex;flex-direction: column;z-index: 1;position: relative;background-color: white;}#sk-container-id-10 div.sk-parallel-item:first-child::after {align-self: flex-end;width: 50%;}#sk-container-id-10 div.sk-parallel-item:last-child::after {align-self: flex-start;width: 50%;}#sk-container-id-10 div.sk-parallel-item:only-child::after {width: 0;}#sk-container-id-10 div.sk-dashed-wrapped {border: 1px dashed gray;margin: 0 0.4em 0.5em 0.4em;box-sizing: border-box;padding-bottom: 0.4em;background-color: white;}#sk-container-id-10 div.sk-label label {font-family: monospace;font-weight: bold;display: inline-block;line-height: 1.2em;}#sk-container-id-10 div.sk-label-container {text-align: center;}#sk-container-id-10 div.sk-container {/* jupyter's `normalize.less` sets `[hidden] { display: none; }` but bootstrap.min.css set `[hidden] { display: none !important; }` so we also need the `!important` here to be able to override the default hidden behavior on the sphinx rendered scikit-learn.org. See: https://github.com/scikit-learn/scikit-learn/issues/21755 */display: inline-block !important;position: relative;}#sk-container-id-10 div.sk-text-repr-fallback {display: none;}</style><div id=\"sk-container-id-10\" class=\"sk-top-container\"><div class=\"sk-text-repr-fallback\"><pre>LGBMRegressor()</pre><b>In a Jupyter environment, please rerun this cell to show the HTML representation or trust the notebook. <br />On GitHub, the HTML representation is unable to render, please try loading this page with nbviewer.org.</b></div><div class=\"sk-container\" hidden><div class=\"sk-item\"><div class=\"sk-estimator sk-toggleable\"><input class=\"sk-toggleable__control sk-hidden--visually\" id=\"sk-estimator-id-10\" type=\"checkbox\" checked><label for=\"sk-estimator-id-10\" class=\"sk-toggleable__label sk-toggleable__label-arrow\">LGBMRegressor</label><div class=\"sk-toggleable__content\"><pre>LGBMRegressor()</pre></div></div></div></div></div>"
      ],
      "text/plain": [
       "LGBMRegressor()"
      ]
     },
     "execution_count": 55,
     "metadata": {},
     "output_type": "execute_result"
    }
   ],
   "source": [
    "lgbm = LGBMRegressor()\n",
    "\n",
    "lgbm.fit(X_r_treino, y_r_treino)"
   ]
  },
  {
   "cell_type": "markdown",
   "metadata": {},
   "source": [
    "##### Teste"
   ]
  },
  {
   "cell_type": "code",
   "execution_count": 56,
   "metadata": {},
   "outputs": [
    {
     "name": "stdout",
     "output_type": "stream",
     "text": [
      "\n",
      "      LGBM - Teste\n",
      "      R2: -1.19\n",
      "      EQM: 14318693.29\n",
      "      REQM: 3784.0\n",
      "      MAD: 3231.58\n",
      "      MAPE: 97.97%\n",
      "      \n"
     ]
    }
   ],
   "source": [
    "lgbm_pred_teste = lgbm.predict(X_r_teste)\n",
    "\n",
    "r2 = metrics.r2_score(y_r_teste, lgbm_pred_teste)\n",
    "mse = metrics.mean_squared_error(y_r_teste, lgbm_pred_teste)\n",
    "rmse = metrics.mean_squared_error(y_r_teste, lgbm_pred_teste, squared=False)\n",
    "mad = metrics.mean_absolute_error(y_r_teste, lgbm_pred_teste)\n",
    "mape = metrics.mean_absolute_percentage_error(y_r_teste, lgbm_pred_teste)\n",
    "\n",
    "print(f'''\n",
    "      LGBM - Teste\n",
    "      R2: {round(r2,2)}\n",
    "      EQM: {round(mse,2)}\n",
    "      REQM: {round(rmse,2)}\n",
    "      MAD: {round(mad,2)}\n",
    "      MAPE: {round(mape*100,2)}%\n",
    "      ''')"
   ]
  },
  {
   "cell_type": "markdown",
   "metadata": {},
   "source": [
    "##### Série Completa"
   ]
  },
  {
   "cell_type": "code",
   "execution_count": 57,
   "metadata": {},
   "outputs": [
    {
     "name": "stdout",
     "output_type": "stream",
     "text": [
      "\n",
      "      LGBM - Série Completa\n",
      "      R2: -0.12\n",
      "      EQM: 9697360.69\n",
      "      REQM: 3114.06\n",
      "      MAD: 2694.91\n",
      "      MAPE: 57.95%\n",
      "      \n"
     ]
    }
   ],
   "source": [
    "lgbm_pred = lgbm.predict(X_r)\n",
    "\n",
    "r2 = metrics.r2_score(y_r, lgbm_pred)\n",
    "mse = metrics.mean_squared_error(y_r, lgbm_pred)\n",
    "rmse = metrics.mean_squared_error(y_r, lgbm_pred, squared=False)\n",
    "mad = metrics.mean_absolute_error(y_r, lgbm_pred)\n",
    "mape = metrics.mean_absolute_percentage_error(y_r, lgbm_pred)\n",
    "\n",
    "print(f'''\n",
    "      LGBM - Série Completa\n",
    "      R2: {round(r2,2)}\n",
    "      EQM: {round(mse,2)}\n",
    "      REQM: {round(rmse,2)}\n",
    "      MAD: {round(mad,2)}\n",
    "      MAPE: {round(mape*100,2)}%\n",
    "      ''')"
   ]
  },
  {
   "cell_type": "markdown",
   "metadata": {},
   "source": [
    "### CatBoost"
   ]
  },
  {
   "cell_type": "code",
   "execution_count": 58,
   "metadata": {},
   "outputs": [
    {
     "data": {
      "text/plain": [
       "<catboost.core.CatBoostRegressor at 0x7f83fa521dc0>"
      ]
     },
     "execution_count": 58,
     "metadata": {},
     "output_type": "execute_result"
    }
   ],
   "source": [
    "catboost = CatBoostRegressor(verbose=False)\n",
    "\n",
    "catboost.fit(X_r_treino, y_r_treino)"
   ]
  },
  {
   "cell_type": "markdown",
   "metadata": {},
   "source": [
    "##### Teste"
   ]
  },
  {
   "cell_type": "code",
   "execution_count": 59,
   "metadata": {},
   "outputs": [
    {
     "name": "stdout",
     "output_type": "stream",
     "text": [
      "\n",
      "      CatBoost - Teste\n",
      "      R2: 0.4\n",
      "      EQM: 3923827.49\n",
      "      REQM: 1980.87\n",
      "      MAD: 1767.14\n",
      "      MAPE: 46.29%\n",
      "      \n"
     ]
    }
   ],
   "source": [
    "catboost_pred_teste = catboost.predict(X_r_teste)\n",
    "\n",
    "r2 = metrics.r2_score(y_r_teste, catboost_pred_teste)\n",
    "mse = metrics.mean_squared_error(y_r_teste, catboost_pred_teste)\n",
    "rmse = metrics.mean_squared_error(y_r_teste, catboost_pred_teste, squared=False)\n",
    "mad = metrics.mean_absolute_error(y_r_teste, catboost_pred_teste)\n",
    "mape = metrics.mean_absolute_percentage_error(y_r_teste, catboost_pred_teste)\n",
    "\n",
    "print(f'''\n",
    "      CatBoost - Teste\n",
    "      R2: {round(r2,2)}\n",
    "      EQM: {round(mse,2)}\n",
    "      REQM: {round(rmse,2)}\n",
    "      MAD: {round(mad,2)}\n",
    "      MAPE: {round(mape*100,2)}%\n",
    "      ''')"
   ]
  },
  {
   "cell_type": "markdown",
   "metadata": {},
   "source": [
    "##### Série Completa"
   ]
  },
  {
   "cell_type": "code",
   "execution_count": 60,
   "metadata": {},
   "outputs": [
    {
     "name": "stdout",
     "output_type": "stream",
     "text": [
      "\n",
      "      CatBoost - Série Completa\n",
      "      R2: 0.83\n",
      "      EQM: 1433708.15\n",
      "      REQM: 1197.38\n",
      "      MAD: 646.58\n",
      "      MAPE: 16.93%\n",
      "      \n"
     ]
    }
   ],
   "source": [
    "catboost_pred = catboost.predict(X_r)\n",
    "\n",
    "r2 = metrics.r2_score(y_r, catboost_pred)\n",
    "mse = metrics.mean_squared_error(y_r, catboost_pred)\n",
    "rmse = metrics.mean_squared_error(y_r, catboost_pred, squared=False)\n",
    "mad = metrics.mean_absolute_error(y_r, catboost_pred)\n",
    "mape = metrics.mean_absolute_percentage_error(y_r, catboost_pred)\n",
    "\n",
    "print(f'''\n",
    "      CatBoost - Série Completa\n",
    "      R2: {round(r2,2)}\n",
    "      EQM: {round(mse,2)}\n",
    "      REQM: {round(rmse,2)}\n",
    "      MAD: {round(mad,2)}\n",
    "      MAPE: {round(mape*100,2)}%\n",
    "      ''')"
   ]
  },
  {
   "cell_type": "markdown",
   "metadata": {},
   "source": [
    "# Ridge"
   ]
  },
  {
   "cell_type": "code",
   "execution_count": 61,
   "metadata": {},
   "outputs": [],
   "source": [
    "pipe = Pipeline(steps=[\n",
    "    ('preprocessor', StandardScaler()),\n",
    "    ('model', Ridge())\n",
    "])"
   ]
  },
  {
   "cell_type": "code",
   "execution_count": 62,
   "metadata": {},
   "outputs": [
    {
     "data": {
      "text/html": [
       "<style>#sk-container-id-11 {color: black;background-color: white;}#sk-container-id-11 pre{padding: 0;}#sk-container-id-11 div.sk-toggleable {background-color: white;}#sk-container-id-11 label.sk-toggleable__label {cursor: pointer;display: block;width: 100%;margin-bottom: 0;padding: 0.3em;box-sizing: border-box;text-align: center;}#sk-container-id-11 label.sk-toggleable__label-arrow:before {content: \"▸\";float: left;margin-right: 0.25em;color: #696969;}#sk-container-id-11 label.sk-toggleable__label-arrow:hover:before {color: black;}#sk-container-id-11 div.sk-estimator:hover label.sk-toggleable__label-arrow:before {color: black;}#sk-container-id-11 div.sk-toggleable__content {max-height: 0;max-width: 0;overflow: hidden;text-align: left;background-color: #f0f8ff;}#sk-container-id-11 div.sk-toggleable__content pre {margin: 0.2em;color: black;border-radius: 0.25em;background-color: #f0f8ff;}#sk-container-id-11 input.sk-toggleable__control:checked~div.sk-toggleable__content {max-height: 200px;max-width: 100%;overflow: auto;}#sk-container-id-11 input.sk-toggleable__control:checked~label.sk-toggleable__label-arrow:before {content: \"▾\";}#sk-container-id-11 div.sk-estimator input.sk-toggleable__control:checked~label.sk-toggleable__label {background-color: #d4ebff;}#sk-container-id-11 div.sk-label input.sk-toggleable__control:checked~label.sk-toggleable__label {background-color: #d4ebff;}#sk-container-id-11 input.sk-hidden--visually {border: 0;clip: rect(1px 1px 1px 1px);clip: rect(1px, 1px, 1px, 1px);height: 1px;margin: -1px;overflow: hidden;padding: 0;position: absolute;width: 1px;}#sk-container-id-11 div.sk-estimator {font-family: monospace;background-color: #f0f8ff;border: 1px dotted black;border-radius: 0.25em;box-sizing: border-box;margin-bottom: 0.5em;}#sk-container-id-11 div.sk-estimator:hover {background-color: #d4ebff;}#sk-container-id-11 div.sk-parallel-item::after {content: \"\";width: 100%;border-bottom: 1px solid gray;flex-grow: 1;}#sk-container-id-11 div.sk-label:hover label.sk-toggleable__label {background-color: #d4ebff;}#sk-container-id-11 div.sk-serial::before {content: \"\";position: absolute;border-left: 1px solid gray;box-sizing: border-box;top: 0;bottom: 0;left: 50%;z-index: 0;}#sk-container-id-11 div.sk-serial {display: flex;flex-direction: column;align-items: center;background-color: white;padding-right: 0.2em;padding-left: 0.2em;position: relative;}#sk-container-id-11 div.sk-item {position: relative;z-index: 1;}#sk-container-id-11 div.sk-parallel {display: flex;align-items: stretch;justify-content: center;background-color: white;position: relative;}#sk-container-id-11 div.sk-item::before, #sk-container-id-11 div.sk-parallel-item::before {content: \"\";position: absolute;border-left: 1px solid gray;box-sizing: border-box;top: 0;bottom: 0;left: 50%;z-index: -1;}#sk-container-id-11 div.sk-parallel-item {display: flex;flex-direction: column;z-index: 1;position: relative;background-color: white;}#sk-container-id-11 div.sk-parallel-item:first-child::after {align-self: flex-end;width: 50%;}#sk-container-id-11 div.sk-parallel-item:last-child::after {align-self: flex-start;width: 50%;}#sk-container-id-11 div.sk-parallel-item:only-child::after {width: 0;}#sk-container-id-11 div.sk-dashed-wrapped {border: 1px dashed gray;margin: 0 0.4em 0.5em 0.4em;box-sizing: border-box;padding-bottom: 0.4em;background-color: white;}#sk-container-id-11 div.sk-label label {font-family: monospace;font-weight: bold;display: inline-block;line-height: 1.2em;}#sk-container-id-11 div.sk-label-container {text-align: center;}#sk-container-id-11 div.sk-container {/* jupyter's `normalize.less` sets `[hidden] { display: none; }` but bootstrap.min.css set `[hidden] { display: none !important; }` so we also need the `!important` here to be able to override the default hidden behavior on the sphinx rendered scikit-learn.org. See: https://github.com/scikit-learn/scikit-learn/issues/21755 */display: inline-block !important;position: relative;}#sk-container-id-11 div.sk-text-repr-fallback {display: none;}</style><div id=\"sk-container-id-11\" class=\"sk-top-container\"><div class=\"sk-text-repr-fallback\"><pre>Pipeline(steps=[(&#x27;preprocessor&#x27;, StandardScaler()), (&#x27;model&#x27;, Ridge())])</pre><b>In a Jupyter environment, please rerun this cell to show the HTML representation or trust the notebook. <br />On GitHub, the HTML representation is unable to render, please try loading this page with nbviewer.org.</b></div><div class=\"sk-container\" hidden><div class=\"sk-item sk-dashed-wrapped\"><div class=\"sk-label-container\"><div class=\"sk-label sk-toggleable\"><input class=\"sk-toggleable__control sk-hidden--visually\" id=\"sk-estimator-id-11\" type=\"checkbox\" ><label for=\"sk-estimator-id-11\" class=\"sk-toggleable__label sk-toggleable__label-arrow\">Pipeline</label><div class=\"sk-toggleable__content\"><pre>Pipeline(steps=[(&#x27;preprocessor&#x27;, StandardScaler()), (&#x27;model&#x27;, Ridge())])</pre></div></div></div><div class=\"sk-serial\"><div class=\"sk-item\"><div class=\"sk-estimator sk-toggleable\"><input class=\"sk-toggleable__control sk-hidden--visually\" id=\"sk-estimator-id-12\" type=\"checkbox\" ><label for=\"sk-estimator-id-12\" class=\"sk-toggleable__label sk-toggleable__label-arrow\">StandardScaler</label><div class=\"sk-toggleable__content\"><pre>StandardScaler()</pre></div></div></div><div class=\"sk-item\"><div class=\"sk-estimator sk-toggleable\"><input class=\"sk-toggleable__control sk-hidden--visually\" id=\"sk-estimator-id-13\" type=\"checkbox\" ><label for=\"sk-estimator-id-13\" class=\"sk-toggleable__label sk-toggleable__label-arrow\">Ridge</label><div class=\"sk-toggleable__content\"><pre>Ridge()</pre></div></div></div></div></div></div></div>"
      ],
      "text/plain": [
       "Pipeline(steps=[('preprocessor', StandardScaler()), ('model', Ridge())])"
      ]
     },
     "execution_count": 62,
     "metadata": {},
     "output_type": "execute_result"
    }
   ],
   "source": [
    "pipe.fit(X_r_treino, y_r_treino)"
   ]
  },
  {
   "cell_type": "code",
   "execution_count": 63,
   "metadata": {},
   "outputs": [
    {
     "name": "stdout",
     "output_type": "stream",
     "text": [
      "\n",
      "      Ridge Regression Standard - Teste\n",
      "      R2: 0.74\n",
      "      EQM: 1728008.93\n",
      "      REQM: 1314.54\n",
      "      MAD: 960.39\n",
      "      MAPE: 28.66%\n",
      "      \n"
     ]
    }
   ],
   "source": [
    "pred_teste = pipe.predict(X_r_teste)\n",
    "\n",
    "r2 = metrics.r2_score(y_r_teste, pred_teste)\n",
    "mse = metrics.mean_squared_error(y_r_teste, pred_teste)\n",
    "rmse = metrics.mean_squared_error(y_r_teste, pred_teste, squared=False)\n",
    "mad = metrics.mean_absolute_error(y_r_teste, pred_teste)\n",
    "mape = metrics.mean_absolute_percentage_error(y_r_teste, pred_teste)\n",
    "\n",
    "print(f'''\n",
    "      Ridge Regression Standard - Teste\n",
    "      R2: {round(r2,2)}\n",
    "      EQM: {round(mse,2)}\n",
    "      REQM: {round(rmse,2)}\n",
    "      MAD: {round(mad,2)}\n",
    "      MAPE: {round(mape*100,2)}%\n",
    "      ''')"
   ]
  },
  {
   "cell_type": "markdown",
   "metadata": {},
   "source": [
    "### Tuning"
   ]
  },
  {
   "cell_type": "code",
   "execution_count": 64,
   "metadata": {},
   "outputs": [],
   "source": [
    "cv = RepeatedKFold(n_splits=10, n_repeats=3, random_state=123)"
   ]
  },
  {
   "cell_type": "code",
   "execution_count": 65,
   "metadata": {},
   "outputs": [
    {
     "data": {
      "text/plain": [
       "{'model__alpha': array([ 1.  ,  1.45,  1.9 ,  2.35,  2.8 ,  3.25,  3.7 ,  4.15,  4.6 ,\n",
       "         5.05,  5.5 ,  5.95,  6.4 ,  6.85,  7.3 ,  7.75,  8.2 ,  8.65,\n",
       "         9.1 ,  9.55, 10.  ])}"
      ]
     },
     "execution_count": 65,
     "metadata": {},
     "output_type": "execute_result"
    }
   ],
   "source": [
    "grid = dict(model__alpha=np.linspace(1, 10, 21))\n",
    "grid"
   ]
  },
  {
   "cell_type": "code",
   "execution_count": 66,
   "metadata": {},
   "outputs": [
    {
     "data": {
      "text/html": [
       "<style>#sk-container-id-12 {color: black;background-color: white;}#sk-container-id-12 pre{padding: 0;}#sk-container-id-12 div.sk-toggleable {background-color: white;}#sk-container-id-12 label.sk-toggleable__label {cursor: pointer;display: block;width: 100%;margin-bottom: 0;padding: 0.3em;box-sizing: border-box;text-align: center;}#sk-container-id-12 label.sk-toggleable__label-arrow:before {content: \"▸\";float: left;margin-right: 0.25em;color: #696969;}#sk-container-id-12 label.sk-toggleable__label-arrow:hover:before {color: black;}#sk-container-id-12 div.sk-estimator:hover label.sk-toggleable__label-arrow:before {color: black;}#sk-container-id-12 div.sk-toggleable__content {max-height: 0;max-width: 0;overflow: hidden;text-align: left;background-color: #f0f8ff;}#sk-container-id-12 div.sk-toggleable__content pre {margin: 0.2em;color: black;border-radius: 0.25em;background-color: #f0f8ff;}#sk-container-id-12 input.sk-toggleable__control:checked~div.sk-toggleable__content {max-height: 200px;max-width: 100%;overflow: auto;}#sk-container-id-12 input.sk-toggleable__control:checked~label.sk-toggleable__label-arrow:before {content: \"▾\";}#sk-container-id-12 div.sk-estimator input.sk-toggleable__control:checked~label.sk-toggleable__label {background-color: #d4ebff;}#sk-container-id-12 div.sk-label input.sk-toggleable__control:checked~label.sk-toggleable__label {background-color: #d4ebff;}#sk-container-id-12 input.sk-hidden--visually {border: 0;clip: rect(1px 1px 1px 1px);clip: rect(1px, 1px, 1px, 1px);height: 1px;margin: -1px;overflow: hidden;padding: 0;position: absolute;width: 1px;}#sk-container-id-12 div.sk-estimator {font-family: monospace;background-color: #f0f8ff;border: 1px dotted black;border-radius: 0.25em;box-sizing: border-box;margin-bottom: 0.5em;}#sk-container-id-12 div.sk-estimator:hover {background-color: #d4ebff;}#sk-container-id-12 div.sk-parallel-item::after {content: \"\";width: 100%;border-bottom: 1px solid gray;flex-grow: 1;}#sk-container-id-12 div.sk-label:hover label.sk-toggleable__label {background-color: #d4ebff;}#sk-container-id-12 div.sk-serial::before {content: \"\";position: absolute;border-left: 1px solid gray;box-sizing: border-box;top: 0;bottom: 0;left: 50%;z-index: 0;}#sk-container-id-12 div.sk-serial {display: flex;flex-direction: column;align-items: center;background-color: white;padding-right: 0.2em;padding-left: 0.2em;position: relative;}#sk-container-id-12 div.sk-item {position: relative;z-index: 1;}#sk-container-id-12 div.sk-parallel {display: flex;align-items: stretch;justify-content: center;background-color: white;position: relative;}#sk-container-id-12 div.sk-item::before, #sk-container-id-12 div.sk-parallel-item::before {content: \"\";position: absolute;border-left: 1px solid gray;box-sizing: border-box;top: 0;bottom: 0;left: 50%;z-index: -1;}#sk-container-id-12 div.sk-parallel-item {display: flex;flex-direction: column;z-index: 1;position: relative;background-color: white;}#sk-container-id-12 div.sk-parallel-item:first-child::after {align-self: flex-end;width: 50%;}#sk-container-id-12 div.sk-parallel-item:last-child::after {align-self: flex-start;width: 50%;}#sk-container-id-12 div.sk-parallel-item:only-child::after {width: 0;}#sk-container-id-12 div.sk-dashed-wrapped {border: 1px dashed gray;margin: 0 0.4em 0.5em 0.4em;box-sizing: border-box;padding-bottom: 0.4em;background-color: white;}#sk-container-id-12 div.sk-label label {font-family: monospace;font-weight: bold;display: inline-block;line-height: 1.2em;}#sk-container-id-12 div.sk-label-container {text-align: center;}#sk-container-id-12 div.sk-container {/* jupyter's `normalize.less` sets `[hidden] { display: none; }` but bootstrap.min.css set `[hidden] { display: none !important; }` so we also need the `!important` here to be able to override the default hidden behavior on the sphinx rendered scikit-learn.org. See: https://github.com/scikit-learn/scikit-learn/issues/21755 */display: inline-block !important;position: relative;}#sk-container-id-12 div.sk-text-repr-fallback {display: none;}</style><div id=\"sk-container-id-12\" class=\"sk-top-container\"><div class=\"sk-text-repr-fallback\"><pre>GridSearchCV(cv=RepeatedKFold(n_repeats=3, n_splits=10, random_state=123),\n",
       "             estimator=Pipeline(steps=[(&#x27;preprocessor&#x27;, StandardScaler()),\n",
       "                                       (&#x27;model&#x27;, Ridge())]),\n",
       "             n_jobs=1,\n",
       "             param_grid={&#x27;model__alpha&#x27;: array([ 1.  ,  1.45,  1.9 ,  2.35,  2.8 ,  3.25,  3.7 ,  4.15,  4.6 ,\n",
       "        5.05,  5.5 ,  5.95,  6.4 ,  6.85,  7.3 ,  7.75,  8.2 ,  8.65,\n",
       "        9.1 ,  9.55, 10.  ])},\n",
       "             scoring=&#x27;neg_mean_absolute_percentage_error&#x27;)</pre><b>In a Jupyter environment, please rerun this cell to show the HTML representation or trust the notebook. <br />On GitHub, the HTML representation is unable to render, please try loading this page with nbviewer.org.</b></div><div class=\"sk-container\" hidden><div class=\"sk-item sk-dashed-wrapped\"><div class=\"sk-label-container\"><div class=\"sk-label sk-toggleable\"><input class=\"sk-toggleable__control sk-hidden--visually\" id=\"sk-estimator-id-14\" type=\"checkbox\" ><label for=\"sk-estimator-id-14\" class=\"sk-toggleable__label sk-toggleable__label-arrow\">GridSearchCV</label><div class=\"sk-toggleable__content\"><pre>GridSearchCV(cv=RepeatedKFold(n_repeats=3, n_splits=10, random_state=123),\n",
       "             estimator=Pipeline(steps=[(&#x27;preprocessor&#x27;, StandardScaler()),\n",
       "                                       (&#x27;model&#x27;, Ridge())]),\n",
       "             n_jobs=1,\n",
       "             param_grid={&#x27;model__alpha&#x27;: array([ 1.  ,  1.45,  1.9 ,  2.35,  2.8 ,  3.25,  3.7 ,  4.15,  4.6 ,\n",
       "        5.05,  5.5 ,  5.95,  6.4 ,  6.85,  7.3 ,  7.75,  8.2 ,  8.65,\n",
       "        9.1 ,  9.55, 10.  ])},\n",
       "             scoring=&#x27;neg_mean_absolute_percentage_error&#x27;)</pre></div></div></div><div class=\"sk-parallel\"><div class=\"sk-parallel-item\"><div class=\"sk-item\"><div class=\"sk-label-container\"><div class=\"sk-label sk-toggleable\"><input class=\"sk-toggleable__control sk-hidden--visually\" id=\"sk-estimator-id-15\" type=\"checkbox\" ><label for=\"sk-estimator-id-15\" class=\"sk-toggleable__label sk-toggleable__label-arrow\">estimator: Pipeline</label><div class=\"sk-toggleable__content\"><pre>Pipeline(steps=[(&#x27;preprocessor&#x27;, StandardScaler()), (&#x27;model&#x27;, Ridge())])</pre></div></div></div><div class=\"sk-serial\"><div class=\"sk-item\"><div class=\"sk-serial\"><div class=\"sk-item\"><div class=\"sk-estimator sk-toggleable\"><input class=\"sk-toggleable__control sk-hidden--visually\" id=\"sk-estimator-id-16\" type=\"checkbox\" ><label for=\"sk-estimator-id-16\" class=\"sk-toggleable__label sk-toggleable__label-arrow\">StandardScaler</label><div class=\"sk-toggleable__content\"><pre>StandardScaler()</pre></div></div></div><div class=\"sk-item\"><div class=\"sk-estimator sk-toggleable\"><input class=\"sk-toggleable__control sk-hidden--visually\" id=\"sk-estimator-id-17\" type=\"checkbox\" ><label for=\"sk-estimator-id-17\" class=\"sk-toggleable__label sk-toggleable__label-arrow\">Ridge</label><div class=\"sk-toggleable__content\"><pre>Ridge()</pre></div></div></div></div></div></div></div></div></div></div></div></div>"
      ],
      "text/plain": [
       "GridSearchCV(cv=RepeatedKFold(n_repeats=3, n_splits=10, random_state=123),\n",
       "             estimator=Pipeline(steps=[('preprocessor', StandardScaler()),\n",
       "                                       ('model', Ridge())]),\n",
       "             n_jobs=1,\n",
       "             param_grid={'model__alpha': array([ 1.  ,  1.45,  1.9 ,  2.35,  2.8 ,  3.25,  3.7 ,  4.15,  4.6 ,\n",
       "        5.05,  5.5 ,  5.95,  6.4 ,  6.85,  7.3 ,  7.75,  8.2 ,  8.65,\n",
       "        9.1 ,  9.55, 10.  ])},\n",
       "             scoring='neg_mean_absolute_percentage_error')"
      ]
     },
     "execution_count": 66,
     "metadata": {},
     "output_type": "execute_result"
    }
   ],
   "source": [
    "gscv = GridSearchCV(pipe, grid, scoring='neg_mean_absolute_percentage_error', n_jobs=1, cv=cv)\n",
    "gscv.fit(X_r_treino, y_r_treino)"
   ]
  },
  {
   "cell_type": "code",
   "execution_count": 67,
   "metadata": {},
   "outputs": [
    {
     "data": {
      "text/plain": [
       "{'model__alpha': 1.0}"
      ]
     },
     "execution_count": 67,
     "metadata": {},
     "output_type": "execute_result"
    }
   ],
   "source": [
    "gscv.best_params_"
   ]
  },
  {
   "cell_type": "code",
   "execution_count": 68,
   "metadata": {},
   "outputs": [],
   "source": [
    "pipe_tuned = Pipeline(steps=[\n",
    "    ('preprocessor', StandardScaler()),\n",
    "    ('model', Ridge(alpha=5.5))\n",
    "])"
   ]
  },
  {
   "cell_type": "code",
   "execution_count": 69,
   "metadata": {},
   "outputs": [
    {
     "data": {
      "text/html": [
       "<style>#sk-container-id-13 {color: black;background-color: white;}#sk-container-id-13 pre{padding: 0;}#sk-container-id-13 div.sk-toggleable {background-color: white;}#sk-container-id-13 label.sk-toggleable__label {cursor: pointer;display: block;width: 100%;margin-bottom: 0;padding: 0.3em;box-sizing: border-box;text-align: center;}#sk-container-id-13 label.sk-toggleable__label-arrow:before {content: \"▸\";float: left;margin-right: 0.25em;color: #696969;}#sk-container-id-13 label.sk-toggleable__label-arrow:hover:before {color: black;}#sk-container-id-13 div.sk-estimator:hover label.sk-toggleable__label-arrow:before {color: black;}#sk-container-id-13 div.sk-toggleable__content {max-height: 0;max-width: 0;overflow: hidden;text-align: left;background-color: #f0f8ff;}#sk-container-id-13 div.sk-toggleable__content pre {margin: 0.2em;color: black;border-radius: 0.25em;background-color: #f0f8ff;}#sk-container-id-13 input.sk-toggleable__control:checked~div.sk-toggleable__content {max-height: 200px;max-width: 100%;overflow: auto;}#sk-container-id-13 input.sk-toggleable__control:checked~label.sk-toggleable__label-arrow:before {content: \"▾\";}#sk-container-id-13 div.sk-estimator input.sk-toggleable__control:checked~label.sk-toggleable__label {background-color: #d4ebff;}#sk-container-id-13 div.sk-label input.sk-toggleable__control:checked~label.sk-toggleable__label {background-color: #d4ebff;}#sk-container-id-13 input.sk-hidden--visually {border: 0;clip: rect(1px 1px 1px 1px);clip: rect(1px, 1px, 1px, 1px);height: 1px;margin: -1px;overflow: hidden;padding: 0;position: absolute;width: 1px;}#sk-container-id-13 div.sk-estimator {font-family: monospace;background-color: #f0f8ff;border: 1px dotted black;border-radius: 0.25em;box-sizing: border-box;margin-bottom: 0.5em;}#sk-container-id-13 div.sk-estimator:hover {background-color: #d4ebff;}#sk-container-id-13 div.sk-parallel-item::after {content: \"\";width: 100%;border-bottom: 1px solid gray;flex-grow: 1;}#sk-container-id-13 div.sk-label:hover label.sk-toggleable__label {background-color: #d4ebff;}#sk-container-id-13 div.sk-serial::before {content: \"\";position: absolute;border-left: 1px solid gray;box-sizing: border-box;top: 0;bottom: 0;left: 50%;z-index: 0;}#sk-container-id-13 div.sk-serial {display: flex;flex-direction: column;align-items: center;background-color: white;padding-right: 0.2em;padding-left: 0.2em;position: relative;}#sk-container-id-13 div.sk-item {position: relative;z-index: 1;}#sk-container-id-13 div.sk-parallel {display: flex;align-items: stretch;justify-content: center;background-color: white;position: relative;}#sk-container-id-13 div.sk-item::before, #sk-container-id-13 div.sk-parallel-item::before {content: \"\";position: absolute;border-left: 1px solid gray;box-sizing: border-box;top: 0;bottom: 0;left: 50%;z-index: -1;}#sk-container-id-13 div.sk-parallel-item {display: flex;flex-direction: column;z-index: 1;position: relative;background-color: white;}#sk-container-id-13 div.sk-parallel-item:first-child::after {align-self: flex-end;width: 50%;}#sk-container-id-13 div.sk-parallel-item:last-child::after {align-self: flex-start;width: 50%;}#sk-container-id-13 div.sk-parallel-item:only-child::after {width: 0;}#sk-container-id-13 div.sk-dashed-wrapped {border: 1px dashed gray;margin: 0 0.4em 0.5em 0.4em;box-sizing: border-box;padding-bottom: 0.4em;background-color: white;}#sk-container-id-13 div.sk-label label {font-family: monospace;font-weight: bold;display: inline-block;line-height: 1.2em;}#sk-container-id-13 div.sk-label-container {text-align: center;}#sk-container-id-13 div.sk-container {/* jupyter's `normalize.less` sets `[hidden] { display: none; }` but bootstrap.min.css set `[hidden] { display: none !important; }` so we also need the `!important` here to be able to override the default hidden behavior on the sphinx rendered scikit-learn.org. See: https://github.com/scikit-learn/scikit-learn/issues/21755 */display: inline-block !important;position: relative;}#sk-container-id-13 div.sk-text-repr-fallback {display: none;}</style><div id=\"sk-container-id-13\" class=\"sk-top-container\"><div class=\"sk-text-repr-fallback\"><pre>Pipeline(steps=[(&#x27;preprocessor&#x27;, StandardScaler()),\n",
       "                (&#x27;model&#x27;, Ridge(alpha=5.5))])</pre><b>In a Jupyter environment, please rerun this cell to show the HTML representation or trust the notebook. <br />On GitHub, the HTML representation is unable to render, please try loading this page with nbviewer.org.</b></div><div class=\"sk-container\" hidden><div class=\"sk-item sk-dashed-wrapped\"><div class=\"sk-label-container\"><div class=\"sk-label sk-toggleable\"><input class=\"sk-toggleable__control sk-hidden--visually\" id=\"sk-estimator-id-18\" type=\"checkbox\" ><label for=\"sk-estimator-id-18\" class=\"sk-toggleable__label sk-toggleable__label-arrow\">Pipeline</label><div class=\"sk-toggleable__content\"><pre>Pipeline(steps=[(&#x27;preprocessor&#x27;, StandardScaler()),\n",
       "                (&#x27;model&#x27;, Ridge(alpha=5.5))])</pre></div></div></div><div class=\"sk-serial\"><div class=\"sk-item\"><div class=\"sk-estimator sk-toggleable\"><input class=\"sk-toggleable__control sk-hidden--visually\" id=\"sk-estimator-id-19\" type=\"checkbox\" ><label for=\"sk-estimator-id-19\" class=\"sk-toggleable__label sk-toggleable__label-arrow\">StandardScaler</label><div class=\"sk-toggleable__content\"><pre>StandardScaler()</pre></div></div></div><div class=\"sk-item\"><div class=\"sk-estimator sk-toggleable\"><input class=\"sk-toggleable__control sk-hidden--visually\" id=\"sk-estimator-id-20\" type=\"checkbox\" ><label for=\"sk-estimator-id-20\" class=\"sk-toggleable__label sk-toggleable__label-arrow\">Ridge</label><div class=\"sk-toggleable__content\"><pre>Ridge(alpha=5.5)</pre></div></div></div></div></div></div></div>"
      ],
      "text/plain": [
       "Pipeline(steps=[('preprocessor', StandardScaler()),\n",
       "                ('model', Ridge(alpha=5.5))])"
      ]
     },
     "execution_count": 69,
     "metadata": {},
     "output_type": "execute_result"
    }
   ],
   "source": [
    "pipe_tuned.fit(X_r_treino, y_r_treino)"
   ]
  },
  {
   "cell_type": "code",
   "execution_count": 70,
   "metadata": {},
   "outputs": [
    {
     "name": "stdout",
     "output_type": "stream",
     "text": [
      "\n",
      "      Ridge Regression Standard Tuned - Teste\n",
      "      R2: 0.73\n",
      "      EQM: 1765652.92\n",
      "      REQM: 1328.78\n",
      "      MAD: 1073.55\n",
      "      MAPE: 30.82%\n",
      "      \n"
     ]
    }
   ],
   "source": [
    "pred_teste = pipe_tuned.predict(X_r_teste)\n",
    "\n",
    "r2 = metrics.r2_score(y_r_teste, pred_teste)\n",
    "mse = metrics.mean_squared_error(y_r_teste, pred_teste)\n",
    "rmse = metrics.mean_squared_error(y_r_teste, pred_teste, squared=False)\n",
    "mad = metrics.mean_absolute_error(y_r_teste, pred_teste)\n",
    "mape = metrics.mean_absolute_percentage_error(y_r_teste, pred_teste)\n",
    "\n",
    "print(f'''\n",
    "      Ridge Regression Standard Tuned - Teste\n",
    "      R2: {round(r2,2)}\n",
    "      EQM: {round(mse,2)}\n",
    "      REQM: {round(rmse,2)}\n",
    "      MAD: {round(mad,2)}\n",
    "      MAPE: {round(mape*100,2)}%\n",
    "      ''')"
   ]
  },
  {
   "cell_type": "markdown",
   "metadata": {},
   "source": [
    "### Feature Selection"
   ]
  },
  {
   "cell_type": "code",
   "execution_count": 71,
   "metadata": {},
   "outputs": [],
   "source": [
    "bfs = SequentialFeatureSelector(pipe_tuned, k_features='best', forward=False, n_jobs=1, cv=cv)"
   ]
  },
  {
   "cell_type": "code",
   "execution_count": 72,
   "metadata": {},
   "outputs": [
    {
     "data": {
      "text/html": [
       "<style>#sk-container-id-14 {color: black;background-color: white;}#sk-container-id-14 pre{padding: 0;}#sk-container-id-14 div.sk-toggleable {background-color: white;}#sk-container-id-14 label.sk-toggleable__label {cursor: pointer;display: block;width: 100%;margin-bottom: 0;padding: 0.3em;box-sizing: border-box;text-align: center;}#sk-container-id-14 label.sk-toggleable__label-arrow:before {content: \"▸\";float: left;margin-right: 0.25em;color: #696969;}#sk-container-id-14 label.sk-toggleable__label-arrow:hover:before {color: black;}#sk-container-id-14 div.sk-estimator:hover label.sk-toggleable__label-arrow:before {color: black;}#sk-container-id-14 div.sk-toggleable__content {max-height: 0;max-width: 0;overflow: hidden;text-align: left;background-color: #f0f8ff;}#sk-container-id-14 div.sk-toggleable__content pre {margin: 0.2em;color: black;border-radius: 0.25em;background-color: #f0f8ff;}#sk-container-id-14 input.sk-toggleable__control:checked~div.sk-toggleable__content {max-height: 200px;max-width: 100%;overflow: auto;}#sk-container-id-14 input.sk-toggleable__control:checked~label.sk-toggleable__label-arrow:before {content: \"▾\";}#sk-container-id-14 div.sk-estimator input.sk-toggleable__control:checked~label.sk-toggleable__label {background-color: #d4ebff;}#sk-container-id-14 div.sk-label input.sk-toggleable__control:checked~label.sk-toggleable__label {background-color: #d4ebff;}#sk-container-id-14 input.sk-hidden--visually {border: 0;clip: rect(1px 1px 1px 1px);clip: rect(1px, 1px, 1px, 1px);height: 1px;margin: -1px;overflow: hidden;padding: 0;position: absolute;width: 1px;}#sk-container-id-14 div.sk-estimator {font-family: monospace;background-color: #f0f8ff;border: 1px dotted black;border-radius: 0.25em;box-sizing: border-box;margin-bottom: 0.5em;}#sk-container-id-14 div.sk-estimator:hover {background-color: #d4ebff;}#sk-container-id-14 div.sk-parallel-item::after {content: \"\";width: 100%;border-bottom: 1px solid gray;flex-grow: 1;}#sk-container-id-14 div.sk-label:hover label.sk-toggleable__label {background-color: #d4ebff;}#sk-container-id-14 div.sk-serial::before {content: \"\";position: absolute;border-left: 1px solid gray;box-sizing: border-box;top: 0;bottom: 0;left: 50%;z-index: 0;}#sk-container-id-14 div.sk-serial {display: flex;flex-direction: column;align-items: center;background-color: white;padding-right: 0.2em;padding-left: 0.2em;position: relative;}#sk-container-id-14 div.sk-item {position: relative;z-index: 1;}#sk-container-id-14 div.sk-parallel {display: flex;align-items: stretch;justify-content: center;background-color: white;position: relative;}#sk-container-id-14 div.sk-item::before, #sk-container-id-14 div.sk-parallel-item::before {content: \"\";position: absolute;border-left: 1px solid gray;box-sizing: border-box;top: 0;bottom: 0;left: 50%;z-index: -1;}#sk-container-id-14 div.sk-parallel-item {display: flex;flex-direction: column;z-index: 1;position: relative;background-color: white;}#sk-container-id-14 div.sk-parallel-item:first-child::after {align-self: flex-end;width: 50%;}#sk-container-id-14 div.sk-parallel-item:last-child::after {align-self: flex-start;width: 50%;}#sk-container-id-14 div.sk-parallel-item:only-child::after {width: 0;}#sk-container-id-14 div.sk-dashed-wrapped {border: 1px dashed gray;margin: 0 0.4em 0.5em 0.4em;box-sizing: border-box;padding-bottom: 0.4em;background-color: white;}#sk-container-id-14 div.sk-label label {font-family: monospace;font-weight: bold;display: inline-block;line-height: 1.2em;}#sk-container-id-14 div.sk-label-container {text-align: center;}#sk-container-id-14 div.sk-container {/* jupyter's `normalize.less` sets `[hidden] { display: none; }` but bootstrap.min.css set `[hidden] { display: none !important; }` so we also need the `!important` here to be able to override the default hidden behavior on the sphinx rendered scikit-learn.org. See: https://github.com/scikit-learn/scikit-learn/issues/21755 */display: inline-block !important;position: relative;}#sk-container-id-14 div.sk-text-repr-fallback {display: none;}</style><div id=\"sk-container-id-14\" class=\"sk-top-container\"><div class=\"sk-text-repr-fallback\"><pre>SequentialFeatureSelector(cv=RepeatedKFold(n_repeats=3, n_splits=10, random_state=123),\n",
       "                          estimator=Pipeline(steps=[(&#x27;preprocessor&#x27;,\n",
       "                                                     StandardScaler()),\n",
       "                                                    (&#x27;model&#x27;,\n",
       "                                                     Ridge(alpha=5.5))]),\n",
       "                          forward=False, k_features=&#x27;best&#x27;)</pre><b>In a Jupyter environment, please rerun this cell to show the HTML representation or trust the notebook. <br />On GitHub, the HTML representation is unable to render, please try loading this page with nbviewer.org.</b></div><div class=\"sk-container\" hidden><div class=\"sk-item sk-dashed-wrapped\"><div class=\"sk-label-container\"><div class=\"sk-label sk-toggleable\"><input class=\"sk-toggleable__control sk-hidden--visually\" id=\"sk-estimator-id-21\" type=\"checkbox\" ><label for=\"sk-estimator-id-21\" class=\"sk-toggleable__label sk-toggleable__label-arrow\">SequentialFeatureSelector</label><div class=\"sk-toggleable__content\"><pre>SequentialFeatureSelector(cv=RepeatedKFold(n_repeats=3, n_splits=10, random_state=123),\n",
       "                          estimator=Pipeline(steps=[(&#x27;preprocessor&#x27;,\n",
       "                                                     StandardScaler()),\n",
       "                                                    (&#x27;model&#x27;,\n",
       "                                                     Ridge(alpha=5.5))]),\n",
       "                          forward=False, k_features=&#x27;best&#x27;)</pre></div></div></div><div class=\"sk-parallel\"><div class=\"sk-parallel-item\"><div class=\"sk-item\"><div class=\"sk-label-container\"><div class=\"sk-label sk-toggleable\"><input class=\"sk-toggleable__control sk-hidden--visually\" id=\"sk-estimator-id-22\" type=\"checkbox\" ><label for=\"sk-estimator-id-22\" class=\"sk-toggleable__label sk-toggleable__label-arrow\">estimator: Pipeline</label><div class=\"sk-toggleable__content\"><pre>Pipeline(steps=[(&#x27;preprocessor&#x27;, StandardScaler()),\n",
       "                (&#x27;model&#x27;, Ridge(alpha=5.5))])</pre></div></div></div><div class=\"sk-serial\"><div class=\"sk-item\"><div class=\"sk-serial\"><div class=\"sk-item\"><div class=\"sk-estimator sk-toggleable\"><input class=\"sk-toggleable__control sk-hidden--visually\" id=\"sk-estimator-id-23\" type=\"checkbox\" ><label for=\"sk-estimator-id-23\" class=\"sk-toggleable__label sk-toggleable__label-arrow\">StandardScaler</label><div class=\"sk-toggleable__content\"><pre>StandardScaler()</pre></div></div></div><div class=\"sk-item\"><div class=\"sk-estimator sk-toggleable\"><input class=\"sk-toggleable__control sk-hidden--visually\" id=\"sk-estimator-id-24\" type=\"checkbox\" ><label for=\"sk-estimator-id-24\" class=\"sk-toggleable__label sk-toggleable__label-arrow\">Ridge</label><div class=\"sk-toggleable__content\"><pre>Ridge(alpha=5.5)</pre></div></div></div></div></div></div></div></div></div></div></div></div>"
      ],
      "text/plain": [
       "SequentialFeatureSelector(cv=RepeatedKFold(n_repeats=3, n_splits=10, random_state=123),\n",
       "                          estimator=Pipeline(steps=[('preprocessor',\n",
       "                                                     StandardScaler()),\n",
       "                                                    ('model',\n",
       "                                                     Ridge(alpha=5.5))]),\n",
       "                          forward=False, k_features='best')"
      ]
     },
     "execution_count": 72,
     "metadata": {},
     "output_type": "execute_result"
    }
   ],
   "source": [
    "bfs.fit(X_r_treino, y_r_treino)"
   ]
  },
  {
   "cell_type": "code",
   "execution_count": 73,
   "metadata": {},
   "outputs": [
    {
     "data": {
      "text/plain": [
       "['vendas_PUCRIO_LAG_2',\n",
       " 'vendas_PUCRIO_LAG_3',\n",
       " 'vendas_UFABC_LAG_2',\n",
       " 'vendas_UFF_LAG_2',\n",
       " 'vendas_UFMG_LAG_1',\n",
       " 'vendas_UFRJ_LAG_1',\n",
       " 'vendas_UFSC_LAG_1',\n",
       " 'vendas_UNICAMP_LAG_1',\n",
       " 'vendas_UNICAMP_LAG_3',\n",
       " 'vendas_UTFPR_LAG_1',\n",
       " 'vendas_Belo_Horizonte_LAG_1',\n",
       " 'vendas_Campinas_LAG_1',\n",
       " 'vendas_Campo_Grande_LAG_3',\n",
       " 'vendas_Curitiba_LAG_3',\n",
       " 'vendas_Florianopolis_LAG_2',\n",
       " 'vendas_Goiania_LAG_3',\n",
       " 'vendas_Joinville_LAG_2',\n",
       " 'vendas_Manaus_LAG_2',\n",
       " 'vendas_Manaus_LAG_3',\n",
       " 'vendas_Natal_LAG_3',\n",
       " 'vendas_Niteroi_LAG_2',\n",
       " 'vendas_Recife_LAG_3',\n",
       " 'vendas_Salvador_LAG_2',\n",
       " 'vendas_Santo_Andre_LAG_1',\n",
       " 'vendas_Sao_Carlos_LAG_3',\n",
       " 'seasonal_LAG_12']"
      ]
     },
     "execution_count": 73,
     "metadata": {},
     "output_type": "execute_result"
    }
   ],
   "source": [
    "bfs_features = list(bfs.k_feature_names_)\n",
    "bfs_features"
   ]
  },
  {
   "cell_type": "code",
   "execution_count": 74,
   "metadata": {},
   "outputs": [],
   "source": [
    "X_r_treino_bfs = X_r_treino.loc[:, bfs_features]\n",
    "X_r_teste_bfs = X_r_teste.loc[:, bfs_features]\n",
    "X_r_bfs = X_r.loc[:, bfs_features]"
   ]
  },
  {
   "cell_type": "code",
   "execution_count": 75,
   "metadata": {},
   "outputs": [],
   "source": [
    "pipe_tuned_bfs = Pipeline(steps=[\n",
    "    ('preprocessor', StandardScaler()),\n",
    "    ('model', Ridge(alpha=5.5))\n",
    "])"
   ]
  },
  {
   "cell_type": "code",
   "execution_count": 76,
   "metadata": {},
   "outputs": [
    {
     "data": {
      "text/html": [
       "<style>#sk-container-id-15 {color: black;background-color: white;}#sk-container-id-15 pre{padding: 0;}#sk-container-id-15 div.sk-toggleable {background-color: white;}#sk-container-id-15 label.sk-toggleable__label {cursor: pointer;display: block;width: 100%;margin-bottom: 0;padding: 0.3em;box-sizing: border-box;text-align: center;}#sk-container-id-15 label.sk-toggleable__label-arrow:before {content: \"▸\";float: left;margin-right: 0.25em;color: #696969;}#sk-container-id-15 label.sk-toggleable__label-arrow:hover:before {color: black;}#sk-container-id-15 div.sk-estimator:hover label.sk-toggleable__label-arrow:before {color: black;}#sk-container-id-15 div.sk-toggleable__content {max-height: 0;max-width: 0;overflow: hidden;text-align: left;background-color: #f0f8ff;}#sk-container-id-15 div.sk-toggleable__content pre {margin: 0.2em;color: black;border-radius: 0.25em;background-color: #f0f8ff;}#sk-container-id-15 input.sk-toggleable__control:checked~div.sk-toggleable__content {max-height: 200px;max-width: 100%;overflow: auto;}#sk-container-id-15 input.sk-toggleable__control:checked~label.sk-toggleable__label-arrow:before {content: \"▾\";}#sk-container-id-15 div.sk-estimator input.sk-toggleable__control:checked~label.sk-toggleable__label {background-color: #d4ebff;}#sk-container-id-15 div.sk-label input.sk-toggleable__control:checked~label.sk-toggleable__label {background-color: #d4ebff;}#sk-container-id-15 input.sk-hidden--visually {border: 0;clip: rect(1px 1px 1px 1px);clip: rect(1px, 1px, 1px, 1px);height: 1px;margin: -1px;overflow: hidden;padding: 0;position: absolute;width: 1px;}#sk-container-id-15 div.sk-estimator {font-family: monospace;background-color: #f0f8ff;border: 1px dotted black;border-radius: 0.25em;box-sizing: border-box;margin-bottom: 0.5em;}#sk-container-id-15 div.sk-estimator:hover {background-color: #d4ebff;}#sk-container-id-15 div.sk-parallel-item::after {content: \"\";width: 100%;border-bottom: 1px solid gray;flex-grow: 1;}#sk-container-id-15 div.sk-label:hover label.sk-toggleable__label {background-color: #d4ebff;}#sk-container-id-15 div.sk-serial::before {content: \"\";position: absolute;border-left: 1px solid gray;box-sizing: border-box;top: 0;bottom: 0;left: 50%;z-index: 0;}#sk-container-id-15 div.sk-serial {display: flex;flex-direction: column;align-items: center;background-color: white;padding-right: 0.2em;padding-left: 0.2em;position: relative;}#sk-container-id-15 div.sk-item {position: relative;z-index: 1;}#sk-container-id-15 div.sk-parallel {display: flex;align-items: stretch;justify-content: center;background-color: white;position: relative;}#sk-container-id-15 div.sk-item::before, #sk-container-id-15 div.sk-parallel-item::before {content: \"\";position: absolute;border-left: 1px solid gray;box-sizing: border-box;top: 0;bottom: 0;left: 50%;z-index: -1;}#sk-container-id-15 div.sk-parallel-item {display: flex;flex-direction: column;z-index: 1;position: relative;background-color: white;}#sk-container-id-15 div.sk-parallel-item:first-child::after {align-self: flex-end;width: 50%;}#sk-container-id-15 div.sk-parallel-item:last-child::after {align-self: flex-start;width: 50%;}#sk-container-id-15 div.sk-parallel-item:only-child::after {width: 0;}#sk-container-id-15 div.sk-dashed-wrapped {border: 1px dashed gray;margin: 0 0.4em 0.5em 0.4em;box-sizing: border-box;padding-bottom: 0.4em;background-color: white;}#sk-container-id-15 div.sk-label label {font-family: monospace;font-weight: bold;display: inline-block;line-height: 1.2em;}#sk-container-id-15 div.sk-label-container {text-align: center;}#sk-container-id-15 div.sk-container {/* jupyter's `normalize.less` sets `[hidden] { display: none; }` but bootstrap.min.css set `[hidden] { display: none !important; }` so we also need the `!important` here to be able to override the default hidden behavior on the sphinx rendered scikit-learn.org. See: https://github.com/scikit-learn/scikit-learn/issues/21755 */display: inline-block !important;position: relative;}#sk-container-id-15 div.sk-text-repr-fallback {display: none;}</style><div id=\"sk-container-id-15\" class=\"sk-top-container\"><div class=\"sk-text-repr-fallback\"><pre>Pipeline(steps=[(&#x27;preprocessor&#x27;, StandardScaler()),\n",
       "                (&#x27;model&#x27;, Ridge(alpha=5.5))])</pre><b>In a Jupyter environment, please rerun this cell to show the HTML representation or trust the notebook. <br />On GitHub, the HTML representation is unable to render, please try loading this page with nbviewer.org.</b></div><div class=\"sk-container\" hidden><div class=\"sk-item sk-dashed-wrapped\"><div class=\"sk-label-container\"><div class=\"sk-label sk-toggleable\"><input class=\"sk-toggleable__control sk-hidden--visually\" id=\"sk-estimator-id-25\" type=\"checkbox\" ><label for=\"sk-estimator-id-25\" class=\"sk-toggleable__label sk-toggleable__label-arrow\">Pipeline</label><div class=\"sk-toggleable__content\"><pre>Pipeline(steps=[(&#x27;preprocessor&#x27;, StandardScaler()),\n",
       "                (&#x27;model&#x27;, Ridge(alpha=5.5))])</pre></div></div></div><div class=\"sk-serial\"><div class=\"sk-item\"><div class=\"sk-estimator sk-toggleable\"><input class=\"sk-toggleable__control sk-hidden--visually\" id=\"sk-estimator-id-26\" type=\"checkbox\" ><label for=\"sk-estimator-id-26\" class=\"sk-toggleable__label sk-toggleable__label-arrow\">StandardScaler</label><div class=\"sk-toggleable__content\"><pre>StandardScaler()</pre></div></div></div><div class=\"sk-item\"><div class=\"sk-estimator sk-toggleable\"><input class=\"sk-toggleable__control sk-hidden--visually\" id=\"sk-estimator-id-27\" type=\"checkbox\" ><label for=\"sk-estimator-id-27\" class=\"sk-toggleable__label sk-toggleable__label-arrow\">Ridge</label><div class=\"sk-toggleable__content\"><pre>Ridge(alpha=5.5)</pre></div></div></div></div></div></div></div>"
      ],
      "text/plain": [
       "Pipeline(steps=[('preprocessor', StandardScaler()),\n",
       "                ('model', Ridge(alpha=5.5))])"
      ]
     },
     "execution_count": 76,
     "metadata": {},
     "output_type": "execute_result"
    }
   ],
   "source": [
    "pipe_tuned_bfs.fit(X_r_treino_bfs, y_r_treino)"
   ]
  },
  {
   "cell_type": "code",
   "execution_count": 77,
   "metadata": {},
   "outputs": [
    {
     "name": "stdout",
     "output_type": "stream",
     "text": [
      "\n",
      "      Ridge Regression Standard Tuned - Teste\n",
      "      R2: 0.71\n",
      "      EQM: 1882527.91\n",
      "      REQM: 1372.05\n",
      "      MAD: 1055.05\n",
      "      MAPE: 30.93%\n",
      "      \n"
     ]
    }
   ],
   "source": [
    "pred_teste_bfs = pipe_tuned_bfs.predict(X_r_teste_bfs)\n",
    "\n",
    "r2 = metrics.r2_score(y_r_teste, pred_teste_bfs)\n",
    "mse = metrics.mean_squared_error(y_r_teste, pred_teste_bfs)\n",
    "rmse = metrics.mean_squared_error(y_r_teste, pred_teste_bfs, squared=False)\n",
    "mad = metrics.mean_absolute_error(y_r_teste, pred_teste_bfs)\n",
    "mape = metrics.mean_absolute_percentage_error(y_r_teste, pred_teste_bfs)\n",
    "\n",
    "print(f'''\n",
    "      Ridge Regression Standard Tuned - Teste\n",
    "      R2: {round(r2,2)}\n",
    "      EQM: {round(mse,2)}\n",
    "      REQM: {round(rmse,2)}\n",
    "      MAD: {round(mad,2)}\n",
    "      MAPE: {round(mape*100,2)}%\n",
    "      ''')"
   ]
  },
  {
   "cell_type": "code",
   "execution_count": 78,
   "metadata": {},
   "outputs": [
    {
     "name": "stdout",
     "output_type": "stream",
     "text": [
      "\n",
      "      Ridge Regression Standard Tuned - Série Completa\n",
      "      R2: 0.91\n",
      "      EQM: 752418.48\n",
      "      REQM: 867.42\n",
      "      MAD: 547.13\n",
      "      MAPE: 13.47%\n",
      "      \n"
     ]
    }
   ],
   "source": [
    "pred_bfs = pipe_tuned_bfs.predict(X_r_bfs)\n",
    "\n",
    "r2 = metrics.r2_score(y_r, pred_bfs)\n",
    "mse = metrics.mean_squared_error(y_r, pred_bfs)\n",
    "rmse = metrics.mean_squared_error(y_r, pred_bfs, squared=False)\n",
    "mad = metrics.mean_absolute_error(y_r, pred_bfs)\n",
    "mape = metrics.mean_absolute_percentage_error(y_r, pred_bfs)\n",
    "\n",
    "print(f'''\n",
    "      Ridge Regression Standard Tuned - Série Completa\n",
    "      R2: {round(r2,2)}\n",
    "      EQM: {round(mse,2)}\n",
    "      REQM: {round(rmse,2)}\n",
    "      MAD: {round(mad,2)}\n",
    "      MAPE: {round(mape*100,2)}%\n",
    "      ''')"
   ]
  },
  {
   "cell_type": "code",
   "execution_count": 79,
   "metadata": {},
   "outputs": [
    {
     "data": {
      "application/vnd.plotly.v1+json": {
       "config": {
        "plotlyServerURL": "https://plot.ly"
       },
       "data": [
        {
         "marker": {
          "color": "orange"
         },
         "name": "Previsto",
         "type": "scatter",
         "x": [
          "2018-01-01",
          "2018-02-01",
          "2018-03-01",
          "2018-04-01",
          "2018-05-01",
          "2018-06-01",
          "2018-07-01",
          "2018-08-01",
          "2018-09-01",
          "2018-10-01",
          "2018-11-01",
          "2018-12-01",
          "2019-01-01",
          "2019-02-01",
          "2019-03-01",
          "2019-04-01",
          "2019-05-01",
          "2019-06-01",
          "2019-07-01",
          "2019-08-01",
          "2019-09-01",
          "2019-10-01",
          "2019-11-01",
          "2019-12-01",
          "2020-01-01",
          "2020-02-01",
          "2020-03-01",
          "2020-04-01",
          "2020-05-01",
          "2020-06-01",
          "2020-07-01",
          "2020-08-01",
          "2020-09-01",
          "2020-10-01",
          "2020-11-01",
          "2020-12-01",
          "2021-01-01",
          "2021-02-01",
          "2021-03-01",
          "2021-04-01",
          "2021-05-01",
          "2021-06-01",
          "2021-07-01",
          "2021-08-01",
          "2021-09-01",
          "2021-10-01",
          "2021-11-01",
          "2021-12-01",
          "2022-01-01",
          "2022-02-01",
          "2022-03-01",
          "2022-04-01"
         ],
         "y": [
          4736.573691676803,
          5112.886335522255,
          4232.253744581462,
          4341.2154103682915,
          4243.435096101353,
          4700.825641832627,
          4553.429665270242,
          4368.163668928303,
          5366.846816937404,
          5210.820785380285,
          5106.644425623707,
          5604.685390014116,
          2793.956644072111,
          3307.694665515557,
          5703.602630424037,
          6347.188454388533,
          6783.525046381752,
          6513.978571048536,
          4973.312091349586,
          5699.082894651994,
          7760.005891985651,
          8508.550723219176,
          9753.526073847492,
          7591.263946975008,
          4755.8358583651,
          5378.343069763591,
          7404.607201673294,
          7730.555411479795,
          6381.71362506517,
          6451.32194962062,
          4899.41060947539,
          5653.878712354466,
          9550.600350682342,
          10307.995913006833,
          9553.782760041768,
          8503.985501844616,
          7246.479225898806,
          7891.179410619152,
          10932.238706205586,
          11399.706058875709,
          10731.285121341021,
          11163.11738536353,
          10176.517845552487,
          10336.139818028378,
          12010.501189371647,
          11706.191779195542,
          11849.528224180533,
          10931.099899588427,
          9152.826087849238,
          8547.425726584628,
          10180.562902569816,
          10170.842664774993
         ]
        },
        {
         "marker": {
          "color": "gray"
         },
         "name": "Real",
         "type": "scatter",
         "x": [
          "2018-01-01",
          "2018-02-01",
          "2018-03-01",
          "2018-04-01",
          "2018-05-01",
          "2018-06-01",
          "2018-07-01",
          "2018-08-01",
          "2018-09-01",
          "2018-10-01",
          "2018-11-01",
          "2018-12-01",
          "2019-01-01",
          "2019-02-01",
          "2019-03-01",
          "2019-04-01",
          "2019-05-01",
          "2019-06-01",
          "2019-07-01",
          "2019-08-01",
          "2019-09-01",
          "2019-10-01",
          "2019-11-01",
          "2019-12-01",
          "2020-01-01",
          "2020-02-01",
          "2020-03-01",
          "2020-04-01",
          "2020-05-01",
          "2020-06-01",
          "2020-07-01",
          "2020-08-01",
          "2020-09-01",
          "2020-10-01",
          "2020-11-01",
          "2020-12-01",
          "2021-01-01",
          "2021-02-01",
          "2021-03-01",
          "2021-04-01",
          "2021-05-01",
          "2021-06-01",
          "2021-07-01",
          "2021-08-01",
          "2021-09-01",
          "2021-10-01",
          "2021-11-01",
          "2021-12-01",
          "2022-01-01",
          "2022-02-01",
          "2022-03-01",
          "2022-04-01"
         ],
         "y": [
          1819,
          2012,
          4035,
          4305,
          3956,
          3962,
          2875,
          3959,
          4566,
          5079,
          5645,
          3668,
          2782,
          3044,
          5651,
          6585,
          6993,
          6719,
          4710,
          5675,
          7907,
          9058,
          9868,
          7035,
          4959,
          5072,
          7913,
          6991,
          6098,
          6320,
          5158,
          7536,
          9926,
          10549,
          9512,
          7527,
          6238,
          8189,
          11679,
          11447,
          11263,
          11480,
          10307,
          11559,
          11959,
          11491,
          12203,
          10718,
          7757,
          8433,
          9770,
          10208
         ]
        }
       ],
       "layout": {
        "font": {
         "color": "black"
        },
        "template": {
         "data": {
          "bar": [
           {
            "error_x": {
             "color": "#2a3f5f"
            },
            "error_y": {
             "color": "#2a3f5f"
            },
            "marker": {
             "line": {
              "color": "#E5ECF6",
              "width": 0.5
             },
             "pattern": {
              "fillmode": "overlay",
              "size": 10,
              "solidity": 0.2
             }
            },
            "type": "bar"
           }
          ],
          "barpolar": [
           {
            "marker": {
             "line": {
              "color": "#E5ECF6",
              "width": 0.5
             },
             "pattern": {
              "fillmode": "overlay",
              "size": 10,
              "solidity": 0.2
             }
            },
            "type": "barpolar"
           }
          ],
          "carpet": [
           {
            "aaxis": {
             "endlinecolor": "#2a3f5f",
             "gridcolor": "white",
             "linecolor": "white",
             "minorgridcolor": "white",
             "startlinecolor": "#2a3f5f"
            },
            "baxis": {
             "endlinecolor": "#2a3f5f",
             "gridcolor": "white",
             "linecolor": "white",
             "minorgridcolor": "white",
             "startlinecolor": "#2a3f5f"
            },
            "type": "carpet"
           }
          ],
          "choropleth": [
           {
            "colorbar": {
             "outlinewidth": 0,
             "ticks": ""
            },
            "type": "choropleth"
           }
          ],
          "contour": [
           {
            "colorbar": {
             "outlinewidth": 0,
             "ticks": ""
            },
            "colorscale": [
             [
              0,
              "#0d0887"
             ],
             [
              0.1111111111111111,
              "#46039f"
             ],
             [
              0.2222222222222222,
              "#7201a8"
             ],
             [
              0.3333333333333333,
              "#9c179e"
             ],
             [
              0.4444444444444444,
              "#bd3786"
             ],
             [
              0.5555555555555556,
              "#d8576b"
             ],
             [
              0.6666666666666666,
              "#ed7953"
             ],
             [
              0.7777777777777778,
              "#fb9f3a"
             ],
             [
              0.8888888888888888,
              "#fdca26"
             ],
             [
              1,
              "#f0f921"
             ]
            ],
            "type": "contour"
           }
          ],
          "contourcarpet": [
           {
            "colorbar": {
             "outlinewidth": 0,
             "ticks": ""
            },
            "type": "contourcarpet"
           }
          ],
          "heatmap": [
           {
            "colorbar": {
             "outlinewidth": 0,
             "ticks": ""
            },
            "colorscale": [
             [
              0,
              "#0d0887"
             ],
             [
              0.1111111111111111,
              "#46039f"
             ],
             [
              0.2222222222222222,
              "#7201a8"
             ],
             [
              0.3333333333333333,
              "#9c179e"
             ],
             [
              0.4444444444444444,
              "#bd3786"
             ],
             [
              0.5555555555555556,
              "#d8576b"
             ],
             [
              0.6666666666666666,
              "#ed7953"
             ],
             [
              0.7777777777777778,
              "#fb9f3a"
             ],
             [
              0.8888888888888888,
              "#fdca26"
             ],
             [
              1,
              "#f0f921"
             ]
            ],
            "type": "heatmap"
           }
          ],
          "heatmapgl": [
           {
            "colorbar": {
             "outlinewidth": 0,
             "ticks": ""
            },
            "colorscale": [
             [
              0,
              "#0d0887"
             ],
             [
              0.1111111111111111,
              "#46039f"
             ],
             [
              0.2222222222222222,
              "#7201a8"
             ],
             [
              0.3333333333333333,
              "#9c179e"
             ],
             [
              0.4444444444444444,
              "#bd3786"
             ],
             [
              0.5555555555555556,
              "#d8576b"
             ],
             [
              0.6666666666666666,
              "#ed7953"
             ],
             [
              0.7777777777777778,
              "#fb9f3a"
             ],
             [
              0.8888888888888888,
              "#fdca26"
             ],
             [
              1,
              "#f0f921"
             ]
            ],
            "type": "heatmapgl"
           }
          ],
          "histogram": [
           {
            "marker": {
             "pattern": {
              "fillmode": "overlay",
              "size": 10,
              "solidity": 0.2
             }
            },
            "type": "histogram"
           }
          ],
          "histogram2d": [
           {
            "colorbar": {
             "outlinewidth": 0,
             "ticks": ""
            },
            "colorscale": [
             [
              0,
              "#0d0887"
             ],
             [
              0.1111111111111111,
              "#46039f"
             ],
             [
              0.2222222222222222,
              "#7201a8"
             ],
             [
              0.3333333333333333,
              "#9c179e"
             ],
             [
              0.4444444444444444,
              "#bd3786"
             ],
             [
              0.5555555555555556,
              "#d8576b"
             ],
             [
              0.6666666666666666,
              "#ed7953"
             ],
             [
              0.7777777777777778,
              "#fb9f3a"
             ],
             [
              0.8888888888888888,
              "#fdca26"
             ],
             [
              1,
              "#f0f921"
             ]
            ],
            "type": "histogram2d"
           }
          ],
          "histogram2dcontour": [
           {
            "colorbar": {
             "outlinewidth": 0,
             "ticks": ""
            },
            "colorscale": [
             [
              0,
              "#0d0887"
             ],
             [
              0.1111111111111111,
              "#46039f"
             ],
             [
              0.2222222222222222,
              "#7201a8"
             ],
             [
              0.3333333333333333,
              "#9c179e"
             ],
             [
              0.4444444444444444,
              "#bd3786"
             ],
             [
              0.5555555555555556,
              "#d8576b"
             ],
             [
              0.6666666666666666,
              "#ed7953"
             ],
             [
              0.7777777777777778,
              "#fb9f3a"
             ],
             [
              0.8888888888888888,
              "#fdca26"
             ],
             [
              1,
              "#f0f921"
             ]
            ],
            "type": "histogram2dcontour"
           }
          ],
          "mesh3d": [
           {
            "colorbar": {
             "outlinewidth": 0,
             "ticks": ""
            },
            "type": "mesh3d"
           }
          ],
          "parcoords": [
           {
            "line": {
             "colorbar": {
              "outlinewidth": 0,
              "ticks": ""
             }
            },
            "type": "parcoords"
           }
          ],
          "pie": [
           {
            "automargin": true,
            "type": "pie"
           }
          ],
          "scatter": [
           {
            "marker": {
             "colorbar": {
              "outlinewidth": 0,
              "ticks": ""
             }
            },
            "type": "scatter"
           }
          ],
          "scatter3d": [
           {
            "line": {
             "colorbar": {
              "outlinewidth": 0,
              "ticks": ""
             }
            },
            "marker": {
             "colorbar": {
              "outlinewidth": 0,
              "ticks": ""
             }
            },
            "type": "scatter3d"
           }
          ],
          "scattercarpet": [
           {
            "marker": {
             "colorbar": {
              "outlinewidth": 0,
              "ticks": ""
             }
            },
            "type": "scattercarpet"
           }
          ],
          "scattergeo": [
           {
            "marker": {
             "colorbar": {
              "outlinewidth": 0,
              "ticks": ""
             }
            },
            "type": "scattergeo"
           }
          ],
          "scattergl": [
           {
            "marker": {
             "colorbar": {
              "outlinewidth": 0,
              "ticks": ""
             }
            },
            "type": "scattergl"
           }
          ],
          "scattermapbox": [
           {
            "marker": {
             "colorbar": {
              "outlinewidth": 0,
              "ticks": ""
             }
            },
            "type": "scattermapbox"
           }
          ],
          "scatterpolar": [
           {
            "marker": {
             "colorbar": {
              "outlinewidth": 0,
              "ticks": ""
             }
            },
            "type": "scatterpolar"
           }
          ],
          "scatterpolargl": [
           {
            "marker": {
             "colorbar": {
              "outlinewidth": 0,
              "ticks": ""
             }
            },
            "type": "scatterpolargl"
           }
          ],
          "scatterternary": [
           {
            "marker": {
             "colorbar": {
              "outlinewidth": 0,
              "ticks": ""
             }
            },
            "type": "scatterternary"
           }
          ],
          "surface": [
           {
            "colorbar": {
             "outlinewidth": 0,
             "ticks": ""
            },
            "colorscale": [
             [
              0,
              "#0d0887"
             ],
             [
              0.1111111111111111,
              "#46039f"
             ],
             [
              0.2222222222222222,
              "#7201a8"
             ],
             [
              0.3333333333333333,
              "#9c179e"
             ],
             [
              0.4444444444444444,
              "#bd3786"
             ],
             [
              0.5555555555555556,
              "#d8576b"
             ],
             [
              0.6666666666666666,
              "#ed7953"
             ],
             [
              0.7777777777777778,
              "#fb9f3a"
             ],
             [
              0.8888888888888888,
              "#fdca26"
             ],
             [
              1,
              "#f0f921"
             ]
            ],
            "type": "surface"
           }
          ],
          "table": [
           {
            "cells": {
             "fill": {
              "color": "#EBF0F8"
             },
             "line": {
              "color": "white"
             }
            },
            "header": {
             "fill": {
              "color": "#C8D4E3"
             },
             "line": {
              "color": "white"
             }
            },
            "type": "table"
           }
          ]
         },
         "layout": {
          "annotationdefaults": {
           "arrowcolor": "#2a3f5f",
           "arrowhead": 0,
           "arrowwidth": 1
          },
          "autotypenumbers": "strict",
          "coloraxis": {
           "colorbar": {
            "outlinewidth": 0,
            "ticks": ""
           }
          },
          "colorscale": {
           "diverging": [
            [
             0,
             "#8e0152"
            ],
            [
             0.1,
             "#c51b7d"
            ],
            [
             0.2,
             "#de77ae"
            ],
            [
             0.3,
             "#f1b6da"
            ],
            [
             0.4,
             "#fde0ef"
            ],
            [
             0.5,
             "#f7f7f7"
            ],
            [
             0.6,
             "#e6f5d0"
            ],
            [
             0.7,
             "#b8e186"
            ],
            [
             0.8,
             "#7fbc41"
            ],
            [
             0.9,
             "#4d9221"
            ],
            [
             1,
             "#276419"
            ]
           ],
           "sequential": [
            [
             0,
             "#0d0887"
            ],
            [
             0.1111111111111111,
             "#46039f"
            ],
            [
             0.2222222222222222,
             "#7201a8"
            ],
            [
             0.3333333333333333,
             "#9c179e"
            ],
            [
             0.4444444444444444,
             "#bd3786"
            ],
            [
             0.5555555555555556,
             "#d8576b"
            ],
            [
             0.6666666666666666,
             "#ed7953"
            ],
            [
             0.7777777777777778,
             "#fb9f3a"
            ],
            [
             0.8888888888888888,
             "#fdca26"
            ],
            [
             1,
             "#f0f921"
            ]
           ],
           "sequentialminus": [
            [
             0,
             "#0d0887"
            ],
            [
             0.1111111111111111,
             "#46039f"
            ],
            [
             0.2222222222222222,
             "#7201a8"
            ],
            [
             0.3333333333333333,
             "#9c179e"
            ],
            [
             0.4444444444444444,
             "#bd3786"
            ],
            [
             0.5555555555555556,
             "#d8576b"
            ],
            [
             0.6666666666666666,
             "#ed7953"
            ],
            [
             0.7777777777777778,
             "#fb9f3a"
            ],
            [
             0.8888888888888888,
             "#fdca26"
            ],
            [
             1,
             "#f0f921"
            ]
           ]
          },
          "colorway": [
           "#636efa",
           "#EF553B",
           "#00cc96",
           "#ab63fa",
           "#FFA15A",
           "#19d3f3",
           "#FF6692",
           "#B6E880",
           "#FF97FF",
           "#FECB52"
          ],
          "font": {
           "color": "#2a3f5f"
          },
          "geo": {
           "bgcolor": "white",
           "lakecolor": "white",
           "landcolor": "#E5ECF6",
           "showlakes": true,
           "showland": true,
           "subunitcolor": "white"
          },
          "hoverlabel": {
           "align": "left"
          },
          "hovermode": "closest",
          "mapbox": {
           "style": "light"
          },
          "paper_bgcolor": "white",
          "plot_bgcolor": "#E5ECF6",
          "polar": {
           "angularaxis": {
            "gridcolor": "white",
            "linecolor": "white",
            "ticks": ""
           },
           "bgcolor": "#E5ECF6",
           "radialaxis": {
            "gridcolor": "white",
            "linecolor": "white",
            "ticks": ""
           }
          },
          "scene": {
           "xaxis": {
            "backgroundcolor": "#E5ECF6",
            "gridcolor": "white",
            "gridwidth": 2,
            "linecolor": "white",
            "showbackground": true,
            "ticks": "",
            "zerolinecolor": "white"
           },
           "yaxis": {
            "backgroundcolor": "#E5ECF6",
            "gridcolor": "white",
            "gridwidth": 2,
            "linecolor": "white",
            "showbackground": true,
            "ticks": "",
            "zerolinecolor": "white"
           },
           "zaxis": {
            "backgroundcolor": "#E5ECF6",
            "gridcolor": "white",
            "gridwidth": 2,
            "linecolor": "white",
            "showbackground": true,
            "ticks": "",
            "zerolinecolor": "white"
           }
          },
          "shapedefaults": {
           "line": {
            "color": "#2a3f5f"
           }
          },
          "ternary": {
           "aaxis": {
            "gridcolor": "white",
            "linecolor": "white",
            "ticks": ""
           },
           "baxis": {
            "gridcolor": "white",
            "linecolor": "white",
            "ticks": ""
           },
           "bgcolor": "#E5ECF6",
           "caxis": {
            "gridcolor": "white",
            "linecolor": "white",
            "ticks": ""
           }
          },
          "title": {
           "x": 0.05
          },
          "xaxis": {
           "automargin": true,
           "gridcolor": "white",
           "linecolor": "white",
           "ticks": "",
           "title": {
            "standoff": 15
           },
           "zerolinecolor": "white",
           "zerolinewidth": 2
          },
          "yaxis": {
           "automargin": true,
           "gridcolor": "white",
           "linecolor": "white",
           "ticks": "",
           "title": {
            "standoff": 15
           },
           "zerolinecolor": "white",
           "zerolinewidth": 2
          }
         }
        },
        "title": {
         "text": "Real vs. Previsto (Ridge Regression)"
        }
       }
      }
     },
     "metadata": {},
     "output_type": "display_data"
    }
   ],
   "source": [
    "fig = go.Figure(data=[\n",
    "    go.Scatter(name='Previsto',x=df_r['data'], y=pred_bfs, marker={'color': 'orange'}),\n",
    "    go.Scatter(name='Real', x=df_r['data'], y=y_r, marker={'color': 'gray'})\n",
    "    ])\n",
    "fig.update_layout(font=dict(color='black'), title_text='Real vs. Previsto (Ridge Regression)')\n",
    "fig.show()"
   ]
  }
 ],
 "metadata": {
  "kernelspec": {
   "display_name": "Python 3.9.12 ('base')",
   "language": "python",
   "name": "python3"
  },
  "language_info": {
   "codemirror_mode": {
    "name": "ipython",
    "version": 3
   },
   "file_extension": ".py",
   "mimetype": "text/x-python",
   "name": "python",
   "nbconvert_exporter": "python",
   "pygments_lexer": "ipython3",
   "version": "3.9.12"
  },
  "orig_nbformat": 4,
  "vscode": {
   "interpreter": {
    "hash": "21092cf6c725eea58795aaae078f12755daaaf957912a2c5aa09910e58ee6873"
   }
  }
 },
 "nbformat": 4,
 "nbformat_minor": 2
}
